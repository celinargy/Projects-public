{
 "cells": [
  {
   "cell_type": "markdown",
   "metadata": {},
   "source": [
    "# Predicting Real Estate Data in St. Petersburg\n",
    "\n",
    "This project was made in the scope of our Business Analytics and Big Data class at the Graduate School of Management (SPBU). Our class was led by a former head of product at Yandex.\n",
    "\n",
    "The data is from Yandex.Realty classified https://realty.yandex.ru and contains real estate listings for apartments in St. Petersburg from 2016 till the middle of August 2018. \n",
    "\n",
    "The aim of this project was to apply machine learning algorithms to solve business problems. Accurate price prediction helps to find fraud automatically.\n",
    "\n",
    "In this project, I have successfully accomplished the following tasks:\n",
    "\n",
    "✅ Data science: using ML algorithms (CatBooster) to predict sale prices using historical data\n",
    "\n",
    "✅ Data science: Calculate metrics to find out whether our ML model is ready for production\n",
    "\n",
    "✅ Data analysis: perform statistical calculations (MSE and MAPE), exploratory data analysis\n",
    "\n",
    "✅ Data engineering : Prepare datasets for machine learning algorithms\n",
    "\n",
    "\n",
    "## Steps to accomplish \n",
    "1) Clean dataset\n",
    "2) Split dataset to test, train and validation datasets\n",
    "3) Apply decision tree algorithm to build ML model for price predictions\n",
    "4) Calculate business metrics"
   ]
  },
  {
   "cell_type": "code",
   "execution_count": 3,
   "metadata": {},
   "outputs": [],
   "source": [
    "import pandas as pd\n",
    "pd.set_option('display.max_columns', 500)\n",
    "pd.set_option('display.width', 1000)\n",
    "pd.set_option('display.max_colwidth', 1000)\n",
    "import math\n",
    "from sklearn.metrics import mean_squared_error"
   ]
  },
  {
   "cell_type": "code",
   "execution_count": 8,
   "metadata": {},
   "outputs": [],
   "source": [
    "spb_df = pd.read_csv(r'./data/spb.real.estate.archive.2018.csv')\n",
    "spb_df.sample(5)"
   ]
  },
  {
   "cell_type": "markdown",
   "metadata": {},
   "source": [
    "<p>We use the results of the real estate analysis notebook\n",
    "<p>Reminder: offer_type column contains data to distinct rent from sell items: 2 stands for RENT, 1 for SELL"
   ]
  },
  {
   "cell_type": "code",
   "execution_count": 11,
   "metadata": {},
   "outputs": [
    {
     "name": "stdout",
     "output_type": "stream",
     "text": [
      "Total rent data size: 171186\n",
      "Rent data size in city limits: 156054\n"
     ]
    },
    {
     "name": "stderr",
     "output_type": "stream",
     "text": [
      "C:\\Users\\celin\\AppData\\Local\\Temp\\ipykernel_15116\\2569644463.py:6: SettingWithCopyWarning: \n",
      "A value is trying to be set on a copy of a slice from a DataFrame.\n",
      "Try using .loc[row_indexer,col_indexer] = value instead\n",
      "\n",
      "See the caveats in the documentation: https://pandas.pydata.org/pandas-docs/stable/user_guide/indexing.html#returning-a-view-versus-a-copy\n",
      "  rent_df_spb['price_per_sq_m'] = rent_df_spb.last_price/rent_df.area\n"
     ]
    }
   ],
   "source": [
    "rent_df = spb_df[spb_df.offer_type == 2]\n",
    "print(\"Total rent data size: {}\".format(len(rent_df)))\n",
    "rent_df_spb = rent_df[rent_df.unified_address.str.contains('Россия, Санкт-Петербург')]\n",
    "print(\"Rent data size in city limits: {}\".format(len(rent_df_spb)))\n",
    "# calculate price per sq m\n",
    "rent_df_spb['price_per_sq_m'] = rent_df_spb.last_price/rent_df.area\n",
    "house_rent_df = rent_df_spb.groupby('unified_address').price_per_sq_m.median().reset_index()\n",
    "house_rent_df.rename(columns = {'price_per_sq_m': 'house_price_sqm_median'}, inplace = True)\n",
    "rent_df_spb = rent_df_spb.merge(house_rent_df)"
   ]
  },
  {
   "cell_type": "code",
   "execution_count": 12,
   "metadata": {},
   "outputs": [],
   "source": [
    "rent_df_cleaned = rent_df_spb[~((rent_df_spb.price_per_sq_m/rent_df_spb.house_price_sqm_median) > 5)]\n",
    "rent_df_cleaned = rent_df_cleaned[rent_df_cleaned.last_price < 1000000]\n",
    "rent_df_cleaned = rent_df_cleaned[~((rent_df_cleaned.price_per_sq_m > 3000) \n",
    "                                     & ((rent_df_cleaned.house_price_sqm_median < 1000) \n",
    "                                        | (rent_df_cleaned.house_price_sqm_median == rent_df_cleaned.price_per_sq_m)))]\n",
    "rent_df_cleaned = rent_df_cleaned[~((rent_df_cleaned.price_per_sq_m < 250) \n",
    "                               & (rent_df_cleaned.house_price_sqm_median/rent_df_cleaned.price_per_sq_m >= 2))]\n",
    "rent_df_cleaned = rent_df_cleaned[~((rent_df_cleaned.price_per_sq_m < 200) \n",
    "                                          & (rent_df_cleaned.price_per_sq_m == rent_df_cleaned.house_price_sqm_median))]"
   ]
  },
  {
   "cell_type": "markdown",
   "metadata": {},
   "source": [
    "## train, test and holdout datasets\n",
    "We need a holdout dataset to assess the final quality of the algorithm.\n",
    "\n",
    "Testing dataset can be used to test models and tune the hyperparameters.\n",
    "\n",
    "Since our model will be used to predict prices for new offers based on the old data, it's a good option to select split by time instead of just random split."
   ]
  },
  {
   "cell_type": "code",
   "execution_count": 13,
   "metadata": {},
   "outputs": [
    {
     "name": "stderr",
     "output_type": "stream",
     "text": [
      "C:\\Users\\celin\\AppData\\Local\\Temp\\ipykernel_15116\\4028390186.py:3: UserWarning: Boolean Series key will be reindexed to match DataFrame index.\n",
      "  train_df = rent_df_cleaned[(rent_df_spb.first_day_exposition >= '2018-01-01')\n"
     ]
    },
    {
     "data": {
      "text/plain": [
       "17007"
      ]
     },
     "execution_count": 13,
     "metadata": {},
     "output_type": "execute_result"
    }
   ],
   "source": [
    "# select all offers added the first 3 months of 2018 as train dataset.\n",
    "# conditions in bracket to circle the right priority of operations\n",
    "train_df = rent_df_cleaned[(rent_df_spb.first_day_exposition >= '2018-01-01') \n",
    "                          & (rent_df_spb.first_day_exposition < '2018-04-01')]\n",
    "len(train_df)"
   ]
  },
  {
   "cell_type": "code",
   "execution_count": 14,
   "metadata": {},
   "outputs": [
    {
     "name": "stderr",
     "output_type": "stream",
     "text": [
      "C:\\Users\\celin\\AppData\\Local\\Temp\\ipykernel_15116\\4191609492.py:2: UserWarning: Boolean Series key will be reindexed to match DataFrame index.\n",
      "  test_df = rent_df_cleaned[(rent_df_spb.first_day_exposition >= '2018-04-01')\n"
     ]
    }
   ],
   "source": [
    "# all offers added in april and may 2018 as test dataset\n",
    "test_df = rent_df_cleaned[(rent_df_spb.first_day_exposition >= '2018-04-01') \n",
    "                          & (rent_df_spb.first_day_exposition < '2018-06-01')]\n",
    "len(test_df)"
   ]
  },
  {
   "cell_type": "code",
   "execution_count": 15,
   "metadata": {},
   "outputs": [
    {
     "name": "stderr",
     "output_type": "stream",
     "text": [
      "C:\\Users\\celin\\AppData\\Local\\Temp\\ipykernel_15116\\3488993232.py:2: UserWarning: Boolean Series key will be reindexed to match DataFrame index.\n",
      "  holdout_df = rent_df_cleaned[rent_df_spb.first_day_exposition >= '2018-06-01']\n"
     ]
    }
   ],
   "source": [
    "# data from 2018-06-01 as a hodout dataset to simulate how algorithms would work in production\n",
    "holdout_df = rent_df_cleaned[rent_df_spb.first_day_exposition >= '2018-06-01']\n",
    "len(holdout_df)"
   ]
  },
  {
   "cell_type": "code",
   "execution_count": 17,
   "metadata": {},
   "outputs": [
    {
     "name": "stderr",
     "output_type": "stream",
     "text": [
      "C:\\Users\\celin\\AppData\\Local\\Temp\\ipykernel_15116\\3338857183.py:1: UserWarning: Boolean Series key will be reindexed to match DataFrame index.\n",
      "  test_df = rent_df_cleaned[rent_df_spb.first_day_exposition < '2018-04-01']\n"
     ]
    },
    {
     "data": {
      "text/plain": [
       "119694"
      ]
     },
     "execution_count": 17,
     "metadata": {},
     "output_type": "execute_result"
    }
   ],
   "source": [
    "test_df = rent_df_cleaned[rent_df_spb.first_day_exposition < '2018-04-01']\n",
    "len(test_df)"
   ]
  },
  {
   "cell_type": "markdown",
   "metadata": {},
   "source": [
    "## ML model (CatBoost) and business metrics\n",
    "\n",
    "Creatings functions to test our model using appropriate business metrics"
   ]
  },
  {
   "cell_type": "code",
   "execution_count": 32,
   "metadata": {},
   "outputs": [
    {
     "name": "stdout",
     "output_type": "stream",
     "text": [
      "\u001b[1;31mCall signature:\u001b[0m  \u001b[0mnp\u001b[0m\u001b[1;33m.\u001b[0m\u001b[0mabs\u001b[0m\u001b[1;33m(\u001b[0m\u001b[1;33m*\u001b[0m\u001b[0margs\u001b[0m\u001b[1;33m,\u001b[0m \u001b[1;33m**\u001b[0m\u001b[0mkwargs\u001b[0m\u001b[1;33m)\u001b[0m\u001b[1;33m\u001b[0m\u001b[1;33m\u001b[0m\u001b[0m\n",
      "\u001b[1;31mType:\u001b[0m            ufunc\n",
      "\u001b[1;31mString form:\u001b[0m     <ufunc 'absolute'>\n",
      "\u001b[1;31mFile:\u001b[0m            c:\\users\\celin\\appdata\\local\\programs\\python\\python311\\lib\\site-packages\\numpy\\__init__.py\n",
      "\u001b[1;31mDocstring:\u001b[0m      \n",
      "absolute(x, /, out=None, *, where=True, casting='same_kind', order='K', dtype=None, subok=True[, signature, extobj])\n",
      "\n",
      "Calculate the absolute value element-wise.\n",
      "\n",
      "``np.abs`` is a shorthand for this function.\n",
      "\n",
      "Parameters\n",
      "----------\n",
      "x : array_like\n",
      "    Input array.\n",
      "out : ndarray, None, or tuple of ndarray and None, optional\n",
      "    A location into which the result is stored. If provided, it must have\n",
      "    a shape that the inputs broadcast to. If not provided or None,\n",
      "    a freshly-allocated array is returned. A tuple (possible only as a\n",
      "    keyword argument) must have length equal to the number of outputs.\n",
      "where : array_like, optional\n",
      "    This condition is broadcast over the input. At locations where the\n",
      "    condition is True, the `out` array will be set to the ufunc result.\n",
      "    Elsewhere, the `out` array will retain its original value.\n",
      "    Note that if an uninitialized `out` array is created via the default\n",
      "    ``out=None``, locations within it where the condition is False will\n",
      "    remain uninitialized.\n",
      "**kwargs\n",
      "    For other keyword-only arguments, see the\n",
      "    :ref:`ufunc docs <ufuncs.kwargs>`.\n",
      "\n",
      "Returns\n",
      "-------\n",
      "absolute : ndarray\n",
      "    An ndarray containing the absolute value of\n",
      "    each element in `x`.  For complex input, ``a + ib``, the\n",
      "    absolute value is :math:`\\sqrt{ a^2 + b^2 }`.\n",
      "    This is a scalar if `x` is a scalar.\n",
      "\n",
      "Examples\n",
      "--------\n",
      ">>> x = np.array([-1.2, 1.2])\n",
      ">>> np.absolute(x)\n",
      "array([ 1.2,  1.2])\n",
      ">>> np.absolute(1.2 + 1j)\n",
      "1.5620499351813308\n",
      "\n",
      "Plot the function over ``[-10, 10]``:\n",
      "\n",
      ">>> import matplotlib.pyplot as plt\n",
      "\n",
      ">>> x = np.linspace(start=-10, stop=10, num=101)\n",
      ">>> plt.plot(x, np.absolute(x))\n",
      ">>> plt.show()\n",
      "\n",
      "Plot the function over the complex plane:\n",
      "\n",
      ">>> xx = x + 1j * x[:, np.newaxis]\n",
      ">>> plt.imshow(np.abs(xx), extent=[-10, 10, -10, 10], cmap='gray')\n",
      ">>> plt.show()\n",
      "\n",
      "The `abs` function can be used as a shorthand for ``np.absolute`` on\n",
      "ndarrays.\n",
      "\n",
      ">>> x = np.array([-1.2, 1.2])\n",
      ">>> abs(x)\n",
      "array([1.2, 1.2])\n",
      "\u001b[1;31mClass docstring:\u001b[0m\n",
      "Functions that operate element by element on whole arrays.\n",
      "\n",
      "To see the documentation for a specific ufunc, use `info`.  For\n",
      "example, ``np.info(np.sin)``.  Because ufuncs are written in C\n",
      "(for speed) and linked into Python with NumPy's ufunc facility,\n",
      "Python's help() function finds this page whenever help() is called\n",
      "on a ufunc.\n",
      "\n",
      "A detailed explanation of ufuncs can be found in the docs for :ref:`ufuncs`.\n",
      "\n",
      "**Calling ufuncs:** ``op(*x[, out], where=True, **kwargs)``\n",
      "\n",
      "Apply `op` to the arguments `*x` elementwise, broadcasting the arguments.\n",
      "\n",
      "The broadcasting rules are:\n",
      "\n",
      "* Dimensions of length 1 may be prepended to either array.\n",
      "* Arrays may be repeated along dimensions of length 1.\n",
      "\n",
      "Parameters\n",
      "----------\n",
      "*x : array_like\n",
      "    Input arrays.\n",
      "out : ndarray, None, or tuple of ndarray and None, optional\n",
      "    Alternate array object(s) in which to put the result; if provided, it\n",
      "    must have a shape that the inputs broadcast to. A tuple of arrays\n",
      "    (possible only as a keyword argument) must have length equal to the\n",
      "    number of outputs; use None for uninitialized outputs to be\n",
      "    allocated by the ufunc.\n",
      "where : array_like, optional\n",
      "    This condition is broadcast over the input. At locations where the\n",
      "    condition is True, the `out` array will be set to the ufunc result.\n",
      "    Elsewhere, the `out` array will retain its original value.\n",
      "    Note that if an uninitialized `out` array is created via the default\n",
      "    ``out=None``, locations within it where the condition is False will\n",
      "    remain uninitialized.\n",
      "**kwargs\n",
      "    For other keyword-only arguments, see the :ref:`ufunc docs <ufuncs.kwargs>`.\n",
      "\n",
      "Returns\n",
      "-------\n",
      "r : ndarray or tuple of ndarray\n",
      "    `r` will have the shape that the arrays in `x` broadcast to; if `out` is\n",
      "    provided, it will be returned. If not, `r` will be allocated and\n",
      "    may contain uninitialized values. If the function has more than one\n",
      "    output, then the result will be a tuple of arrays."
     ]
    }
   ],
   "source": [
    "import numpy as np\n",
    "np.abs?"
   ]
  },
  {
   "cell_type": "code",
   "execution_count": 18,
   "metadata": {},
   "outputs": [],
   "source": [
    "# MAPE - mean absolute percentage error (no standard module in sklearn)\n",
    "def mean_absolute_percentage_error(y_true, y_pred): \n",
    "    # np.array to make an array out of pd.Series object passed \n",
    "    y_true, y_pred = np.array(y_true), np.array(y_pred)\n",
    "    \n",
    "    # calculate how much predicted price differ from real price \n",
    "    # np.abs = absolute value element-wise\n",
    "    diff_true_pred_ration = np.abs((y_true - y_pred) / y_true)\n",
    "    # calculate mean value of the difference ratios across all items\n",
    "    return np.mean(diff_true_pred_ration) * 100"
   ]
  },
  {
   "cell_type": "code",
   "execution_count": 19,
   "metadata": {},
   "outputs": [],
   "source": [
    "# import math library which we'll need later for calculating metrics\n",
    "import math\n",
    "# import functions for calculating metrics from sklearn library\n",
    "from sklearn.metrics import mean_squared_error\n",
    "from sklearn.metrics import mean_absolute_error\n",
    "from sklearn.metrics import r2_score\n",
    "r2_score?"
   ]
  },
  {
   "cell_type": "code",
   "execution_count": 21,
   "metadata": {},
   "outputs": [
    {
     "name": "stdout",
     "output_type": "stream",
     "text": [
      "22000\n",
      "22000\n",
      "23000\n",
      "23000\n"
     ]
    }
   ],
   "source": [
    "# create an utility functions to round prices to 1000 rubles\n",
    "def round_price_to_1000_rubles(price):\n",
    "    return int((price + 500) / 1000) * 1000\n",
    "# test whether this function works correctly\n",
    "print(round_price_to_1000_rubles(22000))\n",
    "print(round_price_to_1000_rubles(22300))\n",
    "print(round_price_to_1000_rubles(22500))\n",
    "print(round_price_to_1000_rubles(22600))\n"
   ]
  },
  {
   "cell_type": "code",
   "execution_count": 22,
   "metadata": {},
   "outputs": [],
   "source": [
    "# function to test the model passed datasets and prints all important business metrics\n",
    "# analysts might also look at RMSE (root mean squared error), R2_score, MAE (mean average error) to compare the models\n",
    "def test_model(model, X_test, y_test):\n",
    "    # use model to get predicted results on the passed dataset\n",
    "    y_pred = model.predict(X_test)\n",
    "    \n",
    "    # round predicted prices to 1000 rubles\n",
    "    # call list so that map function applies passed function to each element in y_pred array\n",
    "    y_pred = list(map(round_price_to_1000_rubles, y_pred))\n",
    "    \n",
    "    # share of error between predicted and real prices\n",
    "    # zip function returns a list of tuples of elements of the same index from 2 lists of the same size\n",
    "    error_percents = list(((math.fabs(pred - test) / test) for (pred, test) in zip(y_pred, y_test.values)))\n",
    "    \n",
    "    # print out all metrics for analysis and model comparisons\n",
    "    print(\" \")\n",
    "    print(\"rmse: \" + str(math.sqrt(mean_squared_error(y_test, y_pred))) + \"  \")\n",
    "    print(\"r2_score: \" + str(r2_score(y_test, y_pred)) + \"  \")\n",
    "    print(\"mae: \" + str(mean_absolute_error(y_test, y_pred)) + \"  \")\n",
    "    print(\"mape: \" + str(mean_absolute_percentage_error(y_test, y_pred)) + \"  \")\n",
    "    \n",
    "    # print out which maximum error we have for each percentile\n",
    "    for percent in [50, 83, 90, 95, 99]:\n",
    "        print(str(percent) + \" percentile: %.1f%%\" % (np.percentile(error_percents, percent) * 100.0))\n",
    "    return y_pred, error_percents\n"
   ]
  },
  {
   "cell_type": "markdown",
   "metadata": {},
   "source": [
    "#### Define function which will build catboost model and calculate quality metrics on test dataset"
   ]
  },
  {
   "cell_type": "code",
   "execution_count": 24,
   "metadata": {},
   "outputs": [],
   "source": [
    "# import ML method for regression from catboost library\n",
    "from catboost import CatBoostRegressor\n",
    "# train catboost regression model on the passed training data and return final trained model\n",
    "def train_catboost_model(X_train, y_train, \n",
    "                         learning_rate=0.08,\n",
    "                         n_estimators=1500,\n",
    "                         max_depth=7,\n",
    "                         nthread=10,\n",
    "                         seed=27):\n",
    "    # create the catBoost machine learning model\n",
    "    model = CatBoostRegressor(iterations=n_estimators, \n",
    "                                 depth=max_depth,\n",
    "                                 learning_rate=learning_rate,\n",
    "                                 logging_level='Silent',\n",
    "                                 thread_count=nthread,\n",
    "                                 random_seed=seed)\n",
    "    # train the model on training dataset\n",
    "    model.fit(X_train, y_train)\n",
    "    return model\n",
    "    "
   ]
  },
  {
   "cell_type": "code",
   "execution_count": 27,
   "metadata": {},
   "outputs": [],
   "source": [
    "# list of data we can use to predict apartment prices\n",
    "list(rent_df_cleaned)\n",
    "factors = ['floor', 'open_plan', 'rooms', 'studio', \n",
    "         'area', 'kitchen_area', 'living_area', 'renovation' ]"
   ]
  },
  {
   "cell_type": "code",
   "execution_count": 28,
   "metadata": {},
   "outputs": [
    {
     "data": {
      "text/html": [
       "<div>\n",
       "<style scoped>\n",
       "    .dataframe tbody tr th:only-of-type {\n",
       "        vertical-align: middle;\n",
       "    }\n",
       "\n",
       "    .dataframe tbody tr th {\n",
       "        vertical-align: top;\n",
       "    }\n",
       "\n",
       "    .dataframe thead th {\n",
       "        text-align: right;\n",
       "    }\n",
       "</style>\n",
       "<table border=\"1\" class=\"dataframe\">\n",
       "  <thead>\n",
       "    <tr style=\"text-align: right;\">\n",
       "      <th></th>\n",
       "      <th>floor</th>\n",
       "      <th>open_plan</th>\n",
       "      <th>rooms</th>\n",
       "      <th>studio</th>\n",
       "      <th>area</th>\n",
       "      <th>kitchen_area</th>\n",
       "      <th>living_area</th>\n",
       "      <th>renovation</th>\n",
       "    </tr>\n",
       "  </thead>\n",
       "  <tbody>\n",
       "    <tr>\n",
       "      <th>8</th>\n",
       "      <td>12</td>\n",
       "      <td>False</td>\n",
       "      <td>1</td>\n",
       "      <td>False</td>\n",
       "      <td>36.0</td>\n",
       "      <td>NaN</td>\n",
       "      <td>NaN</td>\n",
       "      <td>NaN</td>\n",
       "    </tr>\n",
       "    <tr>\n",
       "      <th>24</th>\n",
       "      <td>9</td>\n",
       "      <td>False</td>\n",
       "      <td>1</td>\n",
       "      <td>False</td>\n",
       "      <td>32.0</td>\n",
       "      <td>7.0</td>\n",
       "      <td>18.0</td>\n",
       "      <td>1.0</td>\n",
       "    </tr>\n",
       "    <tr>\n",
       "      <th>25</th>\n",
       "      <td>4</td>\n",
       "      <td>False</td>\n",
       "      <td>1</td>\n",
       "      <td>False</td>\n",
       "      <td>38.0</td>\n",
       "      <td>8.0</td>\n",
       "      <td>18.0</td>\n",
       "      <td>NaN</td>\n",
       "    </tr>\n",
       "    <tr>\n",
       "      <th>26</th>\n",
       "      <td>12</td>\n",
       "      <td>False</td>\n",
       "      <td>1</td>\n",
       "      <td>False</td>\n",
       "      <td>32.0</td>\n",
       "      <td>NaN</td>\n",
       "      <td>NaN</td>\n",
       "      <td>NaN</td>\n",
       "    </tr>\n",
       "    <tr>\n",
       "      <th>27</th>\n",
       "      <td>5</td>\n",
       "      <td>False</td>\n",
       "      <td>1</td>\n",
       "      <td>False</td>\n",
       "      <td>32.0</td>\n",
       "      <td>7.0</td>\n",
       "      <td>20.0</td>\n",
       "      <td>NaN</td>\n",
       "    </tr>\n",
       "  </tbody>\n",
       "</table>\n",
       "</div>"
      ],
      "text/plain": [
       "    floor  open_plan  rooms  studio  area  kitchen_area  living_area  renovation\n",
       "8      12      False      1   False  36.0           NaN          NaN         NaN\n",
       "24      9      False      1   False  32.0           7.0         18.0         1.0\n",
       "25      4      False      1   False  38.0           8.0         18.0         NaN\n",
       "26     12      False      1   False  32.0           NaN          NaN         NaN\n",
       "27      5      False      1   False  32.0           7.0         20.0         NaN"
      ]
     },
     "execution_count": 28,
     "metadata": {},
     "output_type": "execute_result"
    }
   ],
   "source": [
    "X_train = train_df[factors]\n",
    "X_train.head()"
   ]
  },
  {
   "cell_type": "code",
   "execution_count": 29,
   "metadata": {},
   "outputs": [
    {
     "data": {
      "text/plain": [
       "8     26000\n",
       "24    17500\n",
       "25    16000\n",
       "26    22000\n",
       "27    20000\n",
       "Name: last_price, dtype: int64"
      ]
     },
     "execution_count": 29,
     "metadata": {},
     "output_type": "execute_result"
    }
   ],
   "source": [
    "y_train = train_df['last_price']\n",
    "y_train.head()"
   ]
  },
  {
   "cell_type": "code",
   "execution_count": 30,
   "metadata": {},
   "outputs": [],
   "source": [
    "# train catboost regression model\n",
    "model = train_catboost_model(X_train, y_train)"
   ]
  },
  {
   "cell_type": "code",
   "execution_count": 33,
   "metadata": {},
   "outputs": [
    {
     "name": "stdout",
     "output_type": "stream",
     "text": [
      " \n",
      "rmse: 6488.727824500219  \n",
      "r2_score: 0.890119967612922  \n",
      "mae: 4323.464044217087  \n",
      "mape: 16.16723662922012  \n",
      "50 percentile: 12.5%\n",
      "83 percentile: 28.0%\n",
      "90 percentile: 35.3%\n",
      "95 percentile: 44.0%\n",
      "99 percentile: 68.8%\n"
     ]
    }
   ],
   "source": [
    "# performance on train data\n",
    "y_pred_train, error_percents_train = test_model(model, X_train, y_train)"
   ]
  },
  {
   "cell_type": "code",
   "execution_count": 34,
   "metadata": {},
   "outputs": [
    {
     "name": "stdout",
     "output_type": "stream",
     "text": [
      " \n",
      "rmse: 16806.90198477168  \n",
      "r2_score: 0.5260486690486061  \n",
      "mae: 9189.6100807058  \n",
      "mape: 26.62274940089377  \n",
      "50 percentile: 18.5%\n",
      "83 percentile: 45.0%\n",
      "90 percentile: 60.0%\n",
      "95 percentile: 80.0%\n",
      "99 percentile: 132.4%\n"
     ]
    }
   ],
   "source": [
    "# performance on testing data\n",
    "X_test = test_df[factors]\n",
    "y_test = test_df.last_price\n",
    "y_pred_test, error_percents_test = test_model(model, X_test, y_test)"
   ]
  }
 ],
 "metadata": {
  "kernelspec": {
   "display_name": "Python 3",
   "language": "python",
   "name": "python3"
  },
  "language_info": {
   "codemirror_mode": {
    "name": "ipython",
    "version": 3
   },
   "file_extension": ".py",
   "mimetype": "text/x-python",
   "name": "python",
   "nbconvert_exporter": "python",
   "pygments_lexer": "ipython3",
   "version": "3.11.3"
  }
 },
 "nbformat": 4,
 "nbformat_minor": 2
}
