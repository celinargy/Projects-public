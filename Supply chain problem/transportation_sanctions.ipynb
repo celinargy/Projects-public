{
 "cells": [
  {
   "cell_type": "markdown",
   "metadata": {},
   "source": [
    "# Supply chain problem\n",
    "This project was part of a consulting project led at the Graduate School of Management at the University of Saint Petersburg (SPbU).\n",
    "\n",
    "Problem: in the post sanction era, the client faced lack of shipping containers and European trucks, difficulty reaching global markets due to restrictions, and unbalanced mill operations.\n",
    "\n",
    "Request: calculate the best transportation allocation post-sanctions, based on 2021 data.\n",
    "\n",
    "Data: list of deliveries for each customer.\n",
    "\n",
    "## Accomplishments\n",
    "In this notebook, I have successfully accomplished the following tasks:\n",
    "\n",
    "✅ Data engineering: standardize features, such as cost, to a single type of currency at a historical rate\n",
    "\n",
    "✅ Data engineering : mill capacity and mill - delivery-point distance calculation using forward geocoding for data collection and using Haversine method for calculation\n",
    "\n",
    "✅ Data analysis : assessing and forecasting performance of several mills under specific circumstances (such as sanctions)\n",
    "\n",
    "✅ Data visualisation : using the abovementionned methods to plot datapoints and using scales to identify strong demand and/or trends\n",
    "\n",
    "## Steps to accomplish\n",
    "1) To sort out which deliveries are still relevant post sanctions. All EU28 countries as well as a handful of non-EU countries will impact the demand.\n",
    "2) To calculate the new allocation of transport per mill depending on the maximum capacity and cost per deliveries.\n",
    "\n",
    "## Notes\n",
    "The data was anonymised for the purpose of this portfolio. Any data related to identifiable sources, such as names, have been transformed. Since the data contains geographic information, some visualisations are hidden. For any questions or enquiries, please contact me by email : celine.argyropoulos@gmail.com"
   ]
  },
  {
   "cell_type": "code",
   "execution_count": 1,
   "metadata": {},
   "outputs": [],
   "source": [
    "import pandas as pd"
   ]
  },
  {
   "cell_type": "code",
   "execution_count": 2,
   "metadata": {},
   "outputs": [
    {
     "name": "stdout",
     "output_type": "stream",
     "text": [
      "                cost      order_id\n",
      "count   12967.000000  1.296700e+04\n",
      "mean    15215.164494  8.769522e+06\n",
      "std     24621.476914  3.282550e+06\n",
      "min       375.000000  9.552140e+05\n",
      "25%      1900.000000  1.008156e+07\n",
      "50%      2550.000000  1.013192e+07\n",
      "75%     17000.000000  1.018170e+07\n",
      "max    175000.000000  1.023331e+07\n"
     ]
    },
    {
     "data": {
      "text/html": [
       "<div>\n",
       "<style scoped>\n",
       "    .dataframe tbody tr th:only-of-type {\n",
       "        vertical-align: middle;\n",
       "    }\n",
       "\n",
       "    .dataframe tbody tr th {\n",
       "        vertical-align: top;\n",
       "    }\n",
       "\n",
       "    .dataframe thead th {\n",
       "        text-align: right;\n",
       "    }\n",
       "</style>\n",
       "<table border=\"1\" class=\"dataframe\">\n",
       "  <thead>\n",
       "    <tr style=\"text-align: right;\">\n",
       "      <th></th>\n",
       "      <th>mill</th>\n",
       "      <th>country_delivery</th>\n",
       "      <th>country</th>\n",
       "      <th>delivery_point</th>\n",
       "      <th>cost</th>\n",
       "      <th>order_id</th>\n",
       "      <th>month_order</th>\n",
       "    </tr>\n",
       "  </thead>\n",
       "  <tbody>\n",
       "    <tr>\n",
       "      <th>0</th>\n",
       "      <td>Hobart</td>\n",
       "      <td>AU</td>\n",
       "      <td>Australia</td>\n",
       "      <td>Nowra</td>\n",
       "      <td>175000</td>\n",
       "      <td>10226209</td>\n",
       "      <td>November</td>\n",
       "    </tr>\n",
       "    <tr>\n",
       "      <th>1</th>\n",
       "      <td>Hobart</td>\n",
       "      <td>AU</td>\n",
       "      <td>Australia</td>\n",
       "      <td>Nowra</td>\n",
       "      <td>175000</td>\n",
       "      <td>10226230</td>\n",
       "      <td>November</td>\n",
       "    </tr>\n",
       "    <tr>\n",
       "      <th>2</th>\n",
       "      <td>Darwin</td>\n",
       "      <td>AU</td>\n",
       "      <td>Australia</td>\n",
       "      <td>Newcastle</td>\n",
       "      <td>171000</td>\n",
       "      <td>10206123</td>\n",
       "      <td>October</td>\n",
       "    </tr>\n",
       "    <tr>\n",
       "      <th>3</th>\n",
       "      <td>Darwin</td>\n",
       "      <td>AU</td>\n",
       "      <td>Australia</td>\n",
       "      <td>Newcastle</td>\n",
       "      <td>171000</td>\n",
       "      <td>10185874</td>\n",
       "      <td>September</td>\n",
       "    </tr>\n",
       "    <tr>\n",
       "      <th>4</th>\n",
       "      <td>Darwin</td>\n",
       "      <td>AU</td>\n",
       "      <td>Australia</td>\n",
       "      <td>North-west</td>\n",
       "      <td>170000</td>\n",
       "      <td>10176556</td>\n",
       "      <td>August</td>\n",
       "    </tr>\n",
       "  </tbody>\n",
       "</table>\n",
       "</div>"
      ],
      "text/plain": [
       "     mill country_delivery    country delivery_point    cost  order_id   \n",
       "0  Hobart               AU  Australia          Nowra  175000  10226209  \\\n",
       "1  Hobart               AU  Australia          Nowra  175000  10226230   \n",
       "2  Darwin               AU  Australia      Newcastle  171000  10206123   \n",
       "3  Darwin               AU  Australia      Newcastle  171000  10185874   \n",
       "4  Darwin               AU  Australia     North-west  170000  10176556   \n",
       "\n",
       "  month_order  \n",
       "0    November  \n",
       "1    November  \n",
       "2     October  \n",
       "3   September  \n",
       "4      August  "
      ]
     },
     "execution_count": 2,
     "metadata": {},
     "output_type": "execute_result"
    }
   ],
   "source": [
    "# Checking the data\n",
    "df = pd.read_excel(r'./data/transportation_data.xlsx')\n",
    "print(df.describe())\n",
    "df.head()"
   ]
  },
  {
   "cell_type": "code",
   "execution_count": 3,
   "metadata": {},
   "outputs": [
    {
     "name": "stdout",
     "output_type": "stream",
     "text": [
      "mill                object\n",
      "country_delivery    object\n",
      "country             object\n",
      "delivery_point      object\n",
      "cost                 int64\n",
      "order_id             int64\n",
      "month_order         object\n",
      "dtype: object\n",
      "Missing values:  \n",
      " mill                0\n",
      "country_delivery    0\n",
      "country             0\n",
      "delivery_point      0\n",
      "cost                0\n",
      "order_id            0\n",
      "month_order         0\n",
      "dtype: int64\n",
      "mill 0 False int64\n",
      "['Hobart' 'Darwin' 'Canberra' 'Adelaide' 'Perth' 'Brisbane' 'Melbourne']\n"
     ]
    }
   ],
   "source": [
    "# check missing values\n",
    "print(df.dtypes)\n",
    "print(\"Missing values: \",'\\n',df.isnull().sum())\n",
    "# check unique values\n",
    "order_id_missing = df['order_id'].isnull().sum()\n",
    "order_id_unique = df['order_id'].is_unique\n",
    "order_id_type = df['order_id'].dtype\n",
    "print(df.columns[0],order_id_missing, order_id_unique,order_id_type)\n",
    "# list of mills\n",
    "print(df['mill'].unique())"
   ]
  },
  {
   "cell_type": "code",
   "execution_count": 4,
   "metadata": {},
   "outputs": [
    {
     "data": {
      "text/plain": [
       "array(['Australia', 'China', 'United States', 'Albania', 'Norway',\n",
       "       'Switzerland', 'Serbia', 'Turkey', 'Bosnia and Herzegovina',\n",
       "       'Uzbekistan', 'Belarus'], dtype=object)"
      ]
     },
     "execution_count": 4,
     "metadata": {},
     "output_type": "execute_result"
    }
   ],
   "source": [
    "# Find out which non-EU countries joined EU sanctions\n",
    "# !pip install country_converter\n",
    "import country_converter as coco\n",
    "cc = coco.CountryConverter()\n",
    "df['EU'] = cc.pandas_convert(series=df['country_delivery'], to='EU')\n",
    "# Filter values of non-EU countries\n",
    "df['country'].loc[df['EU'] == 'not found'].unique()"
   ]
  },
  {
   "cell_type": "code",
   "execution_count": 5,
   "metadata": {},
   "outputs": [],
   "source": [
    "# add countries which joinded the sanctions\n",
    "selected_countries = ['Albania', 'Bosnia and Herzegovina', 'Switzerland', 'Norway', 'United States']\n",
    "df['sanctions'] = df['country'].isin(selected_countries) | (df['EU'] == 'EU')\n",
    "df['sanctions'].fillna(value=False, inplace=True)\n",
    "#add currency in separate column\n",
    "df.loc[(df['country'] !='Australia'), 'currency'] = 'EUR'\n",
    "df.loc[(df['country'] =='Australia'), 'currency'] = 'AUD'"
   ]
  },
  {
   "cell_type": "markdown",
   "metadata": {},
   "source": [
    "## Mill capacity\n",
    "\n",
    "Objective : define actual costs in order to assess the redistribution of the supply chain. \n",
    "\n",
    "Capacity is used as a proxy : each row per factory is considered as a unit of capacity. Therefore, we count the total deliveries per mill and calculate the percentage of sanctioned deliveries, per mill, out of total capacity"
   ]
  },
  {
   "cell_type": "code",
   "execution_count": 6,
   "metadata": {},
   "outputs": [],
   "source": [
    "# Filter orders with sanctions\n",
    "df_sanction = df[~df['sanctions'] == False]\n",
    "sanctioned_delivery = df_sanction.groupby(['mill']).sanctions.count().reset_index()\n",
    "total = df.groupby(['mill']).country.count().reset_index()\n",
    "total.rename(columns = {'country': 'delivery'}, inplace = True)\n",
    "# We count the cost of the sanctioned deliveries\n",
    "cost_sanctioned = df_sanction.groupby(['mill']).cost.sum().reset_index()"
   ]
  },
  {
   "cell_type": "code",
   "execution_count": 7,
   "metadata": {},
   "outputs": [
    {
     "name": "stdout",
     "output_type": "stream",
     "text": [
      "12967\n",
      "12967\n"
     ]
    }
   ],
   "source": [
    "# Assess impact of sanctions\n",
    "performance = sanctioned_delivery.merge(total)\n",
    "performance['percentage_sanctions'] = ((performance.sanctions/performance.delivery)*100).round(1)\n",
    "performance = performance.merge(cost_sanctioned, how='inner')\n",
    "performance.rename(columns = {'cosr': 'cost_sanctions_EUR'}, inplace = True)\n",
    "performance['no_sanction'] = performance.delivery - performance.sanctions\n",
    "#Checking if the numbers of our new table match with our df\n",
    "print(df['mill'].value_counts().sum())\n",
    "print(df['sanctions'].value_counts().sum())"
   ]
  },
  {
   "cell_type": "code",
   "execution_count": 13,
   "metadata": {},
   "outputs": [],
   "source": [
    "# Save data into the excel file\n",
    "# Create a Pandas Excel writer using ExcelWriter\n",
    "with pd.ExcelWriter('./data/df_transportation_data.xlsx', engine='openpyxl') as writer:\n",
    "    # Write the DataFrame to the Excel file\n",
    "    df.to_excel(writer, sheet_name='data', index=False)\n",
    "    # Create a new sheet and write 'no_sanction' data to it\n",
    "    performance.to_excel(writer, sheet_name='performance', index=False)\n"
   ]
  },
  {
   "cell_type": "markdown",
   "metadata": {},
   "source": [
    "## Distance function to assess transportation costs\n",
    "\n",
    "Similar to an optimization function, the aim is to calculate the cost per distance and to use some vizualisation to assess the demand.  \n",
    "\n",
    "SUPPLY: as a proxy, the maximum capacity (sum of number of deliveries) per mill has already been calculated previously. \n",
    "\n",
    "DEMAND: the sum of number of deliveries per destination (non sanctioned) is used as a proxy. \n",
    "\n",
    "COST: We use only our non sanctioned deliveries, the rest is irrelevant for our solution.\n",
    "\n",
    "### Steps to accomplish\n",
    "DEMAND: sum of deliveries per destination not sanctioned\n",
    "\n",
    "COST: convert all in functional currency (RUB) at transaction date (historical rate), and calculate cost per km per mill-destination combination."
   ]
  },
  {
   "cell_type": "code",
   "execution_count": 14,
   "metadata": {},
   "outputs": [
    {
     "data": {
      "text/html": [
       "<div>\n",
       "<style scoped>\n",
       "    .dataframe tbody tr th:only-of-type {\n",
       "        vertical-align: middle;\n",
       "    }\n",
       "\n",
       "    .dataframe tbody tr th {\n",
       "        vertical-align: top;\n",
       "    }\n",
       "\n",
       "    .dataframe thead th {\n",
       "        text-align: right;\n",
       "    }\n",
       "</style>\n",
       "<table border=\"1\" class=\"dataframe\">\n",
       "  <thead>\n",
       "    <tr style=\"text-align: right;\">\n",
       "      <th></th>\n",
       "      <th>mill</th>\n",
       "      <th>country_delivery</th>\n",
       "      <th>country</th>\n",
       "      <th>delivery_point</th>\n",
       "      <th>cost</th>\n",
       "      <th>order_id</th>\n",
       "      <th>month_order</th>\n",
       "      <th>EU</th>\n",
       "      <th>sanctions</th>\n",
       "      <th>currency</th>\n",
       "      <th>day_order</th>\n",
       "    </tr>\n",
       "  </thead>\n",
       "  <tbody>\n",
       "    <tr>\n",
       "      <th>0</th>\n",
       "      <td>Hobart</td>\n",
       "      <td>AU</td>\n",
       "      <td>Australia</td>\n",
       "      <td>Nowra</td>\n",
       "      <td>175000</td>\n",
       "      <td>10226209</td>\n",
       "      <td>November</td>\n",
       "      <td>not found</td>\n",
       "      <td>False</td>\n",
       "      <td>AUD</td>\n",
       "      <td>2021-11-01</td>\n",
       "    </tr>\n",
       "    <tr>\n",
       "      <th>1</th>\n",
       "      <td>Hobart</td>\n",
       "      <td>AU</td>\n",
       "      <td>Australia</td>\n",
       "      <td>Nowra</td>\n",
       "      <td>175000</td>\n",
       "      <td>10226230</td>\n",
       "      <td>November</td>\n",
       "      <td>not found</td>\n",
       "      <td>False</td>\n",
       "      <td>AUD</td>\n",
       "      <td>2021-11-01</td>\n",
       "    </tr>\n",
       "    <tr>\n",
       "      <th>2</th>\n",
       "      <td>Darwin</td>\n",
       "      <td>AU</td>\n",
       "      <td>Australia</td>\n",
       "      <td>Newcastle</td>\n",
       "      <td>171000</td>\n",
       "      <td>10206123</td>\n",
       "      <td>October</td>\n",
       "      <td>not found</td>\n",
       "      <td>False</td>\n",
       "      <td>AUD</td>\n",
       "      <td>2021-10-01</td>\n",
       "    </tr>\n",
       "    <tr>\n",
       "      <th>3</th>\n",
       "      <td>Darwin</td>\n",
       "      <td>AU</td>\n",
       "      <td>Australia</td>\n",
       "      <td>Newcastle</td>\n",
       "      <td>171000</td>\n",
       "      <td>10185874</td>\n",
       "      <td>September</td>\n",
       "      <td>not found</td>\n",
       "      <td>False</td>\n",
       "      <td>AUD</td>\n",
       "      <td>2021-09-01</td>\n",
       "    </tr>\n",
       "    <tr>\n",
       "      <th>4</th>\n",
       "      <td>Darwin</td>\n",
       "      <td>AU</td>\n",
       "      <td>Australia</td>\n",
       "      <td>North-west</td>\n",
       "      <td>170000</td>\n",
       "      <td>10176556</td>\n",
       "      <td>August</td>\n",
       "      <td>not found</td>\n",
       "      <td>False</td>\n",
       "      <td>AUD</td>\n",
       "      <td>2021-08-01</td>\n",
       "    </tr>\n",
       "  </tbody>\n",
       "</table>\n",
       "</div>"
      ],
      "text/plain": [
       "     mill country_delivery    country delivery_point    cost  order_id   \n",
       "0  Hobart               AU  Australia          Nowra  175000  10226209  \\\n",
       "1  Hobart               AU  Australia          Nowra  175000  10226230   \n",
       "2  Darwin               AU  Australia      Newcastle  171000  10206123   \n",
       "3  Darwin               AU  Australia      Newcastle  171000  10185874   \n",
       "4  Darwin               AU  Australia     North-west  170000  10176556   \n",
       "\n",
       "  month_order         EU  sanctions currency  day_order  \n",
       "0    November  not found      False      AUD 2021-11-01  \n",
       "1    November  not found      False      AUD 2021-11-01  \n",
       "2     October  not found      False      AUD 2021-10-01  \n",
       "3   September  not found      False      AUD 2021-09-01  \n",
       "4      August  not found      False      AUD 2021-08-01  "
      ]
     },
     "execution_count": 14,
     "metadata": {},
     "output_type": "execute_result"
    }
   ],
   "source": [
    "#we want to have a correct date formatting. Transform the month into a datetime format and correct the year (because it only contains the month, it sets default to year 1900)\n",
    "df['day_order'] = pd.to_datetime(df['month_order'], format='%B')+pd.DateOffset(years= 121) \n",
    "#We now have our correct date, we can calculate historical XR with a set library\n",
    "df.head()"
   ]
  },
  {
   "cell_type": "code",
   "execution_count": 15,
   "metadata": {},
   "outputs": [
    {
     "name": "stderr",
     "output_type": "stream",
     "text": [
      "  0%|          | 0/12 [00:00<?, ?it/s]"
     ]
    },
    {
     "name": "stderr",
     "output_type": "stream",
     "text": [
      "100%|██████████| 12/12 [00:01<00:00,  6.10it/s]\n"
     ]
    }
   ],
   "source": [
    "from forex_python.converter import CurrencyRates\n",
    "# !pip install forex_python\n",
    "from datetime import datetime\n",
    "c = CurrencyRates()\n",
    "# get rates for all unique dates, added tqdm progress bar to see progress\n",
    "from tqdm import tqdm  \n",
    "rates_dict = pd.DataFrame({date: CurrencyRates().get_rates('EUR', date_obj=pd.to_datetime(date, unit='D'))\n",
    "              for date in tqdm(df['day_order'].unique())})"
   ]
  },
  {
   "cell_type": "code",
   "execution_count": 16,
   "metadata": {},
   "outputs": [],
   "source": [
    "# Using rates to set cost to 1/(AUD to currency_x rate), except when currency is AUD and when servicecost is 0, in those cases just use servicecost\n",
    "rates_aud = rates_dict.T\n",
    "rates_aud = rates_aud.loc[:,['AUD']]\n",
    "rates_aud.index.name = 'day_order'\n",
    "df = df.merge(rates_aud,on='day_order')\n",
    "df.rename(columns = {'AUD': 'XR'}, inplace = True)\n",
    "df.loc[(df['country'] =='Australia'),'XR'] = 1\n"
   ]
  },
  {
   "cell_type": "code",
   "execution_count": 17,
   "metadata": {},
   "outputs": [
    {
     "name": "stdout",
     "output_type": "stream",
     "text": [
      "13\n"
     ]
    },
    {
     "data": {
      "text/plain": [
       "Index(['mill', 'country_delivery', 'country', 'delivery_point', 'cost',\n",
       "       'order_id', 'month_order', 'EU', 'sanctions', 'currency', 'day_order',\n",
       "       'XR', 'cost_AUD'],\n",
       "      dtype='object')"
      ]
     },
     "execution_count": 17,
     "metadata": {},
     "output_type": "execute_result"
    }
   ],
   "source": [
    "# calculate cost in AUD and unify our cost column\n",
    "df['cost_AUD'] = df.cost* df.XR\n",
    "print(df.shape[1])\n",
    "df.columns"
   ]
  },
  {
   "cell_type": "code",
   "execution_count": 18,
   "metadata": {},
   "outputs": [],
   "source": [
    "# Save data into the excel file\n",
    "# Create a Pandas Excel writer using ExcelWriter\n",
    "with pd.ExcelWriter('./data/df_transportation_data.xlsx', engine='openpyxl') as writer:\n",
    "    # Write the DataFrame to the Excel file\n",
    "    df.to_excel(writer, sheet_name='data', index=False)\n",
    "    # Create a new sheet and write 'no_sanction' data to it\n",
    "    performance.to_excel(writer, sheet_name='performance', index=False)"
   ]
  },
  {
   "cell_type": "code",
   "execution_count": 19,
   "metadata": {},
   "outputs": [
    {
     "name": "stdout",
     "output_type": "stream",
     "text": [
      "Nowra\n",
      "East\n",
      "Sydney\n",
      "Ballarat\n",
      "Geelong\n",
      "Armadale\n",
      "Toowoomba\n",
      "Brisbane\n",
      "Berwick\n",
      "South\n",
      "Melbourne\n",
      "Centre\n",
      "Mackay\n",
      "North\n",
      "Werribee\n",
      "Caloundra\n",
      "Blacktown\n",
      "Canberra\n",
      "Wodonga\n",
      "Gomel\n",
      "Newcastle\n",
      "Albury\n",
      "Manturovo\n",
      "Dubbo\n",
      "North-west\n",
      "Sloboda\n",
      "Cairns\n",
      "Rockhampton\n",
      "Shepparton\n",
      "Bendigo\n",
      "Tamworth\n",
      "Melton\n",
      "Bankstown\n",
      "Epping\n",
      "Bunbury\n",
      "Lismore\n",
      "Tashkent\n",
      "Polochany\n",
      "Rockingham\n",
      "Launceston\n",
      "Maitland\n",
      "Kalgoorlie\n",
      "Perth\n"
     ]
    }
   ],
   "source": [
    "#we want to calculate the cost and demand per destination\n",
    "df_no_sanction = df[~df['sanctions'] == True]\n",
    "#remove whitespace, homogenize each delivery zone\n",
    "df_no_sanction['country'] = df_no_sanction['country'].str.strip()\n",
    "df_no_sanction['delivery_point'] = df_no_sanction['delivery_point'].str.strip()\n",
    "#Generating a list to check individually, there are duplicates and formatting errors\n",
    "list_zones = df_no_sanction['delivery_point'].unique()\n",
    "list_inp = list_zones.tolist()\n",
    "for item in list_inp: \n",
    "    print(item) \n",
    "#Create one column to get the combination country-city delivery point\n",
    "df_no_sanction['delivery_zone'] = df_no_sanction['country'].astype(str) + \"_\" + df_no_sanction['delivery_point'].astype(str)"
   ]
  },
  {
   "cell_type": "code",
   "execution_count": 20,
   "metadata": {},
   "outputs": [
    {
     "data": {
      "text/html": [
       "<div>\n",
       "<style scoped>\n",
       "    .dataframe tbody tr th:only-of-type {\n",
       "        vertical-align: middle;\n",
       "    }\n",
       "\n",
       "    .dataframe tbody tr th {\n",
       "        vertical-align: top;\n",
       "    }\n",
       "\n",
       "    .dataframe thead th {\n",
       "        text-align: right;\n",
       "    }\n",
       "</style>\n",
       "<table border=\"1\" class=\"dataframe\">\n",
       "  <thead>\n",
       "    <tr style=\"text-align: right;\">\n",
       "      <th></th>\n",
       "      <th>country</th>\n",
       "      <th>mill</th>\n",
       "      <th>delivery_point</th>\n",
       "      <th>delivery_zone</th>\n",
       "      <th>demand_AUD</th>\n",
       "      <th>amount</th>\n",
       "      <th>delivery</th>\n",
       "      <th>total_country_zone</th>\n",
       "    </tr>\n",
       "  </thead>\n",
       "  <tbody>\n",
       "    <tr>\n",
       "      <th>0</th>\n",
       "      <td>Australia</td>\n",
       "      <td>Adelaide</td>\n",
       "      <td>Armadale</td>\n",
       "      <td>Australia_Armadale</td>\n",
       "      <td>20000.0000</td>\n",
       "      <td>14</td>\n",
       "      <td>1396</td>\n",
       "      <td>84</td>\n",
       "    </tr>\n",
       "    <tr>\n",
       "      <th>1</th>\n",
       "      <td>Australia</td>\n",
       "      <td>Brisbane</td>\n",
       "      <td>Armadale</td>\n",
       "      <td>Australia_Armadale</td>\n",
       "      <td>74000.0000</td>\n",
       "      <td>1</td>\n",
       "      <td>1791</td>\n",
       "      <td>84</td>\n",
       "    </tr>\n",
       "    <tr>\n",
       "      <th>2</th>\n",
       "      <td>Australia</td>\n",
       "      <td>Brisbane</td>\n",
       "      <td>Armadale</td>\n",
       "      <td>Australia_Armadale</td>\n",
       "      <td>96000.0000</td>\n",
       "      <td>2</td>\n",
       "      <td>1791</td>\n",
       "      <td>84</td>\n",
       "    </tr>\n",
       "    <tr>\n",
       "      <th>3</th>\n",
       "      <td>Australia</td>\n",
       "      <td>Brisbane</td>\n",
       "      <td>Armadale</td>\n",
       "      <td>Australia_Armadale</td>\n",
       "      <td>100000.0000</td>\n",
       "      <td>50</td>\n",
       "      <td>1791</td>\n",
       "      <td>84</td>\n",
       "    </tr>\n",
       "    <tr>\n",
       "      <th>4</th>\n",
       "      <td>Australia</td>\n",
       "      <td>Brisbane</td>\n",
       "      <td>Armadale</td>\n",
       "      <td>Australia_Armadale</td>\n",
       "      <td>102000.0000</td>\n",
       "      <td>8</td>\n",
       "      <td>1791</td>\n",
       "      <td>84</td>\n",
       "    </tr>\n",
       "    <tr>\n",
       "      <th>...</th>\n",
       "      <td>...</td>\n",
       "      <td>...</td>\n",
       "      <td>...</td>\n",
       "      <td>...</td>\n",
       "      <td>...</td>\n",
       "      <td>...</td>\n",
       "      <td>...</td>\n",
       "      <td>...</td>\n",
       "    </tr>\n",
       "    <tr>\n",
       "      <th>780</th>\n",
       "      <td>Turkey</td>\n",
       "      <td>Perth</td>\n",
       "      <td>Centre</td>\n",
       "      <td>Turkey_Centre</td>\n",
       "      <td>3099.7200</td>\n",
       "      <td>1</td>\n",
       "      <td>1446</td>\n",
       "      <td>5</td>\n",
       "    </tr>\n",
       "    <tr>\n",
       "      <th>781</th>\n",
       "      <td>Turkey</td>\n",
       "      <td>Melbourne</td>\n",
       "      <td>South</td>\n",
       "      <td>Turkey_South</td>\n",
       "      <td>2518.9835</td>\n",
       "      <td>1</td>\n",
       "      <td>3892</td>\n",
       "      <td>4</td>\n",
       "    </tr>\n",
       "    <tr>\n",
       "      <th>782</th>\n",
       "      <td>Turkey</td>\n",
       "      <td>Melbourne</td>\n",
       "      <td>South</td>\n",
       "      <td>Turkey_South</td>\n",
       "      <td>4754.7000</td>\n",
       "      <td>1</td>\n",
       "      <td>3892</td>\n",
       "      <td>4</td>\n",
       "    </tr>\n",
       "    <tr>\n",
       "      <th>783</th>\n",
       "      <td>Turkey</td>\n",
       "      <td>Melbourne</td>\n",
       "      <td>South</td>\n",
       "      <td>Turkey_South</td>\n",
       "      <td>5547.1500</td>\n",
       "      <td>1</td>\n",
       "      <td>3892</td>\n",
       "      <td>4</td>\n",
       "    </tr>\n",
       "    <tr>\n",
       "      <th>784</th>\n",
       "      <td>Turkey</td>\n",
       "      <td>Perth</td>\n",
       "      <td>South</td>\n",
       "      <td>Turkey_South</td>\n",
       "      <td>3179.2000</td>\n",
       "      <td>1</td>\n",
       "      <td>1446</td>\n",
       "      <td>4</td>\n",
       "    </tr>\n",
       "  </tbody>\n",
       "</table>\n",
       "<p>785 rows × 8 columns</p>\n",
       "</div>"
      ],
      "text/plain": [
       "       country       mill delivery_point       delivery_zone   demand_AUD   \n",
       "0    Australia   Adelaide       Armadale  Australia_Armadale   20000.0000  \\\n",
       "1    Australia   Brisbane       Armadale  Australia_Armadale   74000.0000   \n",
       "2    Australia   Brisbane       Armadale  Australia_Armadale   96000.0000   \n",
       "3    Australia   Brisbane       Armadale  Australia_Armadale  100000.0000   \n",
       "4    Australia   Brisbane       Armadale  Australia_Armadale  102000.0000   \n",
       "..         ...        ...            ...                 ...          ...   \n",
       "780     Turkey      Perth         Centre       Turkey_Centre    3099.7200   \n",
       "781     Turkey  Melbourne          South        Turkey_South    2518.9835   \n",
       "782     Turkey  Melbourne          South        Turkey_South    4754.7000   \n",
       "783     Turkey  Melbourne          South        Turkey_South    5547.1500   \n",
       "784     Turkey      Perth          South        Turkey_South    3179.2000   \n",
       "\n",
       "     amount  delivery  total_country_zone  \n",
       "0        14      1396                  84  \n",
       "1         1      1791                  84  \n",
       "2         2      1791                  84  \n",
       "3        50      1791                  84  \n",
       "4         8      1791                  84  \n",
       "..      ...       ...                 ...  \n",
       "780       1      1446                   5  \n",
       "781       1      3892                   4  \n",
       "782       1      3892                   4  \n",
       "783       1      3892                   4  \n",
       "784       1      1446                   4  \n",
       "\n",
       "[785 rows x 8 columns]"
      ]
     },
     "execution_count": 20,
     "metadata": {},
     "output_type": "execute_result"
    }
   ],
   "source": [
    "demand = df_no_sanction.groupby(['country','mill','delivery_point','delivery_zone','cost_AUD'])['country_delivery'].count().reset_index()\n",
    "demand.rename(columns = {'cost_AUD': 'demand_AUD'}, inplace = True)\n",
    "demand.rename(columns = {'country_delivery': 'amount'}, inplace = True)\n",
    "demand.drop(['amount'], axis=1)\n",
    "#we take our total number per mill from our previous table\n",
    "demand = demand.merge(total)\n",
    "demand_per_combination  =  df_no_sanction.groupby(['delivery_zone'])['country_delivery'].count().reset_index()\n",
    "demand_per_combination.rename(columns = {'country_delivery': 'total_country_zone'}, inplace = True)\n",
    "demand = demand.merge(demand_per_combination)\n",
    "demand\n"
   ]
  },
  {
   "cell_type": "code",
   "execution_count": 21,
   "metadata": {},
   "outputs": [],
   "source": [
    "# Calculate supply (total per mill) = done\n",
    "# Converted all deliveries at historic rate (in RUB) = done\n",
    "# Check and remove outliers per destination\n",
    "import seaborn as sns\n",
    "import warnings\n",
    "import numpy as np\n",
    "import matplotlib.pyplot as plt\n",
    "warnings.filterwarnings('ignore')\n",
    "%matplotlib inline\n",
    "sns.set()\n",
    "# Graphics in retina format are more sharp and legible\n",
    "%config InlineBackend.figure_format = 'retina'"
   ]
  },
  {
   "cell_type": "code",
   "execution_count": 22,
   "metadata": {},
   "outputs": [],
   "source": [
    "import geocoder\n",
    "# !pip install geocoder\n",
    "from pprint import pprint\n",
    "key = '10134c1cacab408c8d41af91bfa80a77' # get api key from: https://opencagedata.com\n",
    "mills = dict.fromkeys(demand['mill'])\n",
    "cities = dict.fromkeys(demand['delivery_point'])\n",
    "for name in mills:\n",
    "    result = geocoder.opencage(name, key=key)\n",
    "    mills[name] = result.latlng\n",
    "for name in cities:\n",
    "    result = geocoder.opencage(name, key=key)\n",
    "    cities[name] = result.latlng"
   ]
  },
  {
   "cell_type": "code",
   "execution_count": 23,
   "metadata": {},
   "outputs": [],
   "source": [
    "#Transform, rename, merge\n",
    "mills_distance = pd.DataFrame.from_dict(mills, orient='index',columns=['lat_mill','long_mill'])\n",
    "cities_distance = pd.DataFrame.from_dict(cities, orient='index',columns=['lat_city','long_city'])\n",
    "mills_distance.index.name = 'mill'\n",
    "cities_distance.index.name = 'delivery_point'\n",
    "demand = demand.merge(mills_distance, left_on='mill', right_on='mill')\n",
    "demand = demand.merge(cities_distance, left_on='delivery_point', right_on='delivery_point')"
   ]
  },
  {
   "cell_type": "code",
   "execution_count": 24,
   "metadata": {},
   "outputs": [],
   "source": [
    "#Calculate distance between two points, calculate cost per km = proxy for cost minimization function\n",
    "import h3\n",
    "#!pip install h3\n",
    "demand['distance'] = demand.apply(lambda row: h3.point_dist((row['lat_mill'], row['long_mill']), (row['lat_city'], row['long_city'])), axis=1)\n",
    "demand['cost_per_km'] = demand.demand_AUD/demand.distance"
   ]
  },
  {
   "cell_type": "code",
   "execution_count": 25,
   "metadata": {},
   "outputs": [],
   "source": [
    "#issue with inf type of float, which json doesn't recognise\n",
    "demand[[\"lat_mill\", \"long_mill\", \"lat_city\", \"long_city\", 'distance','cost_per_km']] = demand[[\"lat_mill\", \"long_mill\", \"lat_city\", \"long_city\", 'distance','cost_per_km']].astype(str)\n",
    "demand[[\"lat_mill\", \"long_mill\", \"lat_city\", \"long_city\", 'distance','cost_per_km']] = demand[[\"lat_mill\", \"long_mill\", \"lat_city\", \"long_city\", 'distance','cost_per_km']].astype(str)"
   ]
  },
  {
   "cell_type": "code",
   "execution_count": 26,
   "metadata": {},
   "outputs": [],
   "source": [
    "#Some rows are very high in comparison to the distance, meaning the unit sold where much bigger than the km traveled\n",
    "demand_sydney = demand[demand['delivery_zone'] == 'Australia_SYDNEY']\n",
    "demand_sydney = demand_sydney.sort_values(by='cost_per_km', ascending = False)"
   ]
  },
  {
   "cell_type": "code",
   "execution_count": 27,
   "metadata": {},
   "outputs": [],
   "source": [
    "# Save data into the excel file\n",
    "# Create a Pandas Excel writer using ExcelWriter\n",
    "with pd.ExcelWriter('./data/df_transportation_data.xlsx', engine='openpyxl') as writer:\n",
    "    # Write the DataFrame to the Excel file\n",
    "    df.to_excel(writer, sheet_name='data', index=False)\n",
    "    performance.to_excel(writer, sheet_name='performance', index=False)\n",
    "    demand.to_excel(writer,sheet_name='demand',index=False)"
   ]
  },
  {
   "cell_type": "code",
   "execution_count": 28,
   "metadata": {},
   "outputs": [],
   "source": [
    "#issue with inf type of float, which json doesn't recognise\n",
    "demand[[\"lat_mill\", \"long_mill\", \"lat_city\", \"long_city\", 'distance','cost_per_km']] = demand[[\"lat_mill\", \"long_mill\", \"lat_city\", \"long_city\", 'distance','cost_per_km']].astype(float)\n",
    "demand[[\"lat_mill\", \"long_mill\", \"lat_city\", \"long_city\", 'distance','cost_per_km']] = demand[[\"lat_mill\", \"long_mill\", \"lat_city\", \"long_city\", 'distance','cost_per_km']].astype(float)"
   ]
  },
  {
   "cell_type": "code",
   "execution_count": 29,
   "metadata": {},
   "outputs": [],
   "source": [
    "distance = pd.pivot_table(demand,values='distance',index=['mill','delivery_zone'], aggfunc='first')\n",
    "cost = pd.pivot_table(demand,values='cost_per_km',index=['mill','delivery_zone'], aggfunc='first')"
   ]
  },
  {
   "cell_type": "code",
   "execution_count": 30,
   "metadata": {},
   "outputs": [],
   "source": [
    "# Save data into the excel file\n",
    "# Create a Pandas Excel writer using ExcelWriter\n",
    "with pd.ExcelWriter('./data/df_transportation_data.xlsx', engine='openpyxl') as writer:\n",
    "    # Write the DataFrame to the Excel file\n",
    "    df.to_excel(writer, sheet_name='data', index=False)\n",
    "    performance.to_excel(writer, sheet_name='performance', index=False)\n",
    "    demand.to_excel(writer,sheet_name='demand',index=False)\n",
    "    distance.to_excel(writer,sheet_name='distance',index=False)"
   ]
  },
  {
   "cell_type": "markdown",
   "metadata": {},
   "source": [
    "# Visualisation part\n",
    "The part below contains different scatterplots to visualise the data"
   ]
  },
  {
   "cell_type": "code",
   "execution_count": 32,
   "metadata": {},
   "outputs": [
    {
     "data": {
      "text/html": [
       "<div>\n",
       "<style scoped>\n",
       "    .dataframe tbody tr th:only-of-type {\n",
       "        vertical-align: middle;\n",
       "    }\n",
       "\n",
       "    .dataframe tbody tr th {\n",
       "        vertical-align: top;\n",
       "    }\n",
       "\n",
       "    .dataframe thead th {\n",
       "        text-align: right;\n",
       "    }\n",
       "</style>\n",
       "<table border=\"1\" class=\"dataframe\">\n",
       "  <thead>\n",
       "    <tr style=\"text-align: right;\">\n",
       "      <th></th>\n",
       "      <th>mill</th>\n",
       "      <th>delivery</th>\n",
       "      <th>lat_mill</th>\n",
       "      <th>long_mill</th>\n",
       "      <th>delivery_point</th>\n",
       "    </tr>\n",
       "  </thead>\n",
       "  <tbody>\n",
       "    <tr>\n",
       "      <th>0</th>\n",
       "      <td>Adelaide</td>\n",
       "      <td>1396</td>\n",
       "      <td>-34.928181</td>\n",
       "      <td>138.599931</td>\n",
       "      <td>77</td>\n",
       "    </tr>\n",
       "    <tr>\n",
       "      <th>1</th>\n",
       "      <td>Brisbane</td>\n",
       "      <td>1791</td>\n",
       "      <td>-27.468968</td>\n",
       "      <td>153.023499</td>\n",
       "      <td>93</td>\n",
       "    </tr>\n",
       "    <tr>\n",
       "      <th>2</th>\n",
       "      <td>Canberra</td>\n",
       "      <td>862</td>\n",
       "      <td>-35.297591</td>\n",
       "      <td>149.101268</td>\n",
       "      <td>55</td>\n",
       "    </tr>\n",
       "    <tr>\n",
       "      <th>3</th>\n",
       "      <td>Darwin</td>\n",
       "      <td>2540</td>\n",
       "      <td>-12.460440</td>\n",
       "      <td>130.841047</td>\n",
       "      <td>99</td>\n",
       "    </tr>\n",
       "    <tr>\n",
       "      <th>4</th>\n",
       "      <td>Hobart</td>\n",
       "      <td>1040</td>\n",
       "      <td>-42.882509</td>\n",
       "      <td>147.328123</td>\n",
       "      <td>75</td>\n",
       "    </tr>\n",
       "    <tr>\n",
       "      <th>5</th>\n",
       "      <td>Melbourne</td>\n",
       "      <td>3892</td>\n",
       "      <td>-37.814245</td>\n",
       "      <td>144.963173</td>\n",
       "      <td>128</td>\n",
       "    </tr>\n",
       "    <tr>\n",
       "      <th>6</th>\n",
       "      <td>Perth</td>\n",
       "      <td>1446</td>\n",
       "      <td>-31.955893</td>\n",
       "      <td>115.860585</td>\n",
       "      <td>108</td>\n",
       "    </tr>\n",
       "  </tbody>\n",
       "</table>\n",
       "</div>"
      ],
      "text/plain": [
       "        mill  delivery   lat_mill   long_mill  delivery_point\n",
       "0   Adelaide      1396 -34.928181  138.599931              77\n",
       "1   Brisbane      1791 -27.468968  153.023499              93\n",
       "2   Canberra       862 -35.297591  149.101268              55\n",
       "3     Darwin      2540 -12.460440  130.841047              99\n",
       "4     Hobart      1040 -42.882509  147.328123              75\n",
       "5  Melbourne      3892 -37.814245  144.963173             128\n",
       "6      Perth      1446 -31.955893  115.860585             108"
      ]
     },
     "execution_count": 32,
     "metadata": {},
     "output_type": "execute_result"
    }
   ],
   "source": [
    "#Let's visualise the production capacity on the map\n",
    "demand_AU = demand[demand['country'] == 'Australia']\n",
    "viz_AU = demand_AU.groupby(['mill','delivery','lat_mill','long_mill']).delivery_point.count().reset_index()\n",
    "viz_AU"
   ]
  },
  {
   "cell_type": "code",
   "execution_count": 33,
   "metadata": {},
   "outputs": [
    {
     "data": {
      "application/vnd.plotly.v1+json": {
       "config": {
        "plotlyServerURL": "https://plot.ly"
       },
       "data": [
        {
         "customdata": [
          [
           "Adelaide",
           1.2193949315477577
          ],
          [
           "Brisbane",
           4.5318037814114325
          ],
          [
           "Brisbane",
           5.879096797506723
          ],
          [
           "Brisbane",
           6.124059164069503
          ],
          [
           "Brisbane",
           6.246540347350893
          ],
          [
           "Brisbane",
           6.430262122272978
          ],
          [
           "Brisbane",
           7.025520673020534
          ],
          [
           "Adelaide",
           148.79924311527765
          ],
          [
           "Adelaide",
           34.36338422622198
          ],
          [
           "Adelaide",
           35.61296183444824
          ],
          [
           "Adelaide",
           36.862539442674496
          ],
          [
           "Adelaide",
           40.61127226735326
          ],
          [
           "Adelaide",
           42.485638679692634
          ],
          [
           "Brisbane",
           null
          ],
          [
           "Brisbane",
           null
          ],
          [
           "Brisbane",
           null
          ],
          [
           "Brisbane",
           null
          ],
          [
           "Brisbane",
           null
          ],
          [
           "Brisbane",
           null
          ],
          [
           "Brisbane",
           null
          ],
          [
           "Darwin",
           5.267604452373111
          ],
          [
           "Darwin",
           6.321125342847733
          ],
          [
           "Darwin",
           11.939903425379052
          ],
          [
           "Darwin",
           12.291077055537258
          ],
          [
           "Darwin",
           12.642250685695466
          ],
          [
           "Hobart",
           30.73953234416668
          ],
          [
           "Melbourne",
           8.730682096524696
          ],
          [
           "Melbourne",
           16.006250510295278
          ],
          [
           "Melbourne",
           17.46136419304939
          ],
          [
           "Melbourne",
           19.644034717180567
          ],
          [
           "Melbourne",
           21.82670524131174
          ],
          [
           "Melbourne",
           24.736932606819973
          ],
          [
           "Melbourne",
           26.19204628957409
          ],
          [
           "Melbourne",
           28.374716813705263
          ],
          [
           "Melbourne",
           30.55738733783644
          ],
          [
           "Perth",
           10.538171845986586
          ],
          [
           "Perth",
           13.588695275087966
          ],
          [
           "Perth",
           13.866015586824455
          ],
          [
           "Adelaide",
           23.151199537292914
          ],
          [
           "Adelaide",
           26.93098721685094
          ],
          [
           "Melbourne",
           20.055774325515465
          ],
          [
           "Melbourne",
           20.46507584236272
          ],
          [
           "Melbourne",
           20.83716813040568
          ],
          [
           "Melbourne",
           21.581352706491597
          ],
          [
           "Melbourne",
           22.325537282577514
          ],
          [
           "Melbourne",
           24.185998722792306
          ],
          [
           "Melbourne",
           25.67436787496414
          ],
          [
           "Perth",
           240.46219252156007
          ],
          [
           "Adelaide",
           36.62484308734631
          ],
          [
           "Adelaide",
           38.7176912637661
          ],
          [
           "Perth",
           35.64963659072648
          ],
          [
           "Canberra",
           null
          ],
          [
           "Canberra",
           null
          ],
          [
           "Canberra",
           null
          ],
          [
           "Canberra",
           null
          ],
          [
           "Adelaide",
           3.234980583000393
          ],
          [
           "Adelaide",
           3.3085028689776745
          ],
          [
           "Adelaide",
           3.5290697269095195
          ],
          [
           "Adelaide",
           3.8231588708186464
          ],
          [
           "Adelaide",
           3.896681156795928
          ],
          [
           "Adelaide",
           4.043725728750491
          ],
          [
           "Adelaide",
           4.117248014727773
          ],
          [
           "Adelaide",
           4.264292586682336
          ],
          [
           "Adelaide",
           4.4113371586369
          ],
          [
           "Adelaide",
           5.514171448296124
          ],
          [
           "Adelaide",
           5.661216020250688
          ],
          [
           "Adelaide",
           5.808260592205251
          ],
          [
           "Adelaide",
           6.102349736114378
          ],
          [
           "Adelaide",
           6.617005737955349
          ],
          [
           "Adelaide",
           0.28504075617390257
          ],
          [
           "Adelaide",
           0.2898188960172801
          ],
          [
           "Adelaide",
           0.2910088542158224
          ],
          [
           "Adelaide",
           0.2951552170557972
          ],
          [
           "Adelaide",
           0.29669764109331465
          ],
          [
           "Adelaide",
           0.3021355699310523
          ],
          [
           "Adelaide",
           0.30694348630025065
          ],
          [
           "Adelaide",
           0.3078020427947504
          ],
          [
           "Adelaide",
           0.31403614446733596
          ],
          [
           "Adelaide",
           0.3167308832929754
          ],
          [
           "Adelaide",
           0.3281240805337299
          ],
          [
           "Adelaide",
           0.3845340544497992
          ],
          [
           "Brisbane",
           2.7007069360748277
          ],
          [
           "Brisbane",
           2.766577836954702
          ],
          [
           "Brisbane",
           2.8983196387144496
          ],
          [
           "Brisbane",
           2.9641905395943233
          ],
          [
           "Brisbane",
           3.030061440474197
          ],
          [
           "Brisbane",
           3.051140128755757
          ],
          [
           "Brisbane",
           3.095932341354071
          ],
          [
           "Brisbane",
           3.161803242233945
          ],
          [
           "Brisbane",
           3.3594159448735663
          ],
          [
           "Brisbane",
           3.438461025929415
          ],
          [
           "Brisbane",
           3.557028647513188
          ],
          [
           "Brisbane",
           3.622899548393062
          ],
          [
           "Brisbane",
           3.6887704492729356
          ],
          [
           "Brisbane",
           3.9522540527924312
          ],
          [
           "Brisbane",
           4.149866755432052
          ],
          [
           "Brisbane",
           0.2833272124095574
          ],
          [
           "Brisbane",
           0.28480782558408474
          ],
          [
           "Brisbane",
           0.2863396204485958
          ],
          [
           "Brisbane",
           0.2868611862417626
          ],
          [
           "Brisbane",
           0.28717077947589803
          ],
          [
           "Brisbane",
           0.28868301068284774
          ],
          [
           "Brisbane",
           0.29089617414606017
          ],
          [
           "Brisbane",
           0.2914260396727379
          ],
          [
           "Brisbane",
           0.2917098444491788
          ],
          [
           "Brisbane",
           0.29198462491219923
          ],
          [
           "Brisbane",
           0.2931834753082129
          ],
          [
           "Brisbane",
           0.39671540505714586
          ],
          [
           "Darwin",
           1.9615151282864762
          ],
          [
           "Darwin",
           2.036958017835956
          ],
          [
           "Darwin",
           2.7159440237812746
          ],
          [
           "Darwin",
           2.9422726924297145
          ],
          [
           "Darwin",
           3.017715581979194
          ],
          [
           "Darwin",
           3.055437026753934
          ],
          [
           "Darwin",
           3.093158471528674
          ],
          [
           "Darwin",
           3.168601361078154
          ],
          [
           "Darwin",
           3.3194871401771135
          ],
          [
           "Darwin",
           3.3949300297265936
          ],
          [
           "Darwin",
           3.5080943640508133
          ],
          [
           "Darwin",
           4.149358925221392
          ],
          [
           "Darwin",
           4.375687593869832
          ],
          [
           "Darwin",
           0.2192262109761381
          ],
          [
           "Darwin",
           0.2345581676477207
          ],
          [
           "Darwin",
           0.23516114494244494
          ],
          [
           "Darwin",
           0.2353585789843959
          ],
          [
           "Darwin",
           0.23647860412264748
          ],
          [
           "Darwin",
           0.2374495541111493
          ],
          [
           "Darwin",
           0.27883691977487757
          ],
          [
           "Darwin",
           0.3587083069409119
          ],
          [
           "Darwin",
           0.41849302476439715
          ],
          [
           "Hobart",
           2.2279519072899574
          ],
          [
           "Hobart",
           2.238732319744586
          ],
          [
           "Hobart",
           2.2998213236541494
          ],
          [
           "Hobart",
           2.4435601563825338
          ],
          [
           "Hobart",
           2.5154295727467257
          ],
          [
           "Hobart",
           2.587298989110918
          ],
          [
           "Hobart",
           2.65916840547511
          ],
          [
           "Hobart",
           2.7310378218393025
          ],
          [
           "Hobart",
           2.8747766545676865
          ],
          [
           "Hobart",
           2.946646070931879
          ],
          [
           "Hobart",
           3.0903849036602633
          ],
          [
           "Hobart",
           3.377862569117032
          ],
          [
           "Hobart",
           3.521601401845416
          ],
          [
           "Hobart",
           3.952817900030569
          ],
          [
           "Hobart",
           4.8871203127650675
          ],
          [
           "Hobart",
           5.174597978221836
          ],
          [
           "Hobart",
           5.749553309135373
          ],
          [
           "Hobart",
           0.2774964409121097
          ],
          [
           "Hobart",
           0.2784939884112447
          ],
          [
           "Hobart",
           0.27994934409261957
          ],
          [
           "Hobart",
           0.28223119806218266
          ],
          [
           "Hobart",
           0.2923779019380202
          ],
          [
           "Hobart",
           0.2956646700218956
          ],
          [
           "Hobart",
           0.2961551787885812
          ],
          [
           "Hobart",
           0.29830867398051786
          ],
          [
           "Hobart",
           0.29914307790450617
          ],
          [
           "Hobart",
           0.3072935009367037
          ],
          [
           "Hobart",
           0.30845778548180364
          ],
          [
           "Hobart",
           0.3984440443230814
          ],
          [
           "Hobart",
           0.4020914172035641
          ],
          [
           "Hobart",
           0.13913631530442147
          ],
          [
           "Melbourne",
           0.7853406293847315
          ],
          [
           "Melbourne",
           1.1423136427414278
          ],
          [
           "Melbourne",
           1.213708245412767
          ],
          [
           "Melbourne",
           1.2851028480841062
          ],
          [
           "Melbourne",
           1.4278920534267845
          ],
          [
           "Melbourne",
           1.4992866560981237
          ],
          [
           "Melbourne",
           1.6420758614408022
          ],
          [
           "Melbourne",
           1.7134704641121414
          ],
          [
           "Melbourne",
           2.141838080140177
          ],
          [
           "Melbourne",
           2.3560218881541948
          ],
          [
           "Melbourne",
           2.4988110934968732
          ],
          [
           "Melbourne",
           2.78438950418223
          ],
          [
           "Melbourne",
           2.855784106853569
          ],
          [
           "Melbourne",
           3.212757120210265
          ],
          [
           "Melbourne",
           3.426940928224283
          ],
          [
           "Melbourne",
           3.5697301335669613
          ],
          [
           "Melbourne",
           3.9980977495949968
          ],
          [
           "Melbourne",
           4.140886954937676
          ],
          [
           "Melbourne",
           0.19089131889249328
          ],
          [
           "Melbourne",
           0.19188887997831855
          ],
          [
           "Melbourne",
           0.19365785974600766
          ],
          [
           "Melbourne",
           0.1946698782388739
          ],
          [
           "Melbourne",
           0.1973186179979806
          ],
          [
           "Melbourne",
           0.20009051344669532
          ],
          [
           "Melbourne",
           0.20340322301064548
          ],
          [
           "Melbourne",
           0.20344463188019485
          ],
          [
           "Melbourne",
           0.2042799487314495
          ],
          [
           "Melbourne",
           0.20564858326465907
          ],
          [
           "Melbourne",
           0.2089006074163386
          ],
          [
           "Melbourne",
           0.20909587165464472
          ],
          [
           "Melbourne",
           0.20916191166211567
          ],
          [
           "Melbourne",
           0.20933361568154027
          ],
          [
           "Melbourne",
           0.20995439175176753
          ],
          [
           "Melbourne",
           0.21112990388475114
          ],
          [
           "Melbourne",
           0.21249032803865353
          ],
          [
           "Melbourne",
           0.21308468810589243
          ],
          [
           "Melbourne",
           0.21481493630163231
          ],
          [
           "Melbourne",
           0.21499128097023054
          ],
          [
           "Melbourne",
           0.21683611750325796
          ],
          [
           "Melbourne",
           0.21823330987753603
          ],
          [
           "Melbourne",
           0.22232279271855035
          ],
          [
           "Melbourne",
           0.22604959097799426
          ],
          [
           "Melbourne",
           0.2274220808197481
          ],
          [
           "Melbourne",
           0.23036182497934315
          ],
          [
           "Melbourne",
           0.3394599173214166
          ],
          [
           "Melbourne",
           0.3734059090535583
          ],
          [
           "Melbourne",
           0.09044839423226624
          ],
          [
           "Melbourne",
           0.35077524789879716
          ],
          [
           "Perth",
           1.3798584961391405
          ],
          [
           "Perth",
           1.6385819641652293
          ],
          [
           "Perth",
           1.7248231201739255
          ],
          [
           "Perth",
           1.897305432191318
          ],
          [
           "Perth",
           1.9835465882000143
          ],
          [
           "Perth",
           2.0697877442087105
          ],
          [
           "Perth",
           2.156028900217407
          ],
          [
           "Perth",
           2.2422700562261033
          ],
          [
           "Perth",
           2.3285112122347993
          ],
          [
           "Perth",
           2.4147523682434957
          ],
          [
           "Perth",
           2.587234680260888
          ],
          [
           "Perth",
           2.759716992278281
          ],
          [
           "Perth",
           2.8459581482869774
          ],
          [
           "Perth",
           3.0184404603043697
          ],
          [
           "Perth",
           3.104681616313066
          ],
          [
           "Perth",
           3.2771639283304586
          ],
          [
           "Perth",
           3.363405084339155
          ],
          [
           "Perth",
           3.449646240347851
          ],
          [
           "Perth",
           3.622128552365244
          ],
          [
           "Perth",
           3.7225994991153746
          ],
          [
           "Perth",
           4.743263580478295
          ],
          [
           "Perth",
           5.001987048504384
          ],
          [
           "Perth",
           5.174469360521776
          ],
          [
           "Perth",
           5.519433984556562
          ],
          [
           "Perth",
           5.864398608591347
          ],
          [
           "Perth",
           6.381845544643524
          ],
          [
           "Perth",
           6.72681016867831
          ],
          [
           "Perth",
           6.899292480695702
          ],
          [
           "Perth",
           7.373618838743532
          ],
          [
           "Perth",
           7.847945196791361
          ],
          [
           "Perth",
           0.29408234198965433
          ],
          [
           "Perth",
           0.2954104557921882
          ],
          [
           "Perth",
           0.29561915938972927
          ],
          [
           "Perth",
           0.2996414469059749
          ],
          [
           "Perth",
           0.30036242297020754
          ],
          [
           "Perth",
           0.3004572882418171
          ],
          [
           "Perth",
           0.3060922853754253
          ],
          [
           "Perth",
           0.3109552085598657
          ],
          [
           "Perth",
           0.31530456566027426
          ],
          [
           "Perth",
           0.31569135724497327
          ],
          [
           "Perth",
           0.33298745228829735
          ],
          [
           "Perth",
           0.5057293501852761
          ],
          [
           "Perth",
           0.5330660718169126
          ],
          [
           "Perth",
           0.2606638940362845
          ],
          [
           "Perth",
           0.26202607309544185
          ],
          [
           "Perth",
           0.267323436103276
          ],
          [
           "Canberra",
           3.4433593240480063
          ],
          [
           "Canberra",
           3.7337631224616934
          ],
          [
           "Canberra",
           3.802906883988762
          ],
          [
           "Canberra",
           4.148625691624104
          ],
          [
           "Canberra",
           4.252341333914706
          ],
          [
           "Canberra",
           4.286913214678241
          ],
          [
           "Canberra",
           4.494344499259446
          ],
          [
           "Canberra",
           4.701775783840651
          ],
          [
           "Canberra",
           5.531500922165471
          ],
          [
           "Canberra",
           6.222938537436156
          ],
          [
           "Canberra",
           0.30649216884580555
          ],
          [
           "Canberra",
           0.30865775145683333
          ],
          [
           "Canberra",
           0.31091156150756966
          ],
          [
           "Canberra",
           0.31512770608232493
          ],
          [
           "Adelaide",
           1.3473715049887698
          ],
          [
           "Adelaide",
           1.422225477488146
          ],
          [
           "Adelaide",
           1.497079449987522
          ],
          [
           "Adelaide",
           1.5719334224868982
          ],
          [
           "Adelaide",
           1.654272792236212
          ],
          [
           "Adelaide",
           1.7964953399850265
          ],
          [
           "Adelaide",
           2.170765202481907
          ],
          [
           "Adelaide",
           2.4701810924794114
          ],
          [
           "Adelaide",
           2.6198890374781634
          ],
          [
           "Adelaide",
           2.844450954976292
          ],
          [
           "Adelaide",
           2.9267903247256055
          ],
          [
           "Adelaide",
           3.06901287247442
          ],
          [
           "Adelaide",
           3.8924065699675574
          ],
          [
           "Adelaide",
           4.865508212459447
          ],
          [
           "Adelaide",
           5.239778074956327
          ],
          [
           "Adelaide",
           5.389486019955079
          ],
          [
           "Adelaide",
           5.614047937453208
          ],
          [
           "Adelaide",
           5.79249980789172
          ],
          [
           "Adelaide",
           6.362587662446969
          ],
          [
           "Adelaide",
           6.512295607445721
          ],
          [
           "Adelaide",
           6.632061963444722
          ],
          [
           "Brisbane",
           6.361136404135775
          ],
          [
           "Brisbane",
           6.695933056985026
          ],
          [
           "Brisbane",
           6.8298517181247265
          ],
          [
           "Brisbane",
           7.030729709834277
          ],
          [
           "Brisbane",
           10.151891593820592
          ],
          [
           "Darwin",
           1.5388841974752694
          ],
          [
           "Darwin",
           2.769991555455485
          ],
          [
           "Darwin",
           3.3855452344455927
          ],
          [
           "Darwin",
           5.77081574053226
          ],
          [
           "Darwin",
           6.1555367899010776
          ],
          [
           "Darwin",
           9.002472555230327
          ],
          [
           "Darwin",
           9.233305184851616
          ],
          [
           "Darwin",
           10.002747283589251
          ],
          [
           "Hobart",
           1.241152451139341
          ],
          [
           "Hobart",
           2.0442510959942086
          ],
          [
           "Hobart",
           2.2632779991364456
          ],
          [
           "Hobart",
           2.3362869668505244
          ],
          [
           "Hobart",
           2.555313869992761
          ],
          [
           "Hobart",
           2.6283228377068397
          ],
          [
           "Hobart",
           3.796466321132102
          ],
          [
           "Hobart",
           4.8185918691292065
          ],
          [
           "Hobart",
           5.840717417126311
          ],
          [
           "Hobart",
           6.5708070942671
          ],
          [
           "Hobart",
           6.935851932837494
          ],
          [
           "Perth",
           3.702462703613122
          ],
          [
           "Perth",
           3.790616577508673
          ],
          [
           "Canberra",
           0.4919614773673868
          ],
          [
           "Canberra",
           0.7028021105248383
          ],
          [
           "Canberra",
           0.7730823215773222
          ],
          [
           "Canberra",
           0.9136427436822898
          ],
          [
           "Canberra",
           0.9487828492085317
          ],
          [
           "Canberra",
           0.9839229547347736
          ],
          [
           "Canberra",
           1.1244833768397413
          ],
          [
           "Canberra",
           1.560220685365141
          ],
          [
           "Canberra",
           1.6164448542071281
          ],
          [
           "Canberra",
           2.951768864204321
          ],
          [
           "Canberra",
           3.724851185781643
          ],
          [
           "Canberra",
           6.571199733407238
          ],
          [
           "Adelaide",
           73.00785315887413
          ],
          [
           "Brisbane",
           72.16841570723271
          ],
          [
           "Brisbane",
           78.38983085440793
          ],
          [
           "Brisbane",
           105.76405750197897
          ],
          [
           "Darwin",
           18.3853483996908
          ],
          [
           "Darwin",
           19.30461581967534
          ],
          [
           "Darwin",
           21.60278436963669
          ],
          [
           "Hobart",
           14.02861796633186
          ],
          [
           "Canberra",
           54.000535158655346
          ],
          [
           "Adelaide",
           84.14144562802373
          ],
          [
           "Adelaide",
           88.73097902591594
          ],
          [
           "Adelaide",
           114.73833494730509
          ],
          [
           "Brisbane",
           28.374716813705263
          ],
          [
           "Brisbane",
           29.10227365508232
          ],
          [
           "Brisbane",
           29.82983049645938
          ],
          [
           "Brisbane",
           32.012501020590555
          ],
          [
           "Brisbane",
           32.740057861967614
          ],
          [
           "Brisbane",
           33.46761470334467
          ],
          [
           "Brisbane",
           33.700432892585326
          ],
          [
           "Brisbane",
           36.3778420688529
          ],
          [
           "Brisbane",
           37.10539891022996
          ],
          [
           "Brisbane",
           37.97846711988243
          ],
          [
           "Brisbane",
           41.47073995849231
          ],
          [
           "Brisbane",
           42.19829679986937
          ],
          [
           "Brisbane",
           43.65341048262348
          ],
          [
           "Darwin",
           11.117132148690995
          ],
          [
           "Darwin",
           12.70529388421828
          ],
          [
           "Darwin",
           13.022926231323737
          ],
          [
           "Hobart",
           53.50545316533903
          ],
          [
           "Hobart",
           58.52158939958956
          ],
          [
           "Hobart",
           66.88181645667379
          ],
          [
           "Hobart",
           70.05870273836578
          ],
          [
           "Hobart",
           70.22590727950747
          ],
          [
           "Hobart",
           75.242043513758
          ],
          [
           "Melbourne",
           null
          ],
          [
           "Melbourne",
           null
          ],
          [
           "Perth",
           9.186746639631725
          ],
          [
           "Perth",
           9.554216505216994
          ],
          [
           "Canberra",
           133.7603008084245
          ],
          [
           "Adelaide",
           4.957133148427944
          ],
          [
           "Adelaide",
           0.28854189034301825
          ],
          [
           "Adelaide",
           0.2975008879225653
          ],
          [
           "Brisbane",
           1.8999178468438862
          ],
          [
           "Brisbane",
           2.8171195660099
          ],
          [
           "Brisbane",
           3.210206017081049
          ],
          [
           "Brisbane",
           3.275720425592907
          ],
          [
           "Brisbane",
           3.570535263896269
          ],
          [
           "Brisbane",
           3.9308645107114883
          ],
          [
           "Brisbane",
           4.127407736247063
          ],
          [
           "Brisbane",
           4.9135806383893605
          ],
          [
           "Darwin",
           2.3594360320608883
          ],
          [
           "Darwin",
           2.5116577115486876
          ],
          [
           "Darwin",
           2.587768551292587
          ],
          [
           "Darwin",
           2.663879391036487
          ],
          [
           "Darwin",
           2.7399902307803865
          ],
          [
           "Darwin",
           2.816101070524286
          ],
          [
           "Darwin",
           3.044433589755985
          ],
          [
           "Hobart",
           3.892747677945245
          ],
          [
           "Hobart",
           0.24189109407368703
          ],
          [
           "Melbourne",
           1.1293037150951057
          ],
          [
           "Melbourne",
           1.5527926082557704
          ],
          [
           "Melbourne",
           1.6586648315459367
          ],
          [
           "Melbourne",
           1.6939555726426587
          ],
          [
           "Melbourne",
           1.7645370548361028
          ],
          [
           "Melbourne",
           1.8351185370295469
          ],
          [
           "Melbourne",
           1.9762815014164352
          ],
          [
           "Melbourne",
           2.1174444658033234
          ],
          [
           "Melbourne",
           2.1880259479967674
          ],
          [
           "Melbourne",
           2.3291889123836556
          ],
          [
           "Melbourne",
           2.3997703945770996
          ],
          [
           "Melbourne",
           2.4703518767705437
          ],
          [
           "Melbourne",
           2.540933358963988
          ],
          [
           "Melbourne",
           0.14130412735127512
          ],
          [
           "Melbourne",
           0.14542396846690644
          ],
          [
           "Melbourne",
           0.14667184907208655
          ],
          [
           "Melbourne",
           0.15600067415507624
          ],
          [
           "Melbourne",
           0.15613329676011772
          ],
          [
           "Melbourne",
           0.15808487474276645
          ],
          [
           "Melbourne",
           0.15891099570109962
          ],
          [
           "Melbourne",
           0.16107318882661356
          ],
          [
           "Melbourne",
           0.1620956674684089
          ],
          [
           "Melbourne",
           0.16548957803968065
          ],
          [
           "Melbourne",
           0.17600480725685996
          ],
          [
           "Melbourne",
           0.18145546221924871
          ],
          [
           "Melbourne",
           0.22932241181319862
          ],
          [
           "Melbourne",
           0.27966147782097395
          ],
          [
           "Melbourne",
           0.3355937733851687
          ],
          [
           "Melbourne",
           0.35796669161084665
          ],
          [
           "Perth",
           4.117276095580421
          ],
          [
           "Perth",
           4.8892653635017504
          ],
          [
           "Perth",
           5.146595119475526
          ],
          [
           "Perth",
           0.23931667305561197
          ],
          [
           "Perth",
           0.24039745803070184
          ],
          [
           "Perth",
           0.24056729566964452
          ],
          [
           "Perth",
           0.24384053016563095
          ],
          [
           "Perth",
           0.24543082805754887
          ],
          [
           "Canberra",
           4.037222631321065
          ],
          [
           "Canberra",
           0.27168113346212863
          ],
          [
           "Canberra",
           0.27623532587276545
          ],
          [
           "Canberra",
           0.27736951172215774
          ],
          [
           "Adelaide",
           6.875876841007739
          ],
          [
           "Adelaide",
           6.889628594689754
          ],
          [
           "Adelaide",
           7.059233556767945
          ],
          [
           "Adelaide",
           7.072985310449961
          ],
          [
           "Adelaide",
           7.242590272528152
          ],
          [
           "Adelaide",
           7.425946988288358
          ],
          [
           "Adelaide",
           7.517625346168462
          ],
          [
           "Adelaide",
           8.251052209209288
          ],
          [
           "Brisbane",
           4.238163543245535
          ],
          [
           "Brisbane",
           4.398094242990649
          ],
          [
           "Brisbane",
           4.4780595928632065
          ],
          [
           "Brisbane",
           4.494052662837718
          ],
          [
           "Brisbane",
           4.637990292608321
          ],
          [
           "Brisbane",
           4.717955642480878
          ],
          [
           "Brisbane",
           4.797920992353435
          ],
          [
           "Brisbane",
           4.877886342225993
          ],
          [
           "Brisbane",
           5.357678441461337
          ],
          [
           "Brisbane",
           5.517609141206451
          ],
          [
           "Brisbane",
           5.597574491079008
          ],
          [
           "Brisbane",
           5.757505190824123
          ],
          [
           "Brisbane",
           5.917435890569237
          ],
          [
           "Brisbane",
           6.3972279898045805
          ],
          [
           "Darwin",
           0.6176959870875309
          ],
          [
           "Darwin",
           0.7059382709571782
          ],
          [
           "Darwin",
           0.8824228386964728
          ],
          [
           "Darwin",
           0.9265439806312964
          ],
          [
           "Darwin",
           0.97066512256612
          ],
          [
           "Darwin",
           1.191270832240238
          ],
          [
           "Darwin",
           1.5001188257840037
          ],
          [
           "Darwin",
           1.553064196105792
          ],
          [
           "Darwin",
           8.912470670834374
          ],
          [
           "Darwin",
           9.177197522443317
          ],
          [
           "Darwin",
           11.030285483705908
          ],
          [
           "Darwin",
           12.883373444968502
          ],
          [
           "Darwin",
           15.001188257840036
          ],
          [
           "Hobart",
           5.707020314795683
          ],
          [
           "Hobart",
           5.797607938840059
          ],
          [
           "Hobart",
           5.888195562884435
          ],
          [
           "Hobart",
           6.0693708109731865
          ],
          [
           "Hobart",
           6.159958435017563
          ],
          [
           "Hobart",
           6.43172130715069
          ],
          [
           "Hobart",
           7.156422299505698
          ],
          [
           "Hobart",
           7.247009923550074
          ],
          [
           "Melbourne",
           3.567485390295222
          ],
          [
           "Melbourne",
           3.6566725250526027
          ],
          [
           "Melbourne",
           3.745859659809983
          ],
          [
           "Melbourne",
           3.9242339293247444
          ],
          [
           "Melbourne",
           4.013421064082125
          ],
          [
           "Melbourne",
           4.058014631460815
          ],
          [
           "Melbourne",
           4.102608198839506
          ],
          [
           "Melbourne",
           4.1472017662181955
          ],
          [
           "Melbourne",
           4.191795333596886
          ],
          [
           "Melbourne",
           4.280982468354266
          ],
          [
           "Melbourne",
           4.459356737869028
          ],
          [
           "Melbourne",
           4.548543872626408
          ],
          [
           "Melbourne",
           4.637731007383788
          ],
          [
           "Melbourne",
           4.7269181421411695
          ],
          [
           "Melbourne",
           4.81610527689855
          ],
          [
           "Melbourne",
           4.90529241165593
          ],
          [
           "Melbourne",
           5.083666681170691
          ],
          [
           "Melbourne",
           5.351228085442833
          ],
          [
           "Melbourne",
           5.440415220200213
          ],
          [
           "Melbourne",
           5.904188320938593
          ],
          [
           "Melbourne",
           6.064725163501877
          ],
          [
           "Melbourne",
           6.153912298259258
          ],
          [
           "Melbourne",
           6.51066083728878
          ],
          [
           "Melbourne",
           7.491719319619966
          ],
          [
           "Perth",
           6.252844080208379
          ],
          [
           "Perth",
           6.472242118110428
          ],
          [
           "Perth",
           6.911038193914525
          ],
          [
           "Perth",
           7.020737212865549
          ],
          [
           "Perth",
           7.075586722341061
          ],
          [
           "Perth",
           7.1304362318165735
          ],
          [
           "Perth",
           7.240135250767597
          ],
          [
           "Perth",
           7.349834269718621
          ],
          [
           "Perth",
           7.459533288669646
          ],
          [
           "Perth",
           7.56923230762067
          ],
          [
           "Perth",
           7.678931326571694
          ],
          [
           "Perth",
           7.898329364473742
          ],
          [
           "Perth",
           8.008028383424767
          ],
          [
           "Perth",
           8.227426421326815
          ],
          [
           "Perth",
           9.65351366769013
          ],
          [
           "Perth",
           9.872911705592179
          ],
          [
           "Perth",
           10.202008762445251
          ],
          [
           "Canberra",
           6.337862056930891
          ],
          [
           "Canberra",
           7.023036333355853
          ],
          [
           "Canberra",
           7.279976687015214
          ],
          [
           "Canberra",
           7.7082106097808145
          ],
          [
           "Canberra",
           7.810986751244559
          ],
          [
           "Canberra",
           8.992912378077618
          ],
          [
           "Adelaide",
           22.52588027424585
          ],
          [
           "Adelaide",
           133.84276070302545
          ],
          [
           "Adelaide",
           136.99200213133193
          ],
          [
           "Adelaide",
           4.073003413452492
          ],
          [
           "Adelaide",
           4.2951672360044455
          ],
          [
           "Adelaide",
           4.665440273591036
          ],
          [
           "Adelaide",
           4.8135494886256724
          ],
          [
           "Adelaide",
           5.405986348764216
          ],
          [
           "Adelaide",
           5.554095563798852
          ],
          [
           "Adelaide",
           11.108191127597705
          ],
          [
           "Brisbane",
           3.3128852965353035
          ],
          [
           "Brisbane",
           3.4454007083967157
          ],
          [
           "Brisbane",
           3.511658414327422
          ],
          [
           "Brisbane",
           3.6441738261888337
          ],
          [
           "Brisbane",
           3.9754623558423643
          ],
          [
           "Brisbane",
           4.04172006177307
          ],
          [
           "Brisbane",
           4.174235473634482
          ],
          [
           "Brisbane",
           7.487120770169786
          ],
          [
           "Brisbane",
           7.75215159389261
          ],
          [
           "Darwin",
           2.4888905803568924
          ],
          [
           "Darwin",
           2.5643115070343736
          ],
          [
           "Darwin",
           2.6397324337118553
          ],
          [
           "Darwin",
           2.677442897050596
          ],
          [
           "Darwin",
           2.715153360389337
          ],
          [
           "Darwin",
           8.145460081168011
          ],
          [
           "Darwin",
           10.558929734847421
          ],
          [
           "Hobart",
           3.9921699294024116
          ],
          [
           "Hobart",
           4.3550944684389945
          ],
          [
           "Hobart",
           4.500264284053627
          ],
          [
           "Hobart",
           5.226113362126793
          ],
          [
           "Hobart",
           5.443868085548743
          ],
          [
           "Hobart",
           10.887736171097487
          ],
          [
           "Melbourne",
           1.5838818767698761
          ],
          [
           "Melbourne",
           1.7278711382944103
          ],
          [
           "Melbourne",
           1.7998657690566775
          ],
          [
           "Melbourne",
           1.8718603998189445
          ],
          [
           "Melbourne",
           2.015849661343479
          ],
          [
           "Melbourne",
           2.159838922868013
          ],
          [
           "Melbourne",
           2.23183355363028
          ],
          [
           "Melbourne",
           2.303828184392547
          ],
          [
           "Melbourne",
           2.447817445917081
          ],
          [
           "Melbourne",
           2.519812076679348
          ],
          [
           "Melbourne",
           2.5918067074416156
          ],
          [
           "Melbourne",
           6.263532876317237
          ],
          [
           "Melbourne",
           0.18135328697874323
          ],
          [
           "Melbourne",
           0.34231287088535134
          ],
          [
           "Melbourne",
           0.3993650160329099
          ],
          [
           "Perth",
           3.644560576800577
          ],
          [
           "Perth",
           4.3387625914292585
          ],
          [
           "Perth",
           4.512313095086428
          ],
          [
           "Perth",
           5.2065151097151094
          ],
          [
           "Perth",
           5.38006561337228
          ],
          [
           "Perth",
           5.640391368858036
          ],
          [
           "Perth",
           11.974984752344753
          ],
          [
           "Perth",
           0.27587588061343793
          ],
          [
           "Canberra",
           3.7634124984246604
          ],
          [
           "Canberra",
           4.181569442694067
          ],
          [
           "Canberra",
           4.530033562918573
          ],
          [
           "Canberra",
           4.669419211008375
          ],
          [
           "Canberra",
           4.808804859098177
          ],
          [
           "Canberra",
           5.226961803367584
          ],
          [
           "Canberra",
           5.575425923592089
          ],
          [
           "Canberra",
           6.411739812130903
          ],
          [
           "Canberra",
           10.105459486510663
          ],
          [
           "Canberra",
           10.802387726959674
          ],
          [
           "Adelaide",
           64.5439326028223
          ],
          [
           "Adelaide",
           75.7315475873115
          ],
          [
           "Adelaide",
           77.45271912338676
          ],
          [
           "Adelaide",
           85.19799103572542
          ],
          [
           "Adelaide",
           86.05857680376306
          ],
          [
           "Adelaide",
           92.08267718002648
          ],
          [
           "Adelaide",
           94.66443448413936
          ],
          [
           "Brisbane",
           72.34813817664002
          ],
          [
           "Brisbane",
           75.07825659840002
          ],
          [
           "Brisbane",
           77.80837502016003
          ],
          [
           "Brisbane",
           79.17343423104002
          ],
          [
           "Brisbane",
           81.90355265280003
          ],
          [
           "Brisbane",
           83.26861186368002
          ],
          [
           "Brisbane",
           88.72884870720003
          ],
          [
           "Brisbane",
           91.45896712896003
          ],
          [
           "Brisbane",
           92.82402633984003
          ],
          [
           "Brisbane",
           95.55414476160003
          ],
          [
           "Brisbane",
           106.47461844864003
          ],
          [
           "Brisbane",
           109.20473687040004
          ],
          [
           "Darwin",
           0.47632910824983216
          ],
          [
           "Darwin",
           2.22286917183255
          ],
          [
           "Darwin",
           3.1755273883322146
          ],
          [
           "Darwin",
           3.3343037577488253
          ],
          [
           "Darwin",
           3.524835401048758
          ],
          [
           "Darwin",
           3.5883459488154026
          ],
          [
           "Darwin",
           3.8106328659986572
          ],
          [
           "Darwin",
           4.128185604831879
          ],
          [
           "Darwin",
           4.20122273476352
          ],
          [
           "Darwin",
           4.28696197424849
          ],
          [
           "Darwin",
           4.4457383436651
          ],
          [
           "Darwin",
           4.763291082498322
          ],
          [
           "Darwin",
           5.080843821331543
          ],
          [
           "Darwin",
           5.398396560164764
          ],
          [
           "Darwin",
           5.588928203464698
          ],
          [
           "Darwin",
           5.7159492989979865
          ],
          [
           "Darwin",
           6.033502037831208
          ],
          [
           "Darwin",
           6.1922784072478185
          ],
          [
           "Darwin",
           6.351054776664429
          ],
          [
           "Darwin",
           6.6686075154976505
          ],
          [
           "Darwin",
           6.986160254330872
          ],
          [
           "Darwin",
           7.6212657319973145
          ],
          [
           "Darwin",
           7.938818470830537
          ],
          [
           "Darwin",
           8.57392394849698
          ],
          [
           "Darwin",
           11.114345859162752
          ],
          [
           "Darwin",
           11.431898597995973
          ],
          [
           "Darwin",
           12.067004075662416
          ],
          [
           "Darwin",
           13.718278317595168
          ],
          [
           "Darwin",
           14.289873247494965
          ],
          [
           "Darwin",
           20.640928024159393
          ],
          [
           "Hobart",
           69.98467090408529
          ],
          [
           "Hobart",
           72.82188729208875
          ],
          [
           "Hobart",
           74.71336488409105
          ],
          [
           "Hobart",
           75.6591036800922
          ],
          [
           "Hobart",
           78.49632006809567
          ],
          [
           "Hobart",
           80.38779766009797
          ],
          [
           "Hobart",
           105.9227451521291
          ],
          [
           "Melbourne",
           53.27209424222378
          ],
          [
           "Melbourne",
           56.07588867602503
          ],
          [
           "Melbourne",
           57.47778589292566
          ],
          [
           "Melbourne",
           58.87968310982628
          ],
          [
           "Melbourne",
           61.68347754362754
          ],
          [
           "Melbourne",
           63.08537476052816
          ],
          [
           "Melbourne",
           63.78632336897847
          ],
          [
           "Melbourne",
           64.48727197742879
          ],
          [
           "Melbourne",
           65.88916919432941
          ],
          [
           "Melbourne",
           67.29106641123003
          ],
          [
           "Melbourne",
           68.69296362813067
          ],
          [
           "Melbourne",
           70.09486084503129
          ],
          [
           "Melbourne",
           72.89865527883254
          ],
          [
           "Melbourne",
           74.30055249573317
          ],
          [
           "Melbourne",
           75.7024497126338
          ],
          [
           "Melbourne",
           77.10434692953442
          ],
          [
           "Melbourne",
           79.90814136333567
          ],
          [
           "Melbourne",
           81.3100385802363
          ],
          [
           "Melbourne",
           82.71193579713692
          ],
          [
           "Melbourne",
           84.11383301403755
          ],
          [
           "Melbourne",
           85.51573023093817
          ],
          [
           "Melbourne",
           86.9176274478388
          ],
          [
           "Melbourne",
           88.31952466473943
          ],
          [
           "Melbourne",
           89.72142188164005
          ],
          [
           "Melbourne",
           92.5252163154413
          ],
          [
           "Melbourne",
           92.80559575882143
          ],
          [
           "Melbourne",
           95.32901074924256
          ],
          [
           "Melbourne",
           98.1328051830438
          ],
          [
           "Melbourne",
           100.93659961684506
          ],
          [
           "Melbourne",
           105.14229126754694
          ],
          [
           "Melbourne",
           117.75936621965256
          ],
          [
           "Perth",
           17.019584194041165
          ],
          [
           "Perth",
           17.323505340363326
          ],
          [
           "Perth",
           17.931347633007654
          ],
          [
           "Perth",
           18.539189925651982
          ],
          [
           "Perth",
           19.14703221829631
          ],
          [
           "Perth",
           19.450953364618474
          ],
          [
           "Perth",
           19.602913937779554
          ],
          [
           "Perth",
           19.75487451094064
          ],
          [
           "Perth",
           20.0587956572628
          ],
          [
           "Perth",
           20.210756230423883
          ],
          [
           "Perth",
           20.362716803584963
          ],
          [
           "Perth",
           20.666637949907127
          ],
          [
           "Perth",
           20.97055909622929
          ],
          [
           "Perth",
           21.274480242551455
          ],
          [
           "Perth",
           21.57840138887362
          ],
          [
           "Perth",
           21.882322535195783
          ],
          [
           "Perth",
           22.186243681517947
          ],
          [
           "Perth",
           22.49016482784011
          ],
          [
           "Perth",
           22.79408597416227
          ],
          [
           "Perth",
           23.098007120484436
          ],
          [
           "Perth",
           23.705849413128764
          ],
          [
           "Perth",
           24.313691705773092
          ],
          [
           "Perth",
           25.22545514473958
          ],
          [
           "Perth",
           25.83329743738391
          ],
          [
           "Perth",
           27.35290316899473
          ],
          [
           "Perth",
           28.264666607961217
          ],
          [
           "Perth",
           28.56858775428338
          ],
          [
           "Perth",
           28.872508900605546
          ],
          [
           "Perth",
           30.0881934858942
          ],
          [
           "Perth",
           30.240154059055282
          ],
          [
           "Canberra",
           372.28341250057906
          ],
          [
           "Canberra",
           480.3656935491343
          ],
          [
           "Adelaide",
           29.828202492083832
          ],
          [
           "Darwin",
           35.81904000439445
          ],
          [
           "Canberra",
           34.379767634011856
          ],
          [
           "Canberra",
           46.57904002027413
          ],
          [
           "Adelaide",
           0.14784773733095657
          ],
          [
           "Melbourne",
           0.06270599725320904
          ],
          [
           "Melbourne",
           0.06318829670693284
          ],
          [
           "Melbourne",
           0.06355919482831207
          ],
          [
           "Melbourne",
           0.07708133475403627
          ],
          [
           "Melbourne",
           0.08000942441839413
          ],
          [
           "Melbourne",
           0.08161314365937183
          ],
          [
           "Melbourne",
           0.08184142507811075
          ],
          [
           "Melbourne",
           0.08569041889539615
          ],
          [
           "Melbourne",
           0.09640172125732067
          ],
          [
           "Perth",
           0.12737477114813536
          ],
          [
           "Perth",
           0.14222511515264824
          ],
          [
           "Perth",
           0.14262293527832384
          ],
          [
           "Adelaide",
           0.14039941631695355
          ],
          [
           "Hobart",
           0.09855560406840518
          ],
          [
           "Melbourne",
           0.07796657226736174
          ],
          [
           "Melbourne",
           0.07863560210068633
          ],
          [
           "Canberra",
           0.10721313038168777
          ],
          [
           "Canberra",
           0.10867190604697996
          ],
          [
           "Brisbane",
           53.7157956687706
          ],
          [
           "Brisbane",
           58.192111974501486
          ],
          [
           "Darwin",
           14.6116588753603
          ],
          [
           "Darwin",
           8.595300493348613
          ],
          [
           "Darwin",
           27.858395318014995
          ],
          [
           "Darwin",
           2.5056503877471603
          ],
          [
           "Darwin",
           24.305775269115976
          ],
          [
           "Darwin",
           12.431063341184128
          ],
          [
           "Darwin",
           51.97292475544803
          ],
          [
           "Darwin",
           7.578974411575176
          ],
          [
           "Darwin",
           9.082242063457855
          ],
          [
           "Darwin",
           0.47268080930725975
          ],
          [
           "Hobart",
           3.1602673445134855
          ],
          [
           "Melbourne",
           1.601932298085039
          ],
          [
           "Melbourne",
           1.6612631239400406
          ],
          [
           "Melbourne",
           1.7799247756500434
          ],
          [
           "Perth",
           2.670245360511158
          ],
          [
           "Perth",
           3.1495201688080323
          ],
          [
           "Perth",
           3.519246449494193
          ],
          [
           "Perth",
           3.5603271473482105
          ],
          [
           "Perth",
           3.7657306366183
          ],
          [
           "Perth",
           4.108069785401781
          ],
          [
           "Perth",
           4.31347327467187
          ],
          [
           "Hobart",
           46.134876834987594
          ],
          [
           "Melbourne",
           21.466220580645995
          ],
          [
           "Melbourne",
           31.48379018494746
          ],
          [
           "Perth",
           10.734989067935338
          ],
          [
           "Perth",
           11.655130988044082
          ],
          [
           "Perth",
           13.802128801631149
          ],
          [
           "Hobart",
           38.05454295569931
          ],
          [
           "Hobart",
           44.97355076582646
          ],
          [
           "Hobart",
           14.312201639029437
          ],
          [
           "Hobart",
           137.23128845008037
          ],
          [
           "Hobart",
           178.40067498510447
          ],
          [
           "Hobart",
           183.5468483019825
          ],
          [
           "Hobart",
           13.952244589935633
          ],
          [
           "Hobart",
           165.90851217556968
          ],
          [
           "Hobart",
           187.3160621337077
          ],
          [
           "Hobart",
           55.17361965335742
          ],
          [
           "Hobart",
           61.86133112649165
          ],
          [
           "Hobart",
           66.87711473134233
          ],
          [
           "Hobart",
           70.22097046790944
          ],
          [
           "Hobart",
           75.23675407276012
          ],
          [
           "Hobart",
           76.23991079373025
          ],
          [
           "Melbourne",
           31.15644087237032
          ],
          [
           "Melbourne",
           1.5217715779819783
          ],
          [
           "Melbourne",
           1.7057860776628377
          ],
          [
           "Melbourne",
           3.075325967748937
          ],
          [
           "Melbourne",
           70.19921931131155
          ],
          [
           "Melbourne",
           110.07327810369492
          ],
          [
           "Melbourne",
           117.9356551111017
          ],
          [
           "Perth",
           20.80627679189426
          ],
          [
           "Melbourne",
           0.07226607325016107
          ],
          [
           "Perth",
           30.509268411148454
          ],
          [
           "Canberra",
           197.3353492118491
          ],
          [
           "Canberra",
           206.7322706028895
          ],
          [
           "Canberra",
           210.4910391593057
          ],
          [
           "Canberra",
           216.12919199392996
          ],
          [
           "Canberra",
           219.88796055034612
          ],
          [
           "Canberra",
           225.5261133849704
          ]
         ],
         "hovertemplate": "<b>%{hovertext}</b><br><br>cost_per_km=%{marker.color}<br>lat_city=%{lat}<br>long_city=%{lon}<br>mill=%{customdata[0]}<extra></extra>",
         "hovertext": [
          "Armadale",
          "Armadale",
          "Armadale",
          "Armadale",
          "Armadale",
          "Armadale",
          "Armadale",
          "Bendigo",
          "Brisbane",
          "Brisbane",
          "Brisbane",
          "Brisbane",
          "Brisbane",
          "Brisbane",
          "Brisbane",
          "Brisbane",
          "Brisbane",
          "Brisbane",
          "Brisbane",
          "Brisbane",
          "Brisbane",
          "Brisbane",
          "Brisbane",
          "Brisbane",
          "Brisbane",
          "Brisbane",
          "Brisbane",
          "Brisbane",
          "Brisbane",
          "Brisbane",
          "Brisbane",
          "Brisbane",
          "Brisbane",
          "Brisbane",
          "Brisbane",
          "Brisbane",
          "Brisbane",
          "Brisbane",
          "Bunbury",
          "Bunbury",
          "Bunbury",
          "Bunbury",
          "Bunbury",
          "Bunbury",
          "Bunbury",
          "Bunbury",
          "Bunbury",
          "Bunbury",
          "Canberra",
          "Canberra",
          "Canberra",
          "Canberra",
          "Canberra",
          "Canberra",
          "Canberra",
          "Centre",
          "Centre",
          "Centre",
          "Centre",
          "Centre",
          "Centre",
          "Centre",
          "Centre",
          "Centre",
          "Centre",
          "Centre",
          "Centre",
          "Centre",
          "Centre",
          "Centre",
          "Centre",
          "Centre",
          "Centre",
          "Centre",
          "Centre",
          "Centre",
          "Centre",
          "Centre",
          "Centre",
          "Centre",
          "Centre",
          "Centre",
          "Centre",
          "Centre",
          "Centre",
          "Centre",
          "Centre",
          "Centre",
          "Centre",
          "Centre",
          "Centre",
          "Centre",
          "Centre",
          "Centre",
          "Centre",
          "Centre",
          "Centre",
          "Centre",
          "Centre",
          "Centre",
          "Centre",
          "Centre",
          "Centre",
          "Centre",
          "Centre",
          "Centre",
          "Centre",
          "Centre",
          "Centre",
          "Centre",
          "Centre",
          "Centre",
          "Centre",
          "Centre",
          "Centre",
          "Centre",
          "Centre",
          "Centre",
          "Centre",
          "Centre",
          "Centre",
          "Centre",
          "Centre",
          "Centre",
          "Centre",
          "Centre",
          "Centre",
          "Centre",
          "Centre",
          "Centre",
          "Centre",
          "Centre",
          "Centre",
          "Centre",
          "Centre",
          "Centre",
          "Centre",
          "Centre",
          "Centre",
          "Centre",
          "Centre",
          "Centre",
          "Centre",
          "Centre",
          "Centre",
          "Centre",
          "Centre",
          "Centre",
          "Centre",
          "Centre",
          "Centre",
          "Centre",
          "Centre",
          "Centre",
          "Centre",
          "Centre",
          "Centre",
          "Centre",
          "Centre",
          "Centre",
          "Centre",
          "Centre",
          "Centre",
          "Centre",
          "Centre",
          "Centre",
          "Centre",
          "Centre",
          "Centre",
          "Centre",
          "Centre",
          "Centre",
          "Centre",
          "Centre",
          "Centre",
          "Centre",
          "Centre",
          "Centre",
          "Centre",
          "Centre",
          "Centre",
          "Centre",
          "Centre",
          "Centre",
          "Centre",
          "Centre",
          "Centre",
          "Centre",
          "Centre",
          "Centre",
          "Centre",
          "Centre",
          "Centre",
          "Centre",
          "Centre",
          "Centre",
          "Centre",
          "Centre",
          "Centre",
          "Centre",
          "Centre",
          "Centre",
          "Centre",
          "Centre",
          "Centre",
          "Centre",
          "Centre",
          "Centre",
          "Centre",
          "Centre",
          "Centre",
          "Centre",
          "Centre",
          "Centre",
          "Centre",
          "Centre",
          "Centre",
          "Centre",
          "Centre",
          "Centre",
          "Centre",
          "Centre",
          "Centre",
          "Centre",
          "Centre",
          "Centre",
          "Centre",
          "Centre",
          "Centre",
          "Centre",
          "Centre",
          "Centre",
          "Centre",
          "Centre",
          "Centre",
          "Centre",
          "Centre",
          "Centre",
          "Centre",
          "Centre",
          "Centre",
          "Centre",
          "Centre",
          "Centre",
          "Centre",
          "Centre",
          "Centre",
          "Centre",
          "Centre",
          "Centre",
          "Centre",
          "Centre",
          "Centre",
          "Centre",
          "Centre",
          "Centre",
          "Centre",
          "Centre",
          "Centre",
          "Centre",
          "Centre",
          "Centre",
          "Centre",
          "Centre",
          "Centre",
          "Centre",
          "Centre",
          "Centre",
          "Centre",
          "East",
          "East",
          "East",
          "East",
          "East",
          "East",
          "East",
          "East",
          "East",
          "East",
          "East",
          "East",
          "East",
          "East",
          "East",
          "East",
          "East",
          "East",
          "East",
          "East",
          "East",
          "East",
          "East",
          "East",
          "East",
          "East",
          "East",
          "East",
          "East",
          "East",
          "East",
          "East",
          "East",
          "East",
          "East",
          "East",
          "East",
          "East",
          "East",
          "East",
          "East",
          "East",
          "East",
          "East",
          "East",
          "East",
          "East",
          "East",
          "East",
          "East",
          "East",
          "East",
          "East",
          "East",
          "East",
          "East",
          "East",
          "East",
          "East",
          "Mackay",
          "Mackay",
          "Mackay",
          "Mackay",
          "Mackay",
          "Mackay",
          "Mackay",
          "Mackay",
          "Mackay",
          "Melbourne",
          "Melbourne",
          "Melbourne",
          "Melbourne",
          "Melbourne",
          "Melbourne",
          "Melbourne",
          "Melbourne",
          "Melbourne",
          "Melbourne",
          "Melbourne",
          "Melbourne",
          "Melbourne",
          "Melbourne",
          "Melbourne",
          "Melbourne",
          "Melbourne",
          "Melbourne",
          "Melbourne",
          "Melbourne",
          "Melbourne",
          "Melbourne",
          "Melbourne",
          "Melbourne",
          "Melbourne",
          "Melbourne",
          "Melbourne",
          "Melbourne",
          "Melbourne",
          "Melbourne",
          "North",
          "North",
          "North",
          "North",
          "North",
          "North",
          "North",
          "North",
          "North",
          "North",
          "North",
          "North",
          "North",
          "North",
          "North",
          "North",
          "North",
          "North",
          "North",
          "North",
          "North",
          "North",
          "North",
          "North",
          "North",
          "North",
          "North",
          "North",
          "North",
          "North",
          "North",
          "North",
          "North",
          "North",
          "North",
          "North",
          "North",
          "North",
          "North",
          "North",
          "North",
          "North",
          "North",
          "North",
          "North",
          "North",
          "North",
          "North",
          "North",
          "North",
          "North",
          "North",
          "North",
          "North",
          "North",
          "North",
          "North",
          "North",
          "North",
          "North",
          "North",
          "North-west",
          "North-west",
          "North-west",
          "North-west",
          "North-west",
          "North-west",
          "North-west",
          "North-west",
          "North-west",
          "North-west",
          "North-west",
          "North-west",
          "North-west",
          "North-west",
          "North-west",
          "North-west",
          "North-west",
          "North-west",
          "North-west",
          "North-west",
          "North-west",
          "North-west",
          "North-west",
          "North-west",
          "North-west",
          "North-west",
          "North-west",
          "North-west",
          "North-west",
          "North-west",
          "North-west",
          "North-west",
          "North-west",
          "North-west",
          "North-west",
          "North-west",
          "North-west",
          "North-west",
          "North-west",
          "North-west",
          "North-west",
          "North-west",
          "North-west",
          "North-west",
          "North-west",
          "North-west",
          "North-west",
          "North-west",
          "North-west",
          "North-west",
          "North-west",
          "North-west",
          "North-west",
          "North-west",
          "North-west",
          "North-west",
          "North-west",
          "North-west",
          "North-west",
          "North-west",
          "North-west",
          "North-west",
          "North-west",
          "North-west",
          "North-west",
          "North-west",
          "North-west",
          "North-west",
          "North-west",
          "North-west",
          "North-west",
          "North-west",
          "North-west",
          "North-west",
          "North-west",
          "North-west",
          "North-west",
          "North-west",
          "North-west",
          "North-west",
          "North-west",
          "North-west",
          "North-west",
          "North-west",
          "North-west",
          "North-west",
          "North-west",
          "North-west",
          "North-west",
          "North-west",
          "Perth",
          "Shepparton",
          "Shepparton",
          "South",
          "South",
          "South",
          "South",
          "South",
          "South",
          "South",
          "South",
          "South",
          "South",
          "South",
          "South",
          "South",
          "South",
          "South",
          "South",
          "South",
          "South",
          "South",
          "South",
          "South",
          "South",
          "South",
          "South",
          "South",
          "South",
          "South",
          "South",
          "South",
          "South",
          "South",
          "South",
          "South",
          "South",
          "South",
          "South",
          "South",
          "South",
          "South",
          "South",
          "South",
          "South",
          "South",
          "South",
          "South",
          "South",
          "South",
          "South",
          "South",
          "South",
          "South",
          "South",
          "South",
          "South",
          "South",
          "South",
          "South",
          "South",
          "South",
          "South",
          "South",
          "South",
          "Sydney",
          "Sydney",
          "Sydney",
          "Sydney",
          "Sydney",
          "Sydney",
          "Sydney",
          "Sydney",
          "Sydney",
          "Sydney",
          "Sydney",
          "Sydney",
          "Sydney",
          "Sydney",
          "Sydney",
          "Sydney",
          "Sydney",
          "Sydney",
          "Sydney",
          "Sydney",
          "Sydney",
          "Sydney",
          "Sydney",
          "Sydney",
          "Sydney",
          "Sydney",
          "Sydney",
          "Sydney",
          "Sydney",
          "Sydney",
          "Sydney",
          "Sydney",
          "Sydney",
          "Sydney",
          "Sydney",
          "Sydney",
          "Sydney",
          "Sydney",
          "Sydney",
          "Sydney",
          "Sydney",
          "Sydney",
          "Sydney",
          "Sydney",
          "Sydney",
          "Sydney",
          "Sydney",
          "Sydney",
          "Sydney",
          "Sydney",
          "Sydney",
          "Sydney",
          "Sydney",
          "Sydney",
          "Sydney",
          "Sydney",
          "Sydney",
          "Sydney",
          "Sydney",
          "Sydney",
          "Sydney",
          "Sydney",
          "Sydney",
          "Sydney",
          "Sydney",
          "Sydney",
          "Sydney",
          "Sydney",
          "Sydney",
          "Sydney",
          "Sydney",
          "Sydney",
          "Sydney",
          "Sydney",
          "Sydney",
          "Sydney",
          "Sydney",
          "Sydney",
          "Sydney",
          "Sydney",
          "Sydney",
          "Sydney",
          "Sydney",
          "Sydney",
          "Sydney",
          "Sydney",
          "Sydney",
          "Sydney",
          "Sydney",
          "Sydney",
          "Sydney",
          "Sydney",
          "Sydney",
          "Sydney",
          "Sydney",
          "Sydney",
          "Sydney",
          "Sydney",
          "Sydney",
          "Sydney",
          "Sydney",
          "Sydney",
          "Sydney",
          "Sydney",
          "Sydney",
          "Sydney",
          "Sydney",
          "Sydney",
          "Sydney",
          "Sydney",
          "Sydney",
          "Sydney",
          "Sydney",
          "Sydney",
          "Sydney",
          "Sydney",
          "Sydney",
          "Sydney",
          "Sydney",
          "Toowoomba",
          "Toowoomba",
          "Toowoomba",
          "Toowoomba",
          "Gomel",
          "Gomel",
          "Gomel",
          "Gomel",
          "Gomel",
          "Gomel",
          "Gomel",
          "Gomel",
          "Gomel",
          "Gomel",
          "Gomel",
          "Gomel",
          "Gomel",
          "Sloboda",
          "Sloboda",
          "Sloboda",
          "Sloboda",
          "Sloboda",
          "Sloboda",
          "Albury",
          "Albury",
          "Albury",
          "Bankstown",
          "Launceston",
          "Lismore",
          "Maitland",
          "Newcastle",
          "Rockhampton",
          "Rockingham",
          "Rockingham",
          "Tashkent",
          "Berwick",
          "Berwick",
          "Berwick",
          "Berwick",
          "Berwick",
          "Berwick",
          "Berwick",
          "Berwick",
          "Berwick",
          "Berwick",
          "Berwick",
          "Blacktown",
          "Blacktown",
          "Blacktown",
          "Blacktown",
          "Blacktown",
          "Blacktown",
          "Cairns",
          "Cairns",
          "Dubbo",
          "Geelong",
          "Geelong",
          "Geelong",
          "Kalgoorlie",
          "Nowra",
          "Nowra",
          "Werribee",
          "Werribee",
          "Werribee",
          "Werribee",
          "Werribee",
          "Werribee",
          "Caloundra",
          "Epping",
          "Manturovo",
          "Melton",
          "Tamworth",
          "Wodonga",
          "Wodonga",
          "Wodonga",
          "Polochany",
          "Ballarat",
          "Ballarat",
          "Ballarat",
          "Ballarat",
          "Ballarat",
          "Ballarat",
          "Ballarat"
         ],
         "lat": [
          57.0660084,
          57.0660084,
          57.0660084,
          57.0660084,
          57.0660084,
          57.0660084,
          57.0660084,
          -36.7590183,
          -27.4689682,
          -27.4689682,
          -27.4689682,
          -27.4689682,
          -27.4689682,
          -27.4689682,
          -27.4689682,
          -27.4689682,
          -27.4689682,
          -27.4689682,
          -27.4689682,
          -27.4689682,
          -27.4689682,
          -27.4689682,
          -27.4689682,
          -27.4689682,
          -27.4689682,
          -27.4689682,
          -27.4689682,
          -27.4689682,
          -27.4689682,
          -27.4689682,
          -27.4689682,
          -27.4689682,
          -27.4689682,
          -27.4689682,
          -27.4689682,
          -27.4689682,
          -27.4689682,
          -27.4689682,
          -33.3267797,
          -33.3267797,
          -33.3267797,
          -33.3267797,
          -33.3267797,
          -33.3267797,
          -33.3267797,
          -33.3267797,
          -33.3267797,
          -33.3267797,
          -35.2975906,
          -35.2975906,
          -35.2975906,
          -35.2975906,
          -35.2975906,
          -35.2975906,
          -35.2975906,
          4.686267,
          4.686267,
          4.686267,
          4.686267,
          4.686267,
          4.686267,
          4.686267,
          4.686267,
          4.686267,
          4.686267,
          4.686267,
          4.686267,
          4.686267,
          4.686267,
          4.686267,
          4.686267,
          4.686267,
          4.686267,
          4.686267,
          4.686267,
          4.686267,
          4.686267,
          4.686267,
          4.686267,
          4.686267,
          4.686267,
          4.686267,
          4.686267,
          4.686267,
          4.686267,
          4.686267,
          4.686267,
          4.686267,
          4.686267,
          4.686267,
          4.686267,
          4.686267,
          4.686267,
          4.686267,
          4.686267,
          4.686267,
          4.686267,
          4.686267,
          4.686267,
          4.686267,
          4.686267,
          4.686267,
          4.686267,
          4.686267,
          4.686267,
          4.686267,
          4.686267,
          4.686267,
          4.686267,
          4.686267,
          4.686267,
          4.686267,
          4.686267,
          4.686267,
          4.686267,
          4.686267,
          4.686267,
          4.686267,
          4.686267,
          4.686267,
          4.686267,
          4.686267,
          4.686267,
          4.686267,
          4.686267,
          4.686267,
          4.686267,
          4.686267,
          4.686267,
          4.686267,
          4.686267,
          4.686267,
          4.686267,
          4.686267,
          4.686267,
          4.686267,
          4.686267,
          4.686267,
          4.686267,
          4.686267,
          4.686267,
          4.686267,
          4.686267,
          4.686267,
          4.686267,
          4.686267,
          4.686267,
          4.686267,
          4.686267,
          4.686267,
          4.686267,
          4.686267,
          4.686267,
          4.686267,
          4.686267,
          4.686267,
          4.686267,
          4.686267,
          4.686267,
          4.686267,
          4.686267,
          4.686267,
          4.686267,
          4.686267,
          4.686267,
          4.686267,
          4.686267,
          4.686267,
          4.686267,
          4.686267,
          4.686267,
          4.686267,
          4.686267,
          4.686267,
          4.686267,
          4.686267,
          4.686267,
          4.686267,
          4.686267,
          4.686267,
          4.686267,
          4.686267,
          4.686267,
          4.686267,
          4.686267,
          4.686267,
          4.686267,
          4.686267,
          4.686267,
          4.686267,
          4.686267,
          4.686267,
          4.686267,
          4.686267,
          4.686267,
          4.686267,
          4.686267,
          4.686267,
          4.686267,
          4.686267,
          4.686267,
          4.686267,
          4.686267,
          4.686267,
          4.686267,
          4.686267,
          4.686267,
          4.686267,
          4.686267,
          4.686267,
          4.686267,
          4.686267,
          4.686267,
          4.686267,
          4.686267,
          4.686267,
          4.686267,
          4.686267,
          4.686267,
          4.686267,
          4.686267,
          4.686267,
          4.686267,
          4.686267,
          4.686267,
          4.686267,
          4.686267,
          4.686267,
          4.686267,
          4.686267,
          4.686267,
          4.686267,
          4.686267,
          4.686267,
          4.686267,
          4.686267,
          4.686267,
          4.686267,
          4.686267,
          4.686267,
          4.686267,
          4.686267,
          4.686267,
          4.686267,
          4.686267,
          4.686267,
          4.686267,
          4.686267,
          4.686267,
          4.686267,
          4.686267,
          4.686267,
          4.686267,
          4.686267,
          4.686267,
          4.686267,
          4.686267,
          4.686267,
          4.686267,
          4.686267,
          4.686267,
          4.686267,
          4.686267,
          4.686267,
          4.686267,
          4.686267,
          4.686267,
          4.686267,
          4.686267,
          3.9894393,
          3.9894393,
          3.9894393,
          3.9894393,
          3.9894393,
          3.9894393,
          3.9894393,
          3.9894393,
          3.9894393,
          3.9894393,
          3.9894393,
          3.9894393,
          3.9894393,
          3.9894393,
          3.9894393,
          3.9894393,
          3.9894393,
          3.9894393,
          3.9894393,
          3.9894393,
          3.9894393,
          3.9894393,
          3.9894393,
          3.9894393,
          3.9894393,
          3.9894393,
          3.9894393,
          3.9894393,
          3.9894393,
          3.9894393,
          3.9894393,
          3.9894393,
          3.9894393,
          3.9894393,
          3.9894393,
          3.9894393,
          3.9894393,
          3.9894393,
          3.9894393,
          3.9894393,
          3.9894393,
          3.9894393,
          3.9894393,
          3.9894393,
          3.9894393,
          3.9894393,
          3.9894393,
          3.9894393,
          3.9894393,
          3.9894393,
          3.9894393,
          3.9894393,
          3.9894393,
          3.9894393,
          3.9894393,
          3.9894393,
          3.9894393,
          3.9894393,
          3.9894393,
          -21.141956,
          -21.141956,
          -21.141956,
          -21.141956,
          -21.141956,
          -21.141956,
          -21.141956,
          -21.141956,
          -21.141956,
          -37.8142454,
          -37.8142454,
          -37.8142454,
          -37.8142454,
          -37.8142454,
          -37.8142454,
          -37.8142454,
          -37.8142454,
          -37.8142454,
          -37.8142454,
          -37.8142454,
          -37.8142454,
          -37.8142454,
          -37.8142454,
          -37.8142454,
          -37.8142454,
          -37.8142454,
          -37.8142454,
          -37.8142454,
          -37.8142454,
          -37.8142454,
          -37.8142454,
          -37.8142454,
          -37.8142454,
          -37.8142454,
          -37.8142454,
          -37.8142454,
          -37.8142454,
          -37.8142454,
          -37.8142454,
          8.7712794,
          8.7712794,
          8.7712794,
          8.7712794,
          8.7712794,
          8.7712794,
          8.7712794,
          8.7712794,
          8.7712794,
          8.7712794,
          8.7712794,
          8.7712794,
          8.7712794,
          8.7712794,
          8.7712794,
          8.7712794,
          8.7712794,
          8.7712794,
          8.7712794,
          8.7712794,
          8.7712794,
          8.7712794,
          8.7712794,
          8.7712794,
          8.7712794,
          8.7712794,
          8.7712794,
          8.7712794,
          8.7712794,
          8.7712794,
          8.7712794,
          8.7712794,
          8.7712794,
          8.7712794,
          8.7712794,
          8.7712794,
          8.7712794,
          8.7712794,
          8.7712794,
          8.7712794,
          8.7712794,
          8.7712794,
          8.7712794,
          8.7712794,
          8.7712794,
          8.7712794,
          8.7712794,
          8.7712794,
          8.7712794,
          8.7712794,
          8.7712794,
          8.7712794,
          8.7712794,
          8.7712794,
          8.7712794,
          8.7712794,
          8.7712794,
          8.7712794,
          8.7712794,
          8.7712794,
          8.7712794,
          -19.3893529,
          -19.3893529,
          -19.3893529,
          -19.3893529,
          -19.3893529,
          -19.3893529,
          -19.3893529,
          -19.3893529,
          -19.3893529,
          -19.3893529,
          -19.3893529,
          -19.3893529,
          -19.3893529,
          -19.3893529,
          -19.3893529,
          -19.3893529,
          -19.3893529,
          -19.3893529,
          -19.3893529,
          -19.3893529,
          -19.3893529,
          -19.3893529,
          -19.3893529,
          -19.3893529,
          -19.3893529,
          -19.3893529,
          -19.3893529,
          -19.3893529,
          -19.3893529,
          -19.3893529,
          -19.3893529,
          -19.3893529,
          -19.3893529,
          -19.3893529,
          -19.3893529,
          -19.3893529,
          -19.3893529,
          -19.3893529,
          -19.3893529,
          -19.3893529,
          -19.3893529,
          -19.3893529,
          -19.3893529,
          -19.3893529,
          -19.3893529,
          -19.3893529,
          -19.3893529,
          -19.3893529,
          -19.3893529,
          -19.3893529,
          -19.3893529,
          -19.3893529,
          -19.3893529,
          -19.3893529,
          -19.3893529,
          -19.3893529,
          -19.3893529,
          -19.3893529,
          -19.3893529,
          -19.3893529,
          -19.3893529,
          -19.3893529,
          -19.3893529,
          -19.3893529,
          -19.3893529,
          -19.3893529,
          -19.3893529,
          -19.3893529,
          -19.3893529,
          -19.3893529,
          -19.3893529,
          -19.3893529,
          -19.3893529,
          -19.3893529,
          -19.3893529,
          -19.3893529,
          -19.3893529,
          -19.3893529,
          -19.3893529,
          -19.3893529,
          -19.3893529,
          -19.3893529,
          -19.3893529,
          -19.3893529,
          -19.3893529,
          -19.3893529,
          -19.3893529,
          -19.3893529,
          -19.3893529,
          -19.3893529,
          -31.9558933,
          -36.3831633,
          -36.3831633,
          2.7497556,
          2.7497556,
          2.7497556,
          2.7497556,
          2.7497556,
          2.7497556,
          2.7497556,
          2.7497556,
          2.7497556,
          2.7497556,
          2.7497556,
          2.7497556,
          2.7497556,
          2.7497556,
          2.7497556,
          2.7497556,
          2.7497556,
          2.7497556,
          2.7497556,
          2.7497556,
          2.7497556,
          2.7497556,
          2.7497556,
          2.7497556,
          2.7497556,
          2.7497556,
          2.7497556,
          2.7497556,
          2.7497556,
          2.7497556,
          2.7497556,
          2.7497556,
          2.7497556,
          2.7497556,
          2.7497556,
          2.7497556,
          2.7497556,
          2.7497556,
          2.7497556,
          2.7497556,
          2.7497556,
          2.7497556,
          2.7497556,
          2.7497556,
          2.7497556,
          2.7497556,
          2.7497556,
          2.7497556,
          2.7497556,
          2.7497556,
          2.7497556,
          2.7497556,
          2.7497556,
          2.7497556,
          2.7497556,
          2.7497556,
          2.7497556,
          2.7497556,
          2.7497556,
          2.7497556,
          2.7497556,
          2.7497556,
          -33.8698439,
          -33.8698439,
          -33.8698439,
          -33.8698439,
          -33.8698439,
          -33.8698439,
          -33.8698439,
          -33.8698439,
          -33.8698439,
          -33.8698439,
          -33.8698439,
          -33.8698439,
          -33.8698439,
          -33.8698439,
          -33.8698439,
          -33.8698439,
          -33.8698439,
          -33.8698439,
          -33.8698439,
          -33.8698439,
          -33.8698439,
          -33.8698439,
          -33.8698439,
          -33.8698439,
          -33.8698439,
          -33.8698439,
          -33.8698439,
          -33.8698439,
          -33.8698439,
          -33.8698439,
          -33.8698439,
          -33.8698439,
          -33.8698439,
          -33.8698439,
          -33.8698439,
          -33.8698439,
          -33.8698439,
          -33.8698439,
          -33.8698439,
          -33.8698439,
          -33.8698439,
          -33.8698439,
          -33.8698439,
          -33.8698439,
          -33.8698439,
          -33.8698439,
          -33.8698439,
          -33.8698439,
          -33.8698439,
          -33.8698439,
          -33.8698439,
          -33.8698439,
          -33.8698439,
          -33.8698439,
          -33.8698439,
          -33.8698439,
          -33.8698439,
          -33.8698439,
          -33.8698439,
          -33.8698439,
          -33.8698439,
          -33.8698439,
          -33.8698439,
          -33.8698439,
          -33.8698439,
          -33.8698439,
          -33.8698439,
          -33.8698439,
          -33.8698439,
          -33.8698439,
          -33.8698439,
          -33.8698439,
          -33.8698439,
          -33.8698439,
          -33.8698439,
          -33.8698439,
          -33.8698439,
          -33.8698439,
          -33.8698439,
          -33.8698439,
          -33.8698439,
          -33.8698439,
          -33.8698439,
          -33.8698439,
          -33.8698439,
          -33.8698439,
          -33.8698439,
          -33.8698439,
          -33.8698439,
          -33.8698439,
          -33.8698439,
          -33.8698439,
          -33.8698439,
          -33.8698439,
          -33.8698439,
          -33.8698439,
          -33.8698439,
          -33.8698439,
          -33.8698439,
          -33.8698439,
          -33.8698439,
          -33.8698439,
          -33.8698439,
          -33.8698439,
          -33.8698439,
          -33.8698439,
          -33.8698439,
          -33.8698439,
          -33.8698439,
          -33.8698439,
          -33.8698439,
          -33.8698439,
          -33.8698439,
          -33.8698439,
          -33.8698439,
          -33.8698439,
          -33.8698439,
          -33.8698439,
          -33.8698439,
          -27.5610193,
          -27.5610193,
          -27.5610193,
          -27.5610193,
          52.4238936,
          52.4238936,
          52.4238936,
          52.4238936,
          52.4238936,
          52.4238936,
          52.4238936,
          52.4238936,
          52.4238936,
          52.4238936,
          52.4238936,
          52.4238936,
          52.4238936,
          48.2772137,
          48.2772137,
          48.2772137,
          48.2772137,
          48.2772137,
          48.2772137,
          -36.0737734,
          -36.0737734,
          -36.0737734,
          -33.9171897,
          -41.4340813,
          43.747744,
          -32.7316683,
          54.9738474,
          -23.3782137,
          36.3926798,
          36.3926798,
          41.3123363,
          55.7692442,
          55.7692442,
          55.7692442,
          55.7692442,
          55.7692442,
          55.7692442,
          55.7692442,
          55.7692442,
          55.7692442,
          55.7692442,
          55.7692442,
          -33.7401885,
          -33.7401885,
          -33.7401885,
          -33.7401885,
          -33.7401885,
          -33.7401885,
          -16.9206657,
          -16.9206657,
          -32.2478964,
          -38.1493248,
          -38.1493248,
          -38.1493248,
          -30.7464139,
          -34.8741198,
          -34.8741198,
          -37.9008141,
          -37.9008141,
          -37.9008141,
          -37.9008141,
          -37.9008141,
          -37.9008141,
          -26.7981633,
          49.1129518,
          58.333271,
          52.8117106,
          -31.0900743,
          -36.1205539,
          -36.1205539,
          -36.1205539,
          54.2263,
          -37.5623013,
          -37.5623013,
          -37.5623013,
          -37.5623013,
          -37.5623013,
          -37.5623013,
          -37.5623013
         ],
         "legendgroup": "",
         "lon": [
          -5.8986564,
          -5.8986564,
          -5.8986564,
          -5.8986564,
          -5.8986564,
          -5.8986564,
          -5.8986564,
          144.2826718,
          153.0234991,
          153.0234991,
          153.0234991,
          153.0234991,
          153.0234991,
          153.0234991,
          153.0234991,
          153.0234991,
          153.0234991,
          153.0234991,
          153.0234991,
          153.0234991,
          153.0234991,
          153.0234991,
          153.0234991,
          153.0234991,
          153.0234991,
          153.0234991,
          153.0234991,
          153.0234991,
          153.0234991,
          153.0234991,
          153.0234991,
          153.0234991,
          153.0234991,
          153.0234991,
          153.0234991,
          153.0234991,
          153.0234991,
          153.0234991,
          115.636698,
          115.636698,
          115.636698,
          115.636698,
          115.636698,
          115.636698,
          115.636698,
          115.636698,
          115.636698,
          115.636698,
          149.1012676,
          149.1012676,
          149.1012676,
          149.1012676,
          149.1012676,
          149.1012676,
          149.1012676,
          11.9414512,
          11.9414512,
          11.9414512,
          11.9414512,
          11.9414512,
          11.9414512,
          11.9414512,
          11.9414512,
          11.9414512,
          11.9414512,
          11.9414512,
          11.9414512,
          11.9414512,
          11.9414512,
          11.9414512,
          11.9414512,
          11.9414512,
          11.9414512,
          11.9414512,
          11.9414512,
          11.9414512,
          11.9414512,
          11.9414512,
          11.9414512,
          11.9414512,
          11.9414512,
          11.9414512,
          11.9414512,
          11.9414512,
          11.9414512,
          11.9414512,
          11.9414512,
          11.9414512,
          11.9414512,
          11.9414512,
          11.9414512,
          11.9414512,
          11.9414512,
          11.9414512,
          11.9414512,
          11.9414512,
          11.9414512,
          11.9414512,
          11.9414512,
          11.9414512,
          11.9414512,
          11.9414512,
          11.9414512,
          11.9414512,
          11.9414512,
          11.9414512,
          11.9414512,
          11.9414512,
          11.9414512,
          11.9414512,
          11.9414512,
          11.9414512,
          11.9414512,
          11.9414512,
          11.9414512,
          11.9414512,
          11.9414512,
          11.9414512,
          11.9414512,
          11.9414512,
          11.9414512,
          11.9414512,
          11.9414512,
          11.9414512,
          11.9414512,
          11.9414512,
          11.9414512,
          11.9414512,
          11.9414512,
          11.9414512,
          11.9414512,
          11.9414512,
          11.9414512,
          11.9414512,
          11.9414512,
          11.9414512,
          11.9414512,
          11.9414512,
          11.9414512,
          11.9414512,
          11.9414512,
          11.9414512,
          11.9414512,
          11.9414512,
          11.9414512,
          11.9414512,
          11.9414512,
          11.9414512,
          11.9414512,
          11.9414512,
          11.9414512,
          11.9414512,
          11.9414512,
          11.9414512,
          11.9414512,
          11.9414512,
          11.9414512,
          11.9414512,
          11.9414512,
          11.9414512,
          11.9414512,
          11.9414512,
          11.9414512,
          11.9414512,
          11.9414512,
          11.9414512,
          11.9414512,
          11.9414512,
          11.9414512,
          11.9414512,
          11.9414512,
          11.9414512,
          11.9414512,
          11.9414512,
          11.9414512,
          11.9414512,
          11.9414512,
          11.9414512,
          11.9414512,
          11.9414512,
          11.9414512,
          11.9414512,
          11.9414512,
          11.9414512,
          11.9414512,
          11.9414512,
          11.9414512,
          11.9414512,
          11.9414512,
          11.9414512,
          11.9414512,
          11.9414512,
          11.9414512,
          11.9414512,
          11.9414512,
          11.9414512,
          11.9414512,
          11.9414512,
          11.9414512,
          11.9414512,
          11.9414512,
          11.9414512,
          11.9414512,
          11.9414512,
          11.9414512,
          11.9414512,
          11.9414512,
          11.9414512,
          11.9414512,
          11.9414512,
          11.9414512,
          11.9414512,
          11.9414512,
          11.9414512,
          11.9414512,
          11.9414512,
          11.9414512,
          11.9414512,
          11.9414512,
          11.9414512,
          11.9414512,
          11.9414512,
          11.9414512,
          11.9414512,
          11.9414512,
          11.9414512,
          11.9414512,
          11.9414512,
          11.9414512,
          11.9414512,
          11.9414512,
          11.9414512,
          11.9414512,
          11.9414512,
          11.9414512,
          11.9414512,
          11.9414512,
          11.9414512,
          11.9414512,
          11.9414512,
          11.9414512,
          11.9414512,
          11.9414512,
          11.9414512,
          11.9414512,
          11.9414512,
          11.9414512,
          11.9414512,
          11.9414512,
          11.9414512,
          11.9414512,
          11.9414512,
          11.9414512,
          11.9414512,
          11.9414512,
          11.9414512,
          11.9414512,
          11.9414512,
          11.9414512,
          11.9414512,
          11.9414512,
          11.9414512,
          11.9414512,
          11.9414512,
          11.9414512,
          11.9414512,
          11.9414512,
          11.9414512,
          11.9414512,
          14.178373,
          14.178373,
          14.178373,
          14.178373,
          14.178373,
          14.178373,
          14.178373,
          14.178373,
          14.178373,
          14.178373,
          14.178373,
          14.178373,
          14.178373,
          14.178373,
          14.178373,
          14.178373,
          14.178373,
          14.178373,
          14.178373,
          14.178373,
          14.178373,
          14.178373,
          14.178373,
          14.178373,
          14.178373,
          14.178373,
          14.178373,
          14.178373,
          14.178373,
          14.178373,
          14.178373,
          14.178373,
          14.178373,
          14.178373,
          14.178373,
          14.178373,
          14.178373,
          14.178373,
          14.178373,
          14.178373,
          14.178373,
          14.178373,
          14.178373,
          14.178373,
          14.178373,
          14.178373,
          14.178373,
          14.178373,
          14.178373,
          14.178373,
          14.178373,
          14.178373,
          14.178373,
          14.178373,
          14.178373,
          14.178373,
          14.178373,
          14.178373,
          14.178373,
          149.1865149,
          149.1865149,
          149.1865149,
          149.1865149,
          149.1865149,
          149.1865149,
          149.1865149,
          149.1865149,
          149.1865149,
          144.9631732,
          144.9631732,
          144.9631732,
          144.9631732,
          144.9631732,
          144.9631732,
          144.9631732,
          144.9631732,
          144.9631732,
          144.9631732,
          144.9631732,
          144.9631732,
          144.9631732,
          144.9631732,
          144.9631732,
          144.9631732,
          144.9631732,
          144.9631732,
          144.9631732,
          144.9631732,
          144.9631732,
          144.9631732,
          144.9631732,
          144.9631732,
          144.9631732,
          144.9631732,
          144.9631732,
          144.9631732,
          144.9631732,
          144.9631732,
          13.7803627,
          13.7803627,
          13.7803627,
          13.7803627,
          13.7803627,
          13.7803627,
          13.7803627,
          13.7803627,
          13.7803627,
          13.7803627,
          13.7803627,
          13.7803627,
          13.7803627,
          13.7803627,
          13.7803627,
          13.7803627,
          13.7803627,
          13.7803627,
          13.7803627,
          13.7803627,
          13.7803627,
          13.7803627,
          13.7803627,
          13.7803627,
          13.7803627,
          13.7803627,
          13.7803627,
          13.7803627,
          13.7803627,
          13.7803627,
          13.7803627,
          13.7803627,
          13.7803627,
          13.7803627,
          13.7803627,
          13.7803627,
          13.7803627,
          13.7803627,
          13.7803627,
          13.7803627,
          13.7803627,
          13.7803627,
          13.7803627,
          13.7803627,
          13.7803627,
          13.7803627,
          13.7803627,
          13.7803627,
          13.7803627,
          13.7803627,
          13.7803627,
          13.7803627,
          13.7803627,
          13.7803627,
          13.7803627,
          13.7803627,
          13.7803627,
          13.7803627,
          13.7803627,
          13.7803627,
          13.7803627,
          23.267951,
          23.267951,
          23.267951,
          23.267951,
          23.267951,
          23.267951,
          23.267951,
          23.267951,
          23.267951,
          23.267951,
          23.267951,
          23.267951,
          23.267951,
          23.267951,
          23.267951,
          23.267951,
          23.267951,
          23.267951,
          23.267951,
          23.267951,
          23.267951,
          23.267951,
          23.267951,
          23.267951,
          23.267951,
          23.267951,
          23.267951,
          23.267951,
          23.267951,
          23.267951,
          23.267951,
          23.267951,
          23.267951,
          23.267951,
          23.267951,
          23.267951,
          23.267951,
          23.267951,
          23.267951,
          23.267951,
          23.267951,
          23.267951,
          23.267951,
          23.267951,
          23.267951,
          23.267951,
          23.267951,
          23.267951,
          23.267951,
          23.267951,
          23.267951,
          23.267951,
          23.267951,
          23.267951,
          23.267951,
          23.267951,
          23.267951,
          23.267951,
          23.267951,
          23.267951,
          23.267951,
          23.267951,
          23.267951,
          23.267951,
          23.267951,
          23.267951,
          23.267951,
          23.267951,
          23.267951,
          23.267951,
          23.267951,
          23.267951,
          23.267951,
          23.267951,
          23.267951,
          23.267951,
          23.267951,
          23.267951,
          23.267951,
          23.267951,
          23.267951,
          23.267951,
          23.267951,
          23.267951,
          23.267951,
          23.267951,
          23.267951,
          23.267951,
          23.267951,
          23.267951,
          115.8605855,
          145.3988874,
          145.3988874,
          11.4860732,
          11.4860732,
          11.4860732,
          11.4860732,
          11.4860732,
          11.4860732,
          11.4860732,
          11.4860732,
          11.4860732,
          11.4860732,
          11.4860732,
          11.4860732,
          11.4860732,
          11.4860732,
          11.4860732,
          11.4860732,
          11.4860732,
          11.4860732,
          11.4860732,
          11.4860732,
          11.4860732,
          11.4860732,
          11.4860732,
          11.4860732,
          11.4860732,
          11.4860732,
          11.4860732,
          11.4860732,
          11.4860732,
          11.4860732,
          11.4860732,
          11.4860732,
          11.4860732,
          11.4860732,
          11.4860732,
          11.4860732,
          11.4860732,
          11.4860732,
          11.4860732,
          11.4860732,
          11.4860732,
          11.4860732,
          11.4860732,
          11.4860732,
          11.4860732,
          11.4860732,
          11.4860732,
          11.4860732,
          11.4860732,
          11.4860732,
          11.4860732,
          11.4860732,
          11.4860732,
          11.4860732,
          11.4860732,
          11.4860732,
          11.4860732,
          11.4860732,
          11.4860732,
          11.4860732,
          11.4860732,
          11.4860732,
          151.2082848,
          151.2082848,
          151.2082848,
          151.2082848,
          151.2082848,
          151.2082848,
          151.2082848,
          151.2082848,
          151.2082848,
          151.2082848,
          151.2082848,
          151.2082848,
          151.2082848,
          151.2082848,
          151.2082848,
          151.2082848,
          151.2082848,
          151.2082848,
          151.2082848,
          151.2082848,
          151.2082848,
          151.2082848,
          151.2082848,
          151.2082848,
          151.2082848,
          151.2082848,
          151.2082848,
          151.2082848,
          151.2082848,
          151.2082848,
          151.2082848,
          151.2082848,
          151.2082848,
          151.2082848,
          151.2082848,
          151.2082848,
          151.2082848,
          151.2082848,
          151.2082848,
          151.2082848,
          151.2082848,
          151.2082848,
          151.2082848,
          151.2082848,
          151.2082848,
          151.2082848,
          151.2082848,
          151.2082848,
          151.2082848,
          151.2082848,
          151.2082848,
          151.2082848,
          151.2082848,
          151.2082848,
          151.2082848,
          151.2082848,
          151.2082848,
          151.2082848,
          151.2082848,
          151.2082848,
          151.2082848,
          151.2082848,
          151.2082848,
          151.2082848,
          151.2082848,
          151.2082848,
          151.2082848,
          151.2082848,
          151.2082848,
          151.2082848,
          151.2082848,
          151.2082848,
          151.2082848,
          151.2082848,
          151.2082848,
          151.2082848,
          151.2082848,
          151.2082848,
          151.2082848,
          151.2082848,
          151.2082848,
          151.2082848,
          151.2082848,
          151.2082848,
          151.2082848,
          151.2082848,
          151.2082848,
          151.2082848,
          151.2082848,
          151.2082848,
          151.2082848,
          151.2082848,
          151.2082848,
          151.2082848,
          151.2082848,
          151.2082848,
          151.2082848,
          151.2082848,
          151.2082848,
          151.2082848,
          151.2082848,
          151.2082848,
          151.2082848,
          151.2082848,
          151.2082848,
          151.2082848,
          151.2082848,
          151.2082848,
          151.2082848,
          151.2082848,
          151.2082848,
          151.2082848,
          151.2082848,
          151.2082848,
          151.2082848,
          151.2082848,
          151.2082848,
          151.2082848,
          151.2082848,
          151.953351,
          151.953351,
          151.953351,
          151.953351,
          31.0131698,
          31.0131698,
          31.0131698,
          31.0131698,
          31.0131698,
          31.0131698,
          31.0131698,
          31.0131698,
          31.0131698,
          31.0131698,
          31.0131698,
          31.0131698,
          31.0131698,
          26.2026912,
          26.2026912,
          26.2026912,
          26.2026912,
          26.2026912,
          26.2026912,
          146.9135265,
          146.9135265,
          146.9135265,
          151.0335881,
          147.1373496,
          -95.947241,
          151.5511123,
          -1.6131572,
          150.5134227,
          -79.744144,
          -79.744144,
          69.2787079,
          -2.0026472,
          -2.0026472,
          -2.0026472,
          -2.0026472,
          -2.0026472,
          -2.0026472,
          -2.0026472,
          -2.0026472,
          -2.0026472,
          -2.0026472,
          -2.0026472,
          150.8648355,
          150.8648355,
          150.8648355,
          150.8648355,
          150.8648355,
          150.8648355,
          145.7721854,
          145.7721854,
          148.6026502,
          144.3598241,
          144.3598241,
          144.3598241,
          121.473223,
          150.6004709,
          150.6004709,
          144.6616935,
          144.6616935,
          144.6616935,
          144.6616935,
          144.6616935,
          144.6616935,
          153.1354434,
          7.3162243,
          44.761791,
          -0.8592867,
          150.9290159,
          146.8880837,
          146.8880837,
          146.8880837,
          26.7092,
          143.8605645,
          143.8605645,
          143.8605645,
          143.8605645,
          143.8605645,
          143.8605645,
          143.8605645
         ],
         "marker": {
          "color": [
           1.2193949315477577,
           4.5318037814114325,
           5.879096797506723,
           6.124059164069503,
           6.246540347350893,
           6.430262122272978,
           7.025520673020534,
           148.79924311527765,
           34.36338422622198,
           35.61296183444824,
           36.862539442674496,
           40.61127226735326,
           42.485638679692634,
           null,
           null,
           null,
           null,
           null,
           null,
           null,
           5.267604452373111,
           6.321125342847733,
           11.939903425379052,
           12.291077055537258,
           12.642250685695466,
           30.73953234416668,
           8.730682096524696,
           16.006250510295278,
           17.46136419304939,
           19.644034717180567,
           21.82670524131174,
           24.736932606819973,
           26.19204628957409,
           28.374716813705263,
           30.55738733783644,
           10.538171845986586,
           13.588695275087966,
           13.866015586824455,
           23.151199537292914,
           26.93098721685094,
           20.055774325515465,
           20.46507584236272,
           20.83716813040568,
           21.581352706491597,
           22.325537282577514,
           24.185998722792306,
           25.67436787496414,
           240.46219252156007,
           36.62484308734631,
           38.7176912637661,
           35.64963659072648,
           null,
           null,
           null,
           null,
           3.234980583000393,
           3.3085028689776745,
           3.5290697269095195,
           3.8231588708186464,
           3.896681156795928,
           4.043725728750491,
           4.117248014727773,
           4.264292586682336,
           4.4113371586369,
           5.514171448296124,
           5.661216020250688,
           5.808260592205251,
           6.102349736114378,
           6.617005737955349,
           0.28504075617390257,
           0.2898188960172801,
           0.2910088542158224,
           0.2951552170557972,
           0.29669764109331465,
           0.3021355699310523,
           0.30694348630025065,
           0.3078020427947504,
           0.31403614446733596,
           0.3167308832929754,
           0.3281240805337299,
           0.3845340544497992,
           2.7007069360748277,
           2.766577836954702,
           2.8983196387144496,
           2.9641905395943233,
           3.030061440474197,
           3.051140128755757,
           3.095932341354071,
           3.161803242233945,
           3.3594159448735663,
           3.438461025929415,
           3.557028647513188,
           3.622899548393062,
           3.6887704492729356,
           3.9522540527924312,
           4.149866755432052,
           0.2833272124095574,
           0.28480782558408474,
           0.2863396204485958,
           0.2868611862417626,
           0.28717077947589803,
           0.28868301068284774,
           0.29089617414606017,
           0.2914260396727379,
           0.2917098444491788,
           0.29198462491219923,
           0.2931834753082129,
           0.39671540505714586,
           1.9615151282864762,
           2.036958017835956,
           2.7159440237812746,
           2.9422726924297145,
           3.017715581979194,
           3.055437026753934,
           3.093158471528674,
           3.168601361078154,
           3.3194871401771135,
           3.3949300297265936,
           3.5080943640508133,
           4.149358925221392,
           4.375687593869832,
           0.2192262109761381,
           0.2345581676477207,
           0.23516114494244494,
           0.2353585789843959,
           0.23647860412264748,
           0.2374495541111493,
           0.27883691977487757,
           0.3587083069409119,
           0.41849302476439715,
           2.2279519072899574,
           2.238732319744586,
           2.2998213236541494,
           2.4435601563825338,
           2.5154295727467257,
           2.587298989110918,
           2.65916840547511,
           2.7310378218393025,
           2.8747766545676865,
           2.946646070931879,
           3.0903849036602633,
           3.377862569117032,
           3.521601401845416,
           3.952817900030569,
           4.8871203127650675,
           5.174597978221836,
           5.749553309135373,
           0.2774964409121097,
           0.2784939884112447,
           0.27994934409261957,
           0.28223119806218266,
           0.2923779019380202,
           0.2956646700218956,
           0.2961551787885812,
           0.29830867398051786,
           0.29914307790450617,
           0.3072935009367037,
           0.30845778548180364,
           0.3984440443230814,
           0.4020914172035641,
           0.13913631530442147,
           0.7853406293847315,
           1.1423136427414278,
           1.213708245412767,
           1.2851028480841062,
           1.4278920534267845,
           1.4992866560981237,
           1.6420758614408022,
           1.7134704641121414,
           2.141838080140177,
           2.3560218881541948,
           2.4988110934968732,
           2.78438950418223,
           2.855784106853569,
           3.212757120210265,
           3.426940928224283,
           3.5697301335669613,
           3.9980977495949968,
           4.140886954937676,
           0.19089131889249328,
           0.19188887997831855,
           0.19365785974600766,
           0.1946698782388739,
           0.1973186179979806,
           0.20009051344669532,
           0.20340322301064548,
           0.20344463188019485,
           0.2042799487314495,
           0.20564858326465907,
           0.2089006074163386,
           0.20909587165464472,
           0.20916191166211567,
           0.20933361568154027,
           0.20995439175176753,
           0.21112990388475114,
           0.21249032803865353,
           0.21308468810589243,
           0.21481493630163231,
           0.21499128097023054,
           0.21683611750325796,
           0.21823330987753603,
           0.22232279271855035,
           0.22604959097799426,
           0.2274220808197481,
           0.23036182497934315,
           0.3394599173214166,
           0.3734059090535583,
           0.09044839423226624,
           0.35077524789879716,
           1.3798584961391405,
           1.6385819641652293,
           1.7248231201739255,
           1.897305432191318,
           1.9835465882000143,
           2.0697877442087105,
           2.156028900217407,
           2.2422700562261033,
           2.3285112122347993,
           2.4147523682434957,
           2.587234680260888,
           2.759716992278281,
           2.8459581482869774,
           3.0184404603043697,
           3.104681616313066,
           3.2771639283304586,
           3.363405084339155,
           3.449646240347851,
           3.622128552365244,
           3.7225994991153746,
           4.743263580478295,
           5.001987048504384,
           5.174469360521776,
           5.519433984556562,
           5.864398608591347,
           6.381845544643524,
           6.72681016867831,
           6.899292480695702,
           7.373618838743532,
           7.847945196791361,
           0.29408234198965433,
           0.2954104557921882,
           0.29561915938972927,
           0.2996414469059749,
           0.30036242297020754,
           0.3004572882418171,
           0.3060922853754253,
           0.3109552085598657,
           0.31530456566027426,
           0.31569135724497327,
           0.33298745228829735,
           0.5057293501852761,
           0.5330660718169126,
           0.2606638940362845,
           0.26202607309544185,
           0.267323436103276,
           3.4433593240480063,
           3.7337631224616934,
           3.802906883988762,
           4.148625691624104,
           4.252341333914706,
           4.286913214678241,
           4.494344499259446,
           4.701775783840651,
           5.531500922165471,
           6.222938537436156,
           0.30649216884580555,
           0.30865775145683333,
           0.31091156150756966,
           0.31512770608232493,
           1.3473715049887698,
           1.422225477488146,
           1.497079449987522,
           1.5719334224868982,
           1.654272792236212,
           1.7964953399850265,
           2.170765202481907,
           2.4701810924794114,
           2.6198890374781634,
           2.844450954976292,
           2.9267903247256055,
           3.06901287247442,
           3.8924065699675574,
           4.865508212459447,
           5.239778074956327,
           5.389486019955079,
           5.614047937453208,
           5.79249980789172,
           6.362587662446969,
           6.512295607445721,
           6.632061963444722,
           6.361136404135775,
           6.695933056985026,
           6.8298517181247265,
           7.030729709834277,
           10.151891593820592,
           1.5388841974752694,
           2.769991555455485,
           3.3855452344455927,
           5.77081574053226,
           6.1555367899010776,
           9.002472555230327,
           9.233305184851616,
           10.002747283589251,
           1.241152451139341,
           2.0442510959942086,
           2.2632779991364456,
           2.3362869668505244,
           2.555313869992761,
           2.6283228377068397,
           3.796466321132102,
           4.8185918691292065,
           5.840717417126311,
           6.5708070942671,
           6.935851932837494,
           3.702462703613122,
           3.790616577508673,
           0.4919614773673868,
           0.7028021105248383,
           0.7730823215773222,
           0.9136427436822898,
           0.9487828492085317,
           0.9839229547347736,
           1.1244833768397413,
           1.560220685365141,
           1.6164448542071281,
           2.951768864204321,
           3.724851185781643,
           6.571199733407238,
           73.00785315887413,
           72.16841570723271,
           78.38983085440793,
           105.76405750197897,
           18.3853483996908,
           19.30461581967534,
           21.60278436963669,
           14.02861796633186,
           54.000535158655346,
           84.14144562802373,
           88.73097902591594,
           114.73833494730509,
           28.374716813705263,
           29.10227365508232,
           29.82983049645938,
           32.012501020590555,
           32.740057861967614,
           33.46761470334467,
           33.700432892585326,
           36.3778420688529,
           37.10539891022996,
           37.97846711988243,
           41.47073995849231,
           42.19829679986937,
           43.65341048262348,
           11.117132148690995,
           12.70529388421828,
           13.022926231323737,
           53.50545316533903,
           58.52158939958956,
           66.88181645667379,
           70.05870273836578,
           70.22590727950747,
           75.242043513758,
           null,
           null,
           9.186746639631725,
           9.554216505216994,
           133.7603008084245,
           4.957133148427944,
           0.28854189034301825,
           0.2975008879225653,
           1.8999178468438862,
           2.8171195660099,
           3.210206017081049,
           3.275720425592907,
           3.570535263896269,
           3.9308645107114883,
           4.127407736247063,
           4.9135806383893605,
           2.3594360320608883,
           2.5116577115486876,
           2.587768551292587,
           2.663879391036487,
           2.7399902307803865,
           2.816101070524286,
           3.044433589755985,
           3.892747677945245,
           0.24189109407368703,
           1.1293037150951057,
           1.5527926082557704,
           1.6586648315459367,
           1.6939555726426587,
           1.7645370548361028,
           1.8351185370295469,
           1.9762815014164352,
           2.1174444658033234,
           2.1880259479967674,
           2.3291889123836556,
           2.3997703945770996,
           2.4703518767705437,
           2.540933358963988,
           0.14130412735127512,
           0.14542396846690644,
           0.14667184907208655,
           0.15600067415507624,
           0.15613329676011772,
           0.15808487474276645,
           0.15891099570109962,
           0.16107318882661356,
           0.1620956674684089,
           0.16548957803968065,
           0.17600480725685996,
           0.18145546221924871,
           0.22932241181319862,
           0.27966147782097395,
           0.3355937733851687,
           0.35796669161084665,
           4.117276095580421,
           4.8892653635017504,
           5.146595119475526,
           0.23931667305561197,
           0.24039745803070184,
           0.24056729566964452,
           0.24384053016563095,
           0.24543082805754887,
           4.037222631321065,
           0.27168113346212863,
           0.27623532587276545,
           0.27736951172215774,
           6.875876841007739,
           6.889628594689754,
           7.059233556767945,
           7.072985310449961,
           7.242590272528152,
           7.425946988288358,
           7.517625346168462,
           8.251052209209288,
           4.238163543245535,
           4.398094242990649,
           4.4780595928632065,
           4.494052662837718,
           4.637990292608321,
           4.717955642480878,
           4.797920992353435,
           4.877886342225993,
           5.357678441461337,
           5.517609141206451,
           5.597574491079008,
           5.757505190824123,
           5.917435890569237,
           6.3972279898045805,
           0.6176959870875309,
           0.7059382709571782,
           0.8824228386964728,
           0.9265439806312964,
           0.97066512256612,
           1.191270832240238,
           1.5001188257840037,
           1.553064196105792,
           8.912470670834374,
           9.177197522443317,
           11.030285483705908,
           12.883373444968502,
           15.001188257840036,
           5.707020314795683,
           5.797607938840059,
           5.888195562884435,
           6.0693708109731865,
           6.159958435017563,
           6.43172130715069,
           7.156422299505698,
           7.247009923550074,
           3.567485390295222,
           3.6566725250526027,
           3.745859659809983,
           3.9242339293247444,
           4.013421064082125,
           4.058014631460815,
           4.102608198839506,
           4.1472017662181955,
           4.191795333596886,
           4.280982468354266,
           4.459356737869028,
           4.548543872626408,
           4.637731007383788,
           4.7269181421411695,
           4.81610527689855,
           4.90529241165593,
           5.083666681170691,
           5.351228085442833,
           5.440415220200213,
           5.904188320938593,
           6.064725163501877,
           6.153912298259258,
           6.51066083728878,
           7.491719319619966,
           6.252844080208379,
           6.472242118110428,
           6.911038193914525,
           7.020737212865549,
           7.075586722341061,
           7.1304362318165735,
           7.240135250767597,
           7.349834269718621,
           7.459533288669646,
           7.56923230762067,
           7.678931326571694,
           7.898329364473742,
           8.008028383424767,
           8.227426421326815,
           9.65351366769013,
           9.872911705592179,
           10.202008762445251,
           6.337862056930891,
           7.023036333355853,
           7.279976687015214,
           7.7082106097808145,
           7.810986751244559,
           8.992912378077618,
           22.52588027424585,
           133.84276070302545,
           136.99200213133193,
           4.073003413452492,
           4.2951672360044455,
           4.665440273591036,
           4.8135494886256724,
           5.405986348764216,
           5.554095563798852,
           11.108191127597705,
           3.3128852965353035,
           3.4454007083967157,
           3.511658414327422,
           3.6441738261888337,
           3.9754623558423643,
           4.04172006177307,
           4.174235473634482,
           7.487120770169786,
           7.75215159389261,
           2.4888905803568924,
           2.5643115070343736,
           2.6397324337118553,
           2.677442897050596,
           2.715153360389337,
           8.145460081168011,
           10.558929734847421,
           3.9921699294024116,
           4.3550944684389945,
           4.500264284053627,
           5.226113362126793,
           5.443868085548743,
           10.887736171097487,
           1.5838818767698761,
           1.7278711382944103,
           1.7998657690566775,
           1.8718603998189445,
           2.015849661343479,
           2.159838922868013,
           2.23183355363028,
           2.303828184392547,
           2.447817445917081,
           2.519812076679348,
           2.5918067074416156,
           6.263532876317237,
           0.18135328697874323,
           0.34231287088535134,
           0.3993650160329099,
           3.644560576800577,
           4.3387625914292585,
           4.512313095086428,
           5.2065151097151094,
           5.38006561337228,
           5.640391368858036,
           11.974984752344753,
           0.27587588061343793,
           3.7634124984246604,
           4.181569442694067,
           4.530033562918573,
           4.669419211008375,
           4.808804859098177,
           5.226961803367584,
           5.575425923592089,
           6.411739812130903,
           10.105459486510663,
           10.802387726959674,
           64.5439326028223,
           75.7315475873115,
           77.45271912338676,
           85.19799103572542,
           86.05857680376306,
           92.08267718002648,
           94.66443448413936,
           72.34813817664002,
           75.07825659840002,
           77.80837502016003,
           79.17343423104002,
           81.90355265280003,
           83.26861186368002,
           88.72884870720003,
           91.45896712896003,
           92.82402633984003,
           95.55414476160003,
           106.47461844864003,
           109.20473687040004,
           0.47632910824983216,
           2.22286917183255,
           3.1755273883322146,
           3.3343037577488253,
           3.524835401048758,
           3.5883459488154026,
           3.8106328659986572,
           4.128185604831879,
           4.20122273476352,
           4.28696197424849,
           4.4457383436651,
           4.763291082498322,
           5.080843821331543,
           5.398396560164764,
           5.588928203464698,
           5.7159492989979865,
           6.033502037831208,
           6.1922784072478185,
           6.351054776664429,
           6.6686075154976505,
           6.986160254330872,
           7.6212657319973145,
           7.938818470830537,
           8.57392394849698,
           11.114345859162752,
           11.431898597995973,
           12.067004075662416,
           13.718278317595168,
           14.289873247494965,
           20.640928024159393,
           69.98467090408529,
           72.82188729208875,
           74.71336488409105,
           75.6591036800922,
           78.49632006809567,
           80.38779766009797,
           105.9227451521291,
           53.27209424222378,
           56.07588867602503,
           57.47778589292566,
           58.87968310982628,
           61.68347754362754,
           63.08537476052816,
           63.78632336897847,
           64.48727197742879,
           65.88916919432941,
           67.29106641123003,
           68.69296362813067,
           70.09486084503129,
           72.89865527883254,
           74.30055249573317,
           75.7024497126338,
           77.10434692953442,
           79.90814136333567,
           81.3100385802363,
           82.71193579713692,
           84.11383301403755,
           85.51573023093817,
           86.9176274478388,
           88.31952466473943,
           89.72142188164005,
           92.5252163154413,
           92.80559575882143,
           95.32901074924256,
           98.1328051830438,
           100.93659961684506,
           105.14229126754694,
           117.75936621965256,
           17.019584194041165,
           17.323505340363326,
           17.931347633007654,
           18.539189925651982,
           19.14703221829631,
           19.450953364618474,
           19.602913937779554,
           19.75487451094064,
           20.0587956572628,
           20.210756230423883,
           20.362716803584963,
           20.666637949907127,
           20.97055909622929,
           21.274480242551455,
           21.57840138887362,
           21.882322535195783,
           22.186243681517947,
           22.49016482784011,
           22.79408597416227,
           23.098007120484436,
           23.705849413128764,
           24.313691705773092,
           25.22545514473958,
           25.83329743738391,
           27.35290316899473,
           28.264666607961217,
           28.56858775428338,
           28.872508900605546,
           30.0881934858942,
           30.240154059055282,
           372.28341250057906,
           480.3656935491343,
           29.828202492083832,
           35.81904000439445,
           34.379767634011856,
           46.57904002027413,
           0.14784773733095657,
           0.06270599725320904,
           0.06318829670693284,
           0.06355919482831207,
           0.07708133475403627,
           0.08000942441839413,
           0.08161314365937183,
           0.08184142507811075,
           0.08569041889539615,
           0.09640172125732067,
           0.12737477114813536,
           0.14222511515264824,
           0.14262293527832384,
           0.14039941631695355,
           0.09855560406840518,
           0.07796657226736174,
           0.07863560210068633,
           0.10721313038168777,
           0.10867190604697996,
           53.7157956687706,
           58.192111974501486,
           14.6116588753603,
           8.595300493348613,
           27.858395318014995,
           2.5056503877471603,
           24.305775269115976,
           12.431063341184128,
           51.97292475544803,
           7.578974411575176,
           9.082242063457855,
           0.47268080930725975,
           3.1602673445134855,
           1.601932298085039,
           1.6612631239400406,
           1.7799247756500434,
           2.670245360511158,
           3.1495201688080323,
           3.519246449494193,
           3.5603271473482105,
           3.7657306366183,
           4.108069785401781,
           4.31347327467187,
           46.134876834987594,
           21.466220580645995,
           31.48379018494746,
           10.734989067935338,
           11.655130988044082,
           13.802128801631149,
           38.05454295569931,
           44.97355076582646,
           14.312201639029437,
           137.23128845008037,
           178.40067498510447,
           183.5468483019825,
           13.952244589935633,
           165.90851217556968,
           187.3160621337077,
           55.17361965335742,
           61.86133112649165,
           66.87711473134233,
           70.22097046790944,
           75.23675407276012,
           76.23991079373025,
           31.15644087237032,
           1.5217715779819783,
           1.7057860776628377,
           3.075325967748937,
           70.19921931131155,
           110.07327810369492,
           117.9356551111017,
           20.80627679189426,
           0.07226607325016107,
           30.509268411148454,
           197.3353492118491,
           206.7322706028895,
           210.4910391593057,
           216.12919199392996,
           219.88796055034612,
           225.5261133849704
          ],
          "coloraxis": "coloraxis",
          "size": [
           1.2193949315477577,
           4.5318037814114325,
           5.879096797506723,
           6.124059164069503,
           6.246540347350893,
           6.430262122272978,
           7.025520673020534,
           148.79924311527765,
           34.36338422622198,
           35.61296183444824,
           36.862539442674496,
           40.61127226735326,
           42.485638679692634,
           null,
           null,
           null,
           null,
           null,
           null,
           null,
           5.267604452373111,
           6.321125342847733,
           11.939903425379052,
           12.291077055537258,
           12.642250685695466,
           30.73953234416668,
           8.730682096524696,
           16.006250510295278,
           17.46136419304939,
           19.644034717180567,
           21.82670524131174,
           24.736932606819973,
           26.19204628957409,
           28.374716813705263,
           30.55738733783644,
           10.538171845986586,
           13.588695275087966,
           13.866015586824455,
           23.151199537292914,
           26.93098721685094,
           20.055774325515465,
           20.46507584236272,
           20.83716813040568,
           21.581352706491597,
           22.325537282577514,
           24.185998722792306,
           25.67436787496414,
           240.46219252156007,
           36.62484308734631,
           38.7176912637661,
           35.64963659072648,
           null,
           null,
           null,
           null,
           3.234980583000393,
           3.3085028689776745,
           3.5290697269095195,
           3.8231588708186464,
           3.896681156795928,
           4.043725728750491,
           4.117248014727773,
           4.264292586682336,
           4.4113371586369,
           5.514171448296124,
           5.661216020250688,
           5.808260592205251,
           6.102349736114378,
           6.617005737955349,
           0.28504075617390257,
           0.2898188960172801,
           0.2910088542158224,
           0.2951552170557972,
           0.29669764109331465,
           0.3021355699310523,
           0.30694348630025065,
           0.3078020427947504,
           0.31403614446733596,
           0.3167308832929754,
           0.3281240805337299,
           0.3845340544497992,
           2.7007069360748277,
           2.766577836954702,
           2.8983196387144496,
           2.9641905395943233,
           3.030061440474197,
           3.051140128755757,
           3.095932341354071,
           3.161803242233945,
           3.3594159448735663,
           3.438461025929415,
           3.557028647513188,
           3.622899548393062,
           3.6887704492729356,
           3.9522540527924312,
           4.149866755432052,
           0.2833272124095574,
           0.28480782558408474,
           0.2863396204485958,
           0.2868611862417626,
           0.28717077947589803,
           0.28868301068284774,
           0.29089617414606017,
           0.2914260396727379,
           0.2917098444491788,
           0.29198462491219923,
           0.2931834753082129,
           0.39671540505714586,
           1.9615151282864762,
           2.036958017835956,
           2.7159440237812746,
           2.9422726924297145,
           3.017715581979194,
           3.055437026753934,
           3.093158471528674,
           3.168601361078154,
           3.3194871401771135,
           3.3949300297265936,
           3.5080943640508133,
           4.149358925221392,
           4.375687593869832,
           0.2192262109761381,
           0.2345581676477207,
           0.23516114494244494,
           0.2353585789843959,
           0.23647860412264748,
           0.2374495541111493,
           0.27883691977487757,
           0.3587083069409119,
           0.41849302476439715,
           2.2279519072899574,
           2.238732319744586,
           2.2998213236541494,
           2.4435601563825338,
           2.5154295727467257,
           2.587298989110918,
           2.65916840547511,
           2.7310378218393025,
           2.8747766545676865,
           2.946646070931879,
           3.0903849036602633,
           3.377862569117032,
           3.521601401845416,
           3.952817900030569,
           4.8871203127650675,
           5.174597978221836,
           5.749553309135373,
           0.2774964409121097,
           0.2784939884112447,
           0.27994934409261957,
           0.28223119806218266,
           0.2923779019380202,
           0.2956646700218956,
           0.2961551787885812,
           0.29830867398051786,
           0.29914307790450617,
           0.3072935009367037,
           0.30845778548180364,
           0.3984440443230814,
           0.4020914172035641,
           0.13913631530442147,
           0.7853406293847315,
           1.1423136427414278,
           1.213708245412767,
           1.2851028480841062,
           1.4278920534267845,
           1.4992866560981237,
           1.6420758614408022,
           1.7134704641121414,
           2.141838080140177,
           2.3560218881541948,
           2.4988110934968732,
           2.78438950418223,
           2.855784106853569,
           3.212757120210265,
           3.426940928224283,
           3.5697301335669613,
           3.9980977495949968,
           4.140886954937676,
           0.19089131889249328,
           0.19188887997831855,
           0.19365785974600766,
           0.1946698782388739,
           0.1973186179979806,
           0.20009051344669532,
           0.20340322301064548,
           0.20344463188019485,
           0.2042799487314495,
           0.20564858326465907,
           0.2089006074163386,
           0.20909587165464472,
           0.20916191166211567,
           0.20933361568154027,
           0.20995439175176753,
           0.21112990388475114,
           0.21249032803865353,
           0.21308468810589243,
           0.21481493630163231,
           0.21499128097023054,
           0.21683611750325796,
           0.21823330987753603,
           0.22232279271855035,
           0.22604959097799426,
           0.2274220808197481,
           0.23036182497934315,
           0.3394599173214166,
           0.3734059090535583,
           0.09044839423226624,
           0.35077524789879716,
           1.3798584961391405,
           1.6385819641652293,
           1.7248231201739255,
           1.897305432191318,
           1.9835465882000143,
           2.0697877442087105,
           2.156028900217407,
           2.2422700562261033,
           2.3285112122347993,
           2.4147523682434957,
           2.587234680260888,
           2.759716992278281,
           2.8459581482869774,
           3.0184404603043697,
           3.104681616313066,
           3.2771639283304586,
           3.363405084339155,
           3.449646240347851,
           3.622128552365244,
           3.7225994991153746,
           4.743263580478295,
           5.001987048504384,
           5.174469360521776,
           5.519433984556562,
           5.864398608591347,
           6.381845544643524,
           6.72681016867831,
           6.899292480695702,
           7.373618838743532,
           7.847945196791361,
           0.29408234198965433,
           0.2954104557921882,
           0.29561915938972927,
           0.2996414469059749,
           0.30036242297020754,
           0.3004572882418171,
           0.3060922853754253,
           0.3109552085598657,
           0.31530456566027426,
           0.31569135724497327,
           0.33298745228829735,
           0.5057293501852761,
           0.5330660718169126,
           0.2606638940362845,
           0.26202607309544185,
           0.267323436103276,
           3.4433593240480063,
           3.7337631224616934,
           3.802906883988762,
           4.148625691624104,
           4.252341333914706,
           4.286913214678241,
           4.494344499259446,
           4.701775783840651,
           5.531500922165471,
           6.222938537436156,
           0.30649216884580555,
           0.30865775145683333,
           0.31091156150756966,
           0.31512770608232493,
           1.3473715049887698,
           1.422225477488146,
           1.497079449987522,
           1.5719334224868982,
           1.654272792236212,
           1.7964953399850265,
           2.170765202481907,
           2.4701810924794114,
           2.6198890374781634,
           2.844450954976292,
           2.9267903247256055,
           3.06901287247442,
           3.8924065699675574,
           4.865508212459447,
           5.239778074956327,
           5.389486019955079,
           5.614047937453208,
           5.79249980789172,
           6.362587662446969,
           6.512295607445721,
           6.632061963444722,
           6.361136404135775,
           6.695933056985026,
           6.8298517181247265,
           7.030729709834277,
           10.151891593820592,
           1.5388841974752694,
           2.769991555455485,
           3.3855452344455927,
           5.77081574053226,
           6.1555367899010776,
           9.002472555230327,
           9.233305184851616,
           10.002747283589251,
           1.241152451139341,
           2.0442510959942086,
           2.2632779991364456,
           2.3362869668505244,
           2.555313869992761,
           2.6283228377068397,
           3.796466321132102,
           4.8185918691292065,
           5.840717417126311,
           6.5708070942671,
           6.935851932837494,
           3.702462703613122,
           3.790616577508673,
           0.4919614773673868,
           0.7028021105248383,
           0.7730823215773222,
           0.9136427436822898,
           0.9487828492085317,
           0.9839229547347736,
           1.1244833768397413,
           1.560220685365141,
           1.6164448542071281,
           2.951768864204321,
           3.724851185781643,
           6.571199733407238,
           73.00785315887413,
           72.16841570723271,
           78.38983085440793,
           105.76405750197897,
           18.3853483996908,
           19.30461581967534,
           21.60278436963669,
           14.02861796633186,
           54.000535158655346,
           84.14144562802373,
           88.73097902591594,
           114.73833494730509,
           28.374716813705263,
           29.10227365508232,
           29.82983049645938,
           32.012501020590555,
           32.740057861967614,
           33.46761470334467,
           33.700432892585326,
           36.3778420688529,
           37.10539891022996,
           37.97846711988243,
           41.47073995849231,
           42.19829679986937,
           43.65341048262348,
           11.117132148690995,
           12.70529388421828,
           13.022926231323737,
           53.50545316533903,
           58.52158939958956,
           66.88181645667379,
           70.05870273836578,
           70.22590727950747,
           75.242043513758,
           null,
           null,
           9.186746639631725,
           9.554216505216994,
           133.7603008084245,
           4.957133148427944,
           0.28854189034301825,
           0.2975008879225653,
           1.8999178468438862,
           2.8171195660099,
           3.210206017081049,
           3.275720425592907,
           3.570535263896269,
           3.9308645107114883,
           4.127407736247063,
           4.9135806383893605,
           2.3594360320608883,
           2.5116577115486876,
           2.587768551292587,
           2.663879391036487,
           2.7399902307803865,
           2.816101070524286,
           3.044433589755985,
           3.892747677945245,
           0.24189109407368703,
           1.1293037150951057,
           1.5527926082557704,
           1.6586648315459367,
           1.6939555726426587,
           1.7645370548361028,
           1.8351185370295469,
           1.9762815014164352,
           2.1174444658033234,
           2.1880259479967674,
           2.3291889123836556,
           2.3997703945770996,
           2.4703518767705437,
           2.540933358963988,
           0.14130412735127512,
           0.14542396846690644,
           0.14667184907208655,
           0.15600067415507624,
           0.15613329676011772,
           0.15808487474276645,
           0.15891099570109962,
           0.16107318882661356,
           0.1620956674684089,
           0.16548957803968065,
           0.17600480725685996,
           0.18145546221924871,
           0.22932241181319862,
           0.27966147782097395,
           0.3355937733851687,
           0.35796669161084665,
           4.117276095580421,
           4.8892653635017504,
           5.146595119475526,
           0.23931667305561197,
           0.24039745803070184,
           0.24056729566964452,
           0.24384053016563095,
           0.24543082805754887,
           4.037222631321065,
           0.27168113346212863,
           0.27623532587276545,
           0.27736951172215774,
           6.875876841007739,
           6.889628594689754,
           7.059233556767945,
           7.072985310449961,
           7.242590272528152,
           7.425946988288358,
           7.517625346168462,
           8.251052209209288,
           4.238163543245535,
           4.398094242990649,
           4.4780595928632065,
           4.494052662837718,
           4.637990292608321,
           4.717955642480878,
           4.797920992353435,
           4.877886342225993,
           5.357678441461337,
           5.517609141206451,
           5.597574491079008,
           5.757505190824123,
           5.917435890569237,
           6.3972279898045805,
           0.6176959870875309,
           0.7059382709571782,
           0.8824228386964728,
           0.9265439806312964,
           0.97066512256612,
           1.191270832240238,
           1.5001188257840037,
           1.553064196105792,
           8.912470670834374,
           9.177197522443317,
           11.030285483705908,
           12.883373444968502,
           15.001188257840036,
           5.707020314795683,
           5.797607938840059,
           5.888195562884435,
           6.0693708109731865,
           6.159958435017563,
           6.43172130715069,
           7.156422299505698,
           7.247009923550074,
           3.567485390295222,
           3.6566725250526027,
           3.745859659809983,
           3.9242339293247444,
           4.013421064082125,
           4.058014631460815,
           4.102608198839506,
           4.1472017662181955,
           4.191795333596886,
           4.280982468354266,
           4.459356737869028,
           4.548543872626408,
           4.637731007383788,
           4.7269181421411695,
           4.81610527689855,
           4.90529241165593,
           5.083666681170691,
           5.351228085442833,
           5.440415220200213,
           5.904188320938593,
           6.064725163501877,
           6.153912298259258,
           6.51066083728878,
           7.491719319619966,
           6.252844080208379,
           6.472242118110428,
           6.911038193914525,
           7.020737212865549,
           7.075586722341061,
           7.1304362318165735,
           7.240135250767597,
           7.349834269718621,
           7.459533288669646,
           7.56923230762067,
           7.678931326571694,
           7.898329364473742,
           8.008028383424767,
           8.227426421326815,
           9.65351366769013,
           9.872911705592179,
           10.202008762445251,
           6.337862056930891,
           7.023036333355853,
           7.279976687015214,
           7.7082106097808145,
           7.810986751244559,
           8.992912378077618,
           22.52588027424585,
           133.84276070302545,
           136.99200213133193,
           4.073003413452492,
           4.2951672360044455,
           4.665440273591036,
           4.8135494886256724,
           5.405986348764216,
           5.554095563798852,
           11.108191127597705,
           3.3128852965353035,
           3.4454007083967157,
           3.511658414327422,
           3.6441738261888337,
           3.9754623558423643,
           4.04172006177307,
           4.174235473634482,
           7.487120770169786,
           7.75215159389261,
           2.4888905803568924,
           2.5643115070343736,
           2.6397324337118553,
           2.677442897050596,
           2.715153360389337,
           8.145460081168011,
           10.558929734847421,
           3.9921699294024116,
           4.3550944684389945,
           4.500264284053627,
           5.226113362126793,
           5.443868085548743,
           10.887736171097487,
           1.5838818767698761,
           1.7278711382944103,
           1.7998657690566775,
           1.8718603998189445,
           2.015849661343479,
           2.159838922868013,
           2.23183355363028,
           2.303828184392547,
           2.447817445917081,
           2.519812076679348,
           2.5918067074416156,
           6.263532876317237,
           0.18135328697874323,
           0.34231287088535134,
           0.3993650160329099,
           3.644560576800577,
           4.3387625914292585,
           4.512313095086428,
           5.2065151097151094,
           5.38006561337228,
           5.640391368858036,
           11.974984752344753,
           0.27587588061343793,
           3.7634124984246604,
           4.181569442694067,
           4.530033562918573,
           4.669419211008375,
           4.808804859098177,
           5.226961803367584,
           5.575425923592089,
           6.411739812130903,
           10.105459486510663,
           10.802387726959674,
           64.5439326028223,
           75.7315475873115,
           77.45271912338676,
           85.19799103572542,
           86.05857680376306,
           92.08267718002648,
           94.66443448413936,
           72.34813817664002,
           75.07825659840002,
           77.80837502016003,
           79.17343423104002,
           81.90355265280003,
           83.26861186368002,
           88.72884870720003,
           91.45896712896003,
           92.82402633984003,
           95.55414476160003,
           106.47461844864003,
           109.20473687040004,
           0.47632910824983216,
           2.22286917183255,
           3.1755273883322146,
           3.3343037577488253,
           3.524835401048758,
           3.5883459488154026,
           3.8106328659986572,
           4.128185604831879,
           4.20122273476352,
           4.28696197424849,
           4.4457383436651,
           4.763291082498322,
           5.080843821331543,
           5.398396560164764,
           5.588928203464698,
           5.7159492989979865,
           6.033502037831208,
           6.1922784072478185,
           6.351054776664429,
           6.6686075154976505,
           6.986160254330872,
           7.6212657319973145,
           7.938818470830537,
           8.57392394849698,
           11.114345859162752,
           11.431898597995973,
           12.067004075662416,
           13.718278317595168,
           14.289873247494965,
           20.640928024159393,
           69.98467090408529,
           72.82188729208875,
           74.71336488409105,
           75.6591036800922,
           78.49632006809567,
           80.38779766009797,
           105.9227451521291,
           53.27209424222378,
           56.07588867602503,
           57.47778589292566,
           58.87968310982628,
           61.68347754362754,
           63.08537476052816,
           63.78632336897847,
           64.48727197742879,
           65.88916919432941,
           67.29106641123003,
           68.69296362813067,
           70.09486084503129,
           72.89865527883254,
           74.30055249573317,
           75.7024497126338,
           77.10434692953442,
           79.90814136333567,
           81.3100385802363,
           82.71193579713692,
           84.11383301403755,
           85.51573023093817,
           86.9176274478388,
           88.31952466473943,
           89.72142188164005,
           92.5252163154413,
           92.80559575882143,
           95.32901074924256,
           98.1328051830438,
           100.93659961684506,
           105.14229126754694,
           117.75936621965256,
           17.019584194041165,
           17.323505340363326,
           17.931347633007654,
           18.539189925651982,
           19.14703221829631,
           19.450953364618474,
           19.602913937779554,
           19.75487451094064,
           20.0587956572628,
           20.210756230423883,
           20.362716803584963,
           20.666637949907127,
           20.97055909622929,
           21.274480242551455,
           21.57840138887362,
           21.882322535195783,
           22.186243681517947,
           22.49016482784011,
           22.79408597416227,
           23.098007120484436,
           23.705849413128764,
           24.313691705773092,
           25.22545514473958,
           25.83329743738391,
           27.35290316899473,
           28.264666607961217,
           28.56858775428338,
           28.872508900605546,
           30.0881934858942,
           30.240154059055282,
           372.28341250057906,
           480.3656935491343,
           29.828202492083832,
           35.81904000439445,
           34.379767634011856,
           46.57904002027413,
           0.14784773733095657,
           0.06270599725320904,
           0.06318829670693284,
           0.06355919482831207,
           0.07708133475403627,
           0.08000942441839413,
           0.08161314365937183,
           0.08184142507811075,
           0.08569041889539615,
           0.09640172125732067,
           0.12737477114813536,
           0.14222511515264824,
           0.14262293527832384,
           0.14039941631695355,
           0.09855560406840518,
           0.07796657226736174,
           0.07863560210068633,
           0.10721313038168777,
           0.10867190604697996,
           53.7157956687706,
           58.192111974501486,
           14.6116588753603,
           8.595300493348613,
           27.858395318014995,
           2.5056503877471603,
           24.305775269115976,
           12.431063341184128,
           51.97292475544803,
           7.578974411575176,
           9.082242063457855,
           0.47268080930725975,
           3.1602673445134855,
           1.601932298085039,
           1.6612631239400406,
           1.7799247756500434,
           2.670245360511158,
           3.1495201688080323,
           3.519246449494193,
           3.5603271473482105,
           3.7657306366183,
           4.108069785401781,
           4.31347327467187,
           46.134876834987594,
           21.466220580645995,
           31.48379018494746,
           10.734989067935338,
           11.655130988044082,
           13.802128801631149,
           38.05454295569931,
           44.97355076582646,
           14.312201639029437,
           137.23128845008037,
           178.40067498510447,
           183.5468483019825,
           13.952244589935633,
           165.90851217556968,
           187.3160621337077,
           55.17361965335742,
           61.86133112649165,
           66.87711473134233,
           70.22097046790944,
           75.23675407276012,
           76.23991079373025,
           31.15644087237032,
           1.5217715779819783,
           1.7057860776628377,
           3.075325967748937,
           70.19921931131155,
           110.07327810369492,
           117.9356551111017,
           20.80627679189426,
           0.07226607325016107,
           30.509268411148454,
           197.3353492118491,
           206.7322706028895,
           210.4910391593057,
           216.12919199392996,
           219.88796055034612,
           225.5261133849704
          ],
          "sizemode": "area",
          "sizeref": null
         },
         "mode": "markers",
         "name": "",
         "showlegend": false,
         "subplot": "mapbox",
         "type": "scattermapbox"
        }
       ],
       "layout": {
        "coloraxis": {
         "colorbar": {
          "title": {
           "text": "cost_per_km"
          }
         },
         "colorscale": [
          [
           0,
           "blue"
          ],
          [
           1,
           "red"
          ]
         ]
        },
        "height": 700,
        "legend": {
         "itemsizing": "constant",
         "tracegroupgap": 0
        },
        "mapbox": {
         "center": {
          "lat": -7.364302782929935,
          "lon": 57.22644323261145
         },
         "domain": {
          "x": [
           0,
           1
          ],
          "y": [
           0,
           1
          ]
         },
         "style": "carto-positron",
         "zoom": 8
        },
        "margin": {
         "b": 0,
         "l": 0,
         "r": 0,
         "t": 0
        },
        "template": {
         "data": {
          "bar": [
           {
            "error_x": {
             "color": "#2a3f5f"
            },
            "error_y": {
             "color": "#2a3f5f"
            },
            "marker": {
             "line": {
              "color": "#E5ECF6",
              "width": 0.5
             },
             "pattern": {
              "fillmode": "overlay",
              "size": 10,
              "solidity": 0.2
             }
            },
            "type": "bar"
           }
          ],
          "barpolar": [
           {
            "marker": {
             "line": {
              "color": "#E5ECF6",
              "width": 0.5
             },
             "pattern": {
              "fillmode": "overlay",
              "size": 10,
              "solidity": 0.2
             }
            },
            "type": "barpolar"
           }
          ],
          "carpet": [
           {
            "aaxis": {
             "endlinecolor": "#2a3f5f",
             "gridcolor": "white",
             "linecolor": "white",
             "minorgridcolor": "white",
             "startlinecolor": "#2a3f5f"
            },
            "baxis": {
             "endlinecolor": "#2a3f5f",
             "gridcolor": "white",
             "linecolor": "white",
             "minorgridcolor": "white",
             "startlinecolor": "#2a3f5f"
            },
            "type": "carpet"
           }
          ],
          "choropleth": [
           {
            "colorbar": {
             "outlinewidth": 0,
             "ticks": ""
            },
            "type": "choropleth"
           }
          ],
          "contour": [
           {
            "colorbar": {
             "outlinewidth": 0,
             "ticks": ""
            },
            "colorscale": [
             [
              0,
              "#0d0887"
             ],
             [
              0.1111111111111111,
              "#46039f"
             ],
             [
              0.2222222222222222,
              "#7201a8"
             ],
             [
              0.3333333333333333,
              "#9c179e"
             ],
             [
              0.4444444444444444,
              "#bd3786"
             ],
             [
              0.5555555555555556,
              "#d8576b"
             ],
             [
              0.6666666666666666,
              "#ed7953"
             ],
             [
              0.7777777777777778,
              "#fb9f3a"
             ],
             [
              0.8888888888888888,
              "#fdca26"
             ],
             [
              1,
              "#f0f921"
             ]
            ],
            "type": "contour"
           }
          ],
          "contourcarpet": [
           {
            "colorbar": {
             "outlinewidth": 0,
             "ticks": ""
            },
            "type": "contourcarpet"
           }
          ],
          "heatmap": [
           {
            "colorbar": {
             "outlinewidth": 0,
             "ticks": ""
            },
            "colorscale": [
             [
              0,
              "#0d0887"
             ],
             [
              0.1111111111111111,
              "#46039f"
             ],
             [
              0.2222222222222222,
              "#7201a8"
             ],
             [
              0.3333333333333333,
              "#9c179e"
             ],
             [
              0.4444444444444444,
              "#bd3786"
             ],
             [
              0.5555555555555556,
              "#d8576b"
             ],
             [
              0.6666666666666666,
              "#ed7953"
             ],
             [
              0.7777777777777778,
              "#fb9f3a"
             ],
             [
              0.8888888888888888,
              "#fdca26"
             ],
             [
              1,
              "#f0f921"
             ]
            ],
            "type": "heatmap"
           }
          ],
          "heatmapgl": [
           {
            "colorbar": {
             "outlinewidth": 0,
             "ticks": ""
            },
            "colorscale": [
             [
              0,
              "#0d0887"
             ],
             [
              0.1111111111111111,
              "#46039f"
             ],
             [
              0.2222222222222222,
              "#7201a8"
             ],
             [
              0.3333333333333333,
              "#9c179e"
             ],
             [
              0.4444444444444444,
              "#bd3786"
             ],
             [
              0.5555555555555556,
              "#d8576b"
             ],
             [
              0.6666666666666666,
              "#ed7953"
             ],
             [
              0.7777777777777778,
              "#fb9f3a"
             ],
             [
              0.8888888888888888,
              "#fdca26"
             ],
             [
              1,
              "#f0f921"
             ]
            ],
            "type": "heatmapgl"
           }
          ],
          "histogram": [
           {
            "marker": {
             "pattern": {
              "fillmode": "overlay",
              "size": 10,
              "solidity": 0.2
             }
            },
            "type": "histogram"
           }
          ],
          "histogram2d": [
           {
            "colorbar": {
             "outlinewidth": 0,
             "ticks": ""
            },
            "colorscale": [
             [
              0,
              "#0d0887"
             ],
             [
              0.1111111111111111,
              "#46039f"
             ],
             [
              0.2222222222222222,
              "#7201a8"
             ],
             [
              0.3333333333333333,
              "#9c179e"
             ],
             [
              0.4444444444444444,
              "#bd3786"
             ],
             [
              0.5555555555555556,
              "#d8576b"
             ],
             [
              0.6666666666666666,
              "#ed7953"
             ],
             [
              0.7777777777777778,
              "#fb9f3a"
             ],
             [
              0.8888888888888888,
              "#fdca26"
             ],
             [
              1,
              "#f0f921"
             ]
            ],
            "type": "histogram2d"
           }
          ],
          "histogram2dcontour": [
           {
            "colorbar": {
             "outlinewidth": 0,
             "ticks": ""
            },
            "colorscale": [
             [
              0,
              "#0d0887"
             ],
             [
              0.1111111111111111,
              "#46039f"
             ],
             [
              0.2222222222222222,
              "#7201a8"
             ],
             [
              0.3333333333333333,
              "#9c179e"
             ],
             [
              0.4444444444444444,
              "#bd3786"
             ],
             [
              0.5555555555555556,
              "#d8576b"
             ],
             [
              0.6666666666666666,
              "#ed7953"
             ],
             [
              0.7777777777777778,
              "#fb9f3a"
             ],
             [
              0.8888888888888888,
              "#fdca26"
             ],
             [
              1,
              "#f0f921"
             ]
            ],
            "type": "histogram2dcontour"
           }
          ],
          "mesh3d": [
           {
            "colorbar": {
             "outlinewidth": 0,
             "ticks": ""
            },
            "type": "mesh3d"
           }
          ],
          "parcoords": [
           {
            "line": {
             "colorbar": {
              "outlinewidth": 0,
              "ticks": ""
             }
            },
            "type": "parcoords"
           }
          ],
          "pie": [
           {
            "automargin": true,
            "type": "pie"
           }
          ],
          "scatter": [
           {
            "fillpattern": {
             "fillmode": "overlay",
             "size": 10,
             "solidity": 0.2
            },
            "type": "scatter"
           }
          ],
          "scatter3d": [
           {
            "line": {
             "colorbar": {
              "outlinewidth": 0,
              "ticks": ""
             }
            },
            "marker": {
             "colorbar": {
              "outlinewidth": 0,
              "ticks": ""
             }
            },
            "type": "scatter3d"
           }
          ],
          "scattercarpet": [
           {
            "marker": {
             "colorbar": {
              "outlinewidth": 0,
              "ticks": ""
             }
            },
            "type": "scattercarpet"
           }
          ],
          "scattergeo": [
           {
            "marker": {
             "colorbar": {
              "outlinewidth": 0,
              "ticks": ""
             }
            },
            "type": "scattergeo"
           }
          ],
          "scattergl": [
           {
            "marker": {
             "colorbar": {
              "outlinewidth": 0,
              "ticks": ""
             }
            },
            "type": "scattergl"
           }
          ],
          "scattermapbox": [
           {
            "marker": {
             "colorbar": {
              "outlinewidth": 0,
              "ticks": ""
             }
            },
            "type": "scattermapbox"
           }
          ],
          "scatterpolar": [
           {
            "marker": {
             "colorbar": {
              "outlinewidth": 0,
              "ticks": ""
             }
            },
            "type": "scatterpolar"
           }
          ],
          "scatterpolargl": [
           {
            "marker": {
             "colorbar": {
              "outlinewidth": 0,
              "ticks": ""
             }
            },
            "type": "scatterpolargl"
           }
          ],
          "scatterternary": [
           {
            "marker": {
             "colorbar": {
              "outlinewidth": 0,
              "ticks": ""
             }
            },
            "type": "scatterternary"
           }
          ],
          "surface": [
           {
            "colorbar": {
             "outlinewidth": 0,
             "ticks": ""
            },
            "colorscale": [
             [
              0,
              "#0d0887"
             ],
             [
              0.1111111111111111,
              "#46039f"
             ],
             [
              0.2222222222222222,
              "#7201a8"
             ],
             [
              0.3333333333333333,
              "#9c179e"
             ],
             [
              0.4444444444444444,
              "#bd3786"
             ],
             [
              0.5555555555555556,
              "#d8576b"
             ],
             [
              0.6666666666666666,
              "#ed7953"
             ],
             [
              0.7777777777777778,
              "#fb9f3a"
             ],
             [
              0.8888888888888888,
              "#fdca26"
             ],
             [
              1,
              "#f0f921"
             ]
            ],
            "type": "surface"
           }
          ],
          "table": [
           {
            "cells": {
             "fill": {
              "color": "#EBF0F8"
             },
             "line": {
              "color": "white"
             }
            },
            "header": {
             "fill": {
              "color": "#C8D4E3"
             },
             "line": {
              "color": "white"
             }
            },
            "type": "table"
           }
          ]
         },
         "layout": {
          "annotationdefaults": {
           "arrowcolor": "#2a3f5f",
           "arrowhead": 0,
           "arrowwidth": 1
          },
          "autotypenumbers": "strict",
          "coloraxis": {
           "colorbar": {
            "outlinewidth": 0,
            "ticks": ""
           }
          },
          "colorscale": {
           "diverging": [
            [
             0,
             "#8e0152"
            ],
            [
             0.1,
             "#c51b7d"
            ],
            [
             0.2,
             "#de77ae"
            ],
            [
             0.3,
             "#f1b6da"
            ],
            [
             0.4,
             "#fde0ef"
            ],
            [
             0.5,
             "#f7f7f7"
            ],
            [
             0.6,
             "#e6f5d0"
            ],
            [
             0.7,
             "#b8e186"
            ],
            [
             0.8,
             "#7fbc41"
            ],
            [
             0.9,
             "#4d9221"
            ],
            [
             1,
             "#276419"
            ]
           ],
           "sequential": [
            [
             0,
             "#0d0887"
            ],
            [
             0.1111111111111111,
             "#46039f"
            ],
            [
             0.2222222222222222,
             "#7201a8"
            ],
            [
             0.3333333333333333,
             "#9c179e"
            ],
            [
             0.4444444444444444,
             "#bd3786"
            ],
            [
             0.5555555555555556,
             "#d8576b"
            ],
            [
             0.6666666666666666,
             "#ed7953"
            ],
            [
             0.7777777777777778,
             "#fb9f3a"
            ],
            [
             0.8888888888888888,
             "#fdca26"
            ],
            [
             1,
             "#f0f921"
            ]
           ],
           "sequentialminus": [
            [
             0,
             "#0d0887"
            ],
            [
             0.1111111111111111,
             "#46039f"
            ],
            [
             0.2222222222222222,
             "#7201a8"
            ],
            [
             0.3333333333333333,
             "#9c179e"
            ],
            [
             0.4444444444444444,
             "#bd3786"
            ],
            [
             0.5555555555555556,
             "#d8576b"
            ],
            [
             0.6666666666666666,
             "#ed7953"
            ],
            [
             0.7777777777777778,
             "#fb9f3a"
            ],
            [
             0.8888888888888888,
             "#fdca26"
            ],
            [
             1,
             "#f0f921"
            ]
           ]
          },
          "colorway": [
           "#636efa",
           "#EF553B",
           "#00cc96",
           "#ab63fa",
           "#FFA15A",
           "#19d3f3",
           "#FF6692",
           "#B6E880",
           "#FF97FF",
           "#FECB52"
          ],
          "font": {
           "color": "#2a3f5f"
          },
          "geo": {
           "bgcolor": "white",
           "lakecolor": "white",
           "landcolor": "#E5ECF6",
           "showlakes": true,
           "showland": true,
           "subunitcolor": "white"
          },
          "hoverlabel": {
           "align": "left"
          },
          "hovermode": "closest",
          "mapbox": {
           "style": "light"
          },
          "paper_bgcolor": "white",
          "plot_bgcolor": "#E5ECF6",
          "polar": {
           "angularaxis": {
            "gridcolor": "white",
            "linecolor": "white",
            "ticks": ""
           },
           "bgcolor": "#E5ECF6",
           "radialaxis": {
            "gridcolor": "white",
            "linecolor": "white",
            "ticks": ""
           }
          },
          "scene": {
           "xaxis": {
            "backgroundcolor": "#E5ECF6",
            "gridcolor": "white",
            "gridwidth": 2,
            "linecolor": "white",
            "showbackground": true,
            "ticks": "",
            "zerolinecolor": "white"
           },
           "yaxis": {
            "backgroundcolor": "#E5ECF6",
            "gridcolor": "white",
            "gridwidth": 2,
            "linecolor": "white",
            "showbackground": true,
            "ticks": "",
            "zerolinecolor": "white"
           },
           "zaxis": {
            "backgroundcolor": "#E5ECF6",
            "gridcolor": "white",
            "gridwidth": 2,
            "linecolor": "white",
            "showbackground": true,
            "ticks": "",
            "zerolinecolor": "white"
           }
          },
          "shapedefaults": {
           "line": {
            "color": "#2a3f5f"
           }
          },
          "ternary": {
           "aaxis": {
            "gridcolor": "white",
            "linecolor": "white",
            "ticks": ""
           },
           "baxis": {
            "gridcolor": "white",
            "linecolor": "white",
            "ticks": ""
           },
           "bgcolor": "#E5ECF6",
           "caxis": {
            "gridcolor": "white",
            "linecolor": "white",
            "ticks": ""
           }
          },
          "title": {
           "x": 0.05
          },
          "xaxis": {
           "automargin": true,
           "gridcolor": "white",
           "linecolor": "white",
           "ticks": "",
           "title": {
            "standoff": 15
           },
           "zerolinecolor": "white",
           "zerolinewidth": 2
          },
          "yaxis": {
           "automargin": true,
           "gridcolor": "white",
           "linecolor": "white",
           "ticks": "",
           "title": {
            "standoff": 15
           },
           "zerolinecolor": "white",
           "zerolinewidth": 2
          }
         }
        },
        "width": 700
       }
      }
     },
     "metadata": {},
     "output_type": "display_data"
    }
   ],
   "source": [
    "import plotly.express as px\n",
    "#!pip install plotly\n",
    "color_scale = [(0, 'blue'), (1,'red')]\n",
    "\n",
    "fig = px.scatter_mapbox(demand, \n",
    "                        lat=\"lat_city\", \n",
    "                        lon=\"long_city\", \n",
    "                        hover_name=\"delivery_point\", \n",
    "                        hover_data=[\"mill\", \"cost_per_km\"],\n",
    "                        color=\"cost_per_km\",\n",
    "                        color_continuous_scale=color_scale,\n",
    "                        size=\"cost_per_km\",\n",
    "                        zoom=8, \n",
    "                        height=700,\n",
    "                        width=700)\n",
    "\n",
    "fig.update_layout(mapbox_style=\"carto-positron\")\n",
    "fig.update_layout(margin={\"r\":0,\"t\":0,\"l\":0,\"b\":0})\n",
    "fig.show()"
   ]
  },
  {
   "cell_type": "code",
   "execution_count": 35,
   "metadata": {},
   "outputs": [
    {
     "data": {
      "application/vnd.plotly.v1+json": {
       "config": {
        "plotlyServerURL": "https://plot.ly"
       },
       "data": [
        {
         "customdata": [
          [
           "Adelaide",
           1396
          ],
          [
           "Brisbane",
           1791
          ],
          [
           "Canberra",
           862
          ],
          [
           "Darwin",
           2540
          ],
          [
           "Hobart",
           1040
          ],
          [
           "Melbourne",
           3892
          ],
          [
           "Perth",
           1446
          ]
         ],
         "hovertemplate": "<b>%{hovertext}</b><br><br>delivery_point=%{marker.color}<br>lat_mill=%{lat}<br>long_mill=%{lon}<br>mill=%{customdata[0]}<br>delivery=%{customdata[1]}<extra></extra>",
         "hovertext": [
          "Adelaide",
          "Brisbane",
          "Canberra",
          "Darwin",
          "Hobart",
          "Melbourne",
          "Perth"
         ],
         "lat": [
          -34.9281805,
          -27.4689682,
          -35.2975906,
          -12.46044,
          -42.8825088,
          -37.8142454,
          -31.9558933
         ],
         "legendgroup": "",
         "lon": [
          138.5999312,
          153.0234991,
          149.1012676,
          130.8410469,
          147.3281233,
          144.9631732,
          115.8605855
         ],
         "marker": {
          "color": [
           77,
           93,
           55,
           99,
           75,
           128,
           108
          ],
          "coloraxis": "coloraxis",
          "size": [
           77,
           93,
           55,
           99,
           75,
           128,
           108
          ],
          "sizemode": "area",
          "sizeref": 0.32
         },
         "mode": "markers",
         "name": "",
         "showlegend": false,
         "subplot": "mapbox",
         "type": "scattermapbox"
        }
       ],
       "layout": {
        "coloraxis": {
         "colorbar": {
          "title": {
           "text": "delivery_point"
          }
         },
         "colorscale": [
          [
           0,
           "orange"
          ],
          [
           1,
           "red"
          ]
         ]
        },
        "height": 700,
        "legend": {
         "itemsizing": "constant",
         "tracegroupgap": 0
        },
        "mapbox": {
         "center": {
          "lat": -31.82968954285715,
          "lon": 139.95966097142858
         },
         "domain": {
          "x": [
           0,
           1
          ],
          "y": [
           0,
           1
          ]
         },
         "style": "carto-positron",
         "zoom": 8
        },
        "margin": {
         "b": 0,
         "l": 0,
         "r": 0,
         "t": 0
        },
        "template": {
         "data": {
          "bar": [
           {
            "error_x": {
             "color": "#2a3f5f"
            },
            "error_y": {
             "color": "#2a3f5f"
            },
            "marker": {
             "line": {
              "color": "#E5ECF6",
              "width": 0.5
             },
             "pattern": {
              "fillmode": "overlay",
              "size": 10,
              "solidity": 0.2
             }
            },
            "type": "bar"
           }
          ],
          "barpolar": [
           {
            "marker": {
             "line": {
              "color": "#E5ECF6",
              "width": 0.5
             },
             "pattern": {
              "fillmode": "overlay",
              "size": 10,
              "solidity": 0.2
             }
            },
            "type": "barpolar"
           }
          ],
          "carpet": [
           {
            "aaxis": {
             "endlinecolor": "#2a3f5f",
             "gridcolor": "white",
             "linecolor": "white",
             "minorgridcolor": "white",
             "startlinecolor": "#2a3f5f"
            },
            "baxis": {
             "endlinecolor": "#2a3f5f",
             "gridcolor": "white",
             "linecolor": "white",
             "minorgridcolor": "white",
             "startlinecolor": "#2a3f5f"
            },
            "type": "carpet"
           }
          ],
          "choropleth": [
           {
            "colorbar": {
             "outlinewidth": 0,
             "ticks": ""
            },
            "type": "choropleth"
           }
          ],
          "contour": [
           {
            "colorbar": {
             "outlinewidth": 0,
             "ticks": ""
            },
            "colorscale": [
             [
              0,
              "#0d0887"
             ],
             [
              0.1111111111111111,
              "#46039f"
             ],
             [
              0.2222222222222222,
              "#7201a8"
             ],
             [
              0.3333333333333333,
              "#9c179e"
             ],
             [
              0.4444444444444444,
              "#bd3786"
             ],
             [
              0.5555555555555556,
              "#d8576b"
             ],
             [
              0.6666666666666666,
              "#ed7953"
             ],
             [
              0.7777777777777778,
              "#fb9f3a"
             ],
             [
              0.8888888888888888,
              "#fdca26"
             ],
             [
              1,
              "#f0f921"
             ]
            ],
            "type": "contour"
           }
          ],
          "contourcarpet": [
           {
            "colorbar": {
             "outlinewidth": 0,
             "ticks": ""
            },
            "type": "contourcarpet"
           }
          ],
          "heatmap": [
           {
            "colorbar": {
             "outlinewidth": 0,
             "ticks": ""
            },
            "colorscale": [
             [
              0,
              "#0d0887"
             ],
             [
              0.1111111111111111,
              "#46039f"
             ],
             [
              0.2222222222222222,
              "#7201a8"
             ],
             [
              0.3333333333333333,
              "#9c179e"
             ],
             [
              0.4444444444444444,
              "#bd3786"
             ],
             [
              0.5555555555555556,
              "#d8576b"
             ],
             [
              0.6666666666666666,
              "#ed7953"
             ],
             [
              0.7777777777777778,
              "#fb9f3a"
             ],
             [
              0.8888888888888888,
              "#fdca26"
             ],
             [
              1,
              "#f0f921"
             ]
            ],
            "type": "heatmap"
           }
          ],
          "heatmapgl": [
           {
            "colorbar": {
             "outlinewidth": 0,
             "ticks": ""
            },
            "colorscale": [
             [
              0,
              "#0d0887"
             ],
             [
              0.1111111111111111,
              "#46039f"
             ],
             [
              0.2222222222222222,
              "#7201a8"
             ],
             [
              0.3333333333333333,
              "#9c179e"
             ],
             [
              0.4444444444444444,
              "#bd3786"
             ],
             [
              0.5555555555555556,
              "#d8576b"
             ],
             [
              0.6666666666666666,
              "#ed7953"
             ],
             [
              0.7777777777777778,
              "#fb9f3a"
             ],
             [
              0.8888888888888888,
              "#fdca26"
             ],
             [
              1,
              "#f0f921"
             ]
            ],
            "type": "heatmapgl"
           }
          ],
          "histogram": [
           {
            "marker": {
             "pattern": {
              "fillmode": "overlay",
              "size": 10,
              "solidity": 0.2
             }
            },
            "type": "histogram"
           }
          ],
          "histogram2d": [
           {
            "colorbar": {
             "outlinewidth": 0,
             "ticks": ""
            },
            "colorscale": [
             [
              0,
              "#0d0887"
             ],
             [
              0.1111111111111111,
              "#46039f"
             ],
             [
              0.2222222222222222,
              "#7201a8"
             ],
             [
              0.3333333333333333,
              "#9c179e"
             ],
             [
              0.4444444444444444,
              "#bd3786"
             ],
             [
              0.5555555555555556,
              "#d8576b"
             ],
             [
              0.6666666666666666,
              "#ed7953"
             ],
             [
              0.7777777777777778,
              "#fb9f3a"
             ],
             [
              0.8888888888888888,
              "#fdca26"
             ],
             [
              1,
              "#f0f921"
             ]
            ],
            "type": "histogram2d"
           }
          ],
          "histogram2dcontour": [
           {
            "colorbar": {
             "outlinewidth": 0,
             "ticks": ""
            },
            "colorscale": [
             [
              0,
              "#0d0887"
             ],
             [
              0.1111111111111111,
              "#46039f"
             ],
             [
              0.2222222222222222,
              "#7201a8"
             ],
             [
              0.3333333333333333,
              "#9c179e"
             ],
             [
              0.4444444444444444,
              "#bd3786"
             ],
             [
              0.5555555555555556,
              "#d8576b"
             ],
             [
              0.6666666666666666,
              "#ed7953"
             ],
             [
              0.7777777777777778,
              "#fb9f3a"
             ],
             [
              0.8888888888888888,
              "#fdca26"
             ],
             [
              1,
              "#f0f921"
             ]
            ],
            "type": "histogram2dcontour"
           }
          ],
          "mesh3d": [
           {
            "colorbar": {
             "outlinewidth": 0,
             "ticks": ""
            },
            "type": "mesh3d"
           }
          ],
          "parcoords": [
           {
            "line": {
             "colorbar": {
              "outlinewidth": 0,
              "ticks": ""
             }
            },
            "type": "parcoords"
           }
          ],
          "pie": [
           {
            "automargin": true,
            "type": "pie"
           }
          ],
          "scatter": [
           {
            "fillpattern": {
             "fillmode": "overlay",
             "size": 10,
             "solidity": 0.2
            },
            "type": "scatter"
           }
          ],
          "scatter3d": [
           {
            "line": {
             "colorbar": {
              "outlinewidth": 0,
              "ticks": ""
             }
            },
            "marker": {
             "colorbar": {
              "outlinewidth": 0,
              "ticks": ""
             }
            },
            "type": "scatter3d"
           }
          ],
          "scattercarpet": [
           {
            "marker": {
             "colorbar": {
              "outlinewidth": 0,
              "ticks": ""
             }
            },
            "type": "scattercarpet"
           }
          ],
          "scattergeo": [
           {
            "marker": {
             "colorbar": {
              "outlinewidth": 0,
              "ticks": ""
             }
            },
            "type": "scattergeo"
           }
          ],
          "scattergl": [
           {
            "marker": {
             "colorbar": {
              "outlinewidth": 0,
              "ticks": ""
             }
            },
            "type": "scattergl"
           }
          ],
          "scattermapbox": [
           {
            "marker": {
             "colorbar": {
              "outlinewidth": 0,
              "ticks": ""
             }
            },
            "type": "scattermapbox"
           }
          ],
          "scatterpolar": [
           {
            "marker": {
             "colorbar": {
              "outlinewidth": 0,
              "ticks": ""
             }
            },
            "type": "scatterpolar"
           }
          ],
          "scatterpolargl": [
           {
            "marker": {
             "colorbar": {
              "outlinewidth": 0,
              "ticks": ""
             }
            },
            "type": "scatterpolargl"
           }
          ],
          "scatterternary": [
           {
            "marker": {
             "colorbar": {
              "outlinewidth": 0,
              "ticks": ""
             }
            },
            "type": "scatterternary"
           }
          ],
          "surface": [
           {
            "colorbar": {
             "outlinewidth": 0,
             "ticks": ""
            },
            "colorscale": [
             [
              0,
              "#0d0887"
             ],
             [
              0.1111111111111111,
              "#46039f"
             ],
             [
              0.2222222222222222,
              "#7201a8"
             ],
             [
              0.3333333333333333,
              "#9c179e"
             ],
             [
              0.4444444444444444,
              "#bd3786"
             ],
             [
              0.5555555555555556,
              "#d8576b"
             ],
             [
              0.6666666666666666,
              "#ed7953"
             ],
             [
              0.7777777777777778,
              "#fb9f3a"
             ],
             [
              0.8888888888888888,
              "#fdca26"
             ],
             [
              1,
              "#f0f921"
             ]
            ],
            "type": "surface"
           }
          ],
          "table": [
           {
            "cells": {
             "fill": {
              "color": "#EBF0F8"
             },
             "line": {
              "color": "white"
             }
            },
            "header": {
             "fill": {
              "color": "#C8D4E3"
             },
             "line": {
              "color": "white"
             }
            },
            "type": "table"
           }
          ]
         },
         "layout": {
          "annotationdefaults": {
           "arrowcolor": "#2a3f5f",
           "arrowhead": 0,
           "arrowwidth": 1
          },
          "autotypenumbers": "strict",
          "coloraxis": {
           "colorbar": {
            "outlinewidth": 0,
            "ticks": ""
           }
          },
          "colorscale": {
           "diverging": [
            [
             0,
             "#8e0152"
            ],
            [
             0.1,
             "#c51b7d"
            ],
            [
             0.2,
             "#de77ae"
            ],
            [
             0.3,
             "#f1b6da"
            ],
            [
             0.4,
             "#fde0ef"
            ],
            [
             0.5,
             "#f7f7f7"
            ],
            [
             0.6,
             "#e6f5d0"
            ],
            [
             0.7,
             "#b8e186"
            ],
            [
             0.8,
             "#7fbc41"
            ],
            [
             0.9,
             "#4d9221"
            ],
            [
             1,
             "#276419"
            ]
           ],
           "sequential": [
            [
             0,
             "#0d0887"
            ],
            [
             0.1111111111111111,
             "#46039f"
            ],
            [
             0.2222222222222222,
             "#7201a8"
            ],
            [
             0.3333333333333333,
             "#9c179e"
            ],
            [
             0.4444444444444444,
             "#bd3786"
            ],
            [
             0.5555555555555556,
             "#d8576b"
            ],
            [
             0.6666666666666666,
             "#ed7953"
            ],
            [
             0.7777777777777778,
             "#fb9f3a"
            ],
            [
             0.8888888888888888,
             "#fdca26"
            ],
            [
             1,
             "#f0f921"
            ]
           ],
           "sequentialminus": [
            [
             0,
             "#0d0887"
            ],
            [
             0.1111111111111111,
             "#46039f"
            ],
            [
             0.2222222222222222,
             "#7201a8"
            ],
            [
             0.3333333333333333,
             "#9c179e"
            ],
            [
             0.4444444444444444,
             "#bd3786"
            ],
            [
             0.5555555555555556,
             "#d8576b"
            ],
            [
             0.6666666666666666,
             "#ed7953"
            ],
            [
             0.7777777777777778,
             "#fb9f3a"
            ],
            [
             0.8888888888888888,
             "#fdca26"
            ],
            [
             1,
             "#f0f921"
            ]
           ]
          },
          "colorway": [
           "#636efa",
           "#EF553B",
           "#00cc96",
           "#ab63fa",
           "#FFA15A",
           "#19d3f3",
           "#FF6692",
           "#B6E880",
           "#FF97FF",
           "#FECB52"
          ],
          "font": {
           "color": "#2a3f5f"
          },
          "geo": {
           "bgcolor": "white",
           "lakecolor": "white",
           "landcolor": "#E5ECF6",
           "showlakes": true,
           "showland": true,
           "subunitcolor": "white"
          },
          "hoverlabel": {
           "align": "left"
          },
          "hovermode": "closest",
          "mapbox": {
           "style": "light"
          },
          "paper_bgcolor": "white",
          "plot_bgcolor": "#E5ECF6",
          "polar": {
           "angularaxis": {
            "gridcolor": "white",
            "linecolor": "white",
            "ticks": ""
           },
           "bgcolor": "#E5ECF6",
           "radialaxis": {
            "gridcolor": "white",
            "linecolor": "white",
            "ticks": ""
           }
          },
          "scene": {
           "xaxis": {
            "backgroundcolor": "#E5ECF6",
            "gridcolor": "white",
            "gridwidth": 2,
            "linecolor": "white",
            "showbackground": true,
            "ticks": "",
            "zerolinecolor": "white"
           },
           "yaxis": {
            "backgroundcolor": "#E5ECF6",
            "gridcolor": "white",
            "gridwidth": 2,
            "linecolor": "white",
            "showbackground": true,
            "ticks": "",
            "zerolinecolor": "white"
           },
           "zaxis": {
            "backgroundcolor": "#E5ECF6",
            "gridcolor": "white",
            "gridwidth": 2,
            "linecolor": "white",
            "showbackground": true,
            "ticks": "",
            "zerolinecolor": "white"
           }
          },
          "shapedefaults": {
           "line": {
            "color": "#2a3f5f"
           }
          },
          "ternary": {
           "aaxis": {
            "gridcolor": "white",
            "linecolor": "white",
            "ticks": ""
           },
           "baxis": {
            "gridcolor": "white",
            "linecolor": "white",
            "ticks": ""
           },
           "bgcolor": "#E5ECF6",
           "caxis": {
            "gridcolor": "white",
            "linecolor": "white",
            "ticks": ""
           }
          },
          "title": {
           "x": 0.05
          },
          "xaxis": {
           "automargin": true,
           "gridcolor": "white",
           "linecolor": "white",
           "ticks": "",
           "title": {
            "standoff": 15
           },
           "zerolinecolor": "white",
           "zerolinewidth": 2
          },
          "yaxis": {
           "automargin": true,
           "gridcolor": "white",
           "linecolor": "white",
           "ticks": "",
           "title": {
            "standoff": 15
           },
           "zerolinecolor": "white",
           "zerolinewidth": 2
          }
         }
        },
        "width": 700
       }
      }
     },
     "metadata": {},
     "output_type": "display_data"
    }
   ],
   "source": [
    "import plotly.express as px\n",
    "color_scale = [(0, 'orange'), (1,'red')]\n",
    "\n",
    "fig = px.scatter_mapbox(viz_AU, \n",
    "                        lat=\"lat_mill\", \n",
    "                        lon=\"long_mill\", \n",
    "                        hover_name=\"mill\", \n",
    "                        hover_data=[\"mill\", \"delivery\"],\n",
    "                        color=\"delivery_point\",\n",
    "                        color_continuous_scale=color_scale,\n",
    "                        size=\"delivery_point\",\n",
    "                        zoom=8, \n",
    "                        height=700,\n",
    "                        width=700)\n",
    "\n",
    "fig.update_layout(mapbox_style=\"carto-positron\")\n",
    "fig.update_layout(margin={\"r\":0,\"t\":0,\"l\":0,\"b\":0})\n",
    "fig.show()"
   ]
  }
 ],
 "metadata": {
  "kernelspec": {
   "display_name": "Python 3.11.0 64-bit",
   "language": "python",
   "name": "python3"
  },
  "language_info": {
   "codemirror_mode": {
    "name": "ipython",
    "version": 3
   },
   "file_extension": ".py",
   "mimetype": "text/x-python",
   "name": "python",
   "nbconvert_exporter": "python",
   "pygments_lexer": "ipython3",
   "version": "3.11.3"
  },
  "orig_nbformat": 4,
  "vscode": {
   "interpreter": {
    "hash": "d4ca170f306ca5ee8aa640b41f72b4fdd4c7f1e8d0f6ea887d8501278c7a7edc"
   }
  }
 },
 "nbformat": 4,
 "nbformat_minor": 2
}
